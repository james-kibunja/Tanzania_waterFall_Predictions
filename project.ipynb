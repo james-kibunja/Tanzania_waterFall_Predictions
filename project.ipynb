{
 "cells": [
  {
   "cell_type": "markdown",
   "metadata": {},
   "source": [
    "### Objective of the study"
   ]
  },
  {
   "cell_type": "markdown",
   "metadata": {},
   "source": [
    "### IMPORT LIBRARIES\n",
    "\n",
    "\n",
    "- Tanzania, as a developing country, struggles with providing clean water to its population of over 57,000,000. There are many water points already established in the country, but some are in need of repair while others have failed altogether.\n",
    "\n",
    "- Build a classifier to predict the condition of a water well, using information about the sort of pump, when it was installed, etc. Your audience could be an NGO focused on locating wells needing repair, or the Government of Tanzania looking to find patterns in non-functional wells to influence how new wells are built. Note that this is a ternary classification problem by default, but can be engineered to be binary."
   ]
  },
  {
   "cell_type": "code",
   "execution_count": 97,
   "metadata": {},
   "outputs": [],
   "source": [
    "import numpy as np\n",
    "import pandas as pd\n",
    "import matplotlib.pyplot as plt\n",
    "import seaborn as sns\n"
   ]
  },
  {
   "cell_type": "markdown",
   "metadata": {},
   "source": [
    "### 1.1 Read the Dataset "
   ]
  },
  {
   "cell_type": "code",
   "execution_count": 98,
   "metadata": {},
   "outputs": [
    {
     "data": {
      "text/html": [
       "<div>\n",
       "<style scoped>\n",
       "    .dataframe tbody tr th:only-of-type {\n",
       "        vertical-align: middle;\n",
       "    }\n",
       "\n",
       "    .dataframe tbody tr th {\n",
       "        vertical-align: top;\n",
       "    }\n",
       "\n",
       "    .dataframe thead th {\n",
       "        text-align: right;\n",
       "    }\n",
       "</style>\n",
       "<table border=\"1\" class=\"dataframe\">\n",
       "  <thead>\n",
       "    <tr style=\"text-align: right;\">\n",
       "      <th></th>\n",
       "      <th>id</th>\n",
       "      <th>amount_tsh</th>\n",
       "      <th>date_recorded</th>\n",
       "      <th>funder</th>\n",
       "      <th>gps_height</th>\n",
       "      <th>installer</th>\n",
       "      <th>longitude</th>\n",
       "      <th>latitude</th>\n",
       "      <th>wpt_name</th>\n",
       "      <th>num_private</th>\n",
       "      <th>...</th>\n",
       "      <th>payment_type</th>\n",
       "      <th>water_quality</th>\n",
       "      <th>quality_group</th>\n",
       "      <th>quantity</th>\n",
       "      <th>quantity_group</th>\n",
       "      <th>source</th>\n",
       "      <th>source_type</th>\n",
       "      <th>source_class</th>\n",
       "      <th>waterpoint_type</th>\n",
       "      <th>waterpoint_type_group</th>\n",
       "    </tr>\n",
       "  </thead>\n",
       "  <tbody>\n",
       "    <tr>\n",
       "      <th>0</th>\n",
       "      <td>69572</td>\n",
       "      <td>6000.0</td>\n",
       "      <td>2011-03-14</td>\n",
       "      <td>Roman</td>\n",
       "      <td>1390</td>\n",
       "      <td>Roman</td>\n",
       "      <td>34.938093</td>\n",
       "      <td>-9.856322</td>\n",
       "      <td>none</td>\n",
       "      <td>0</td>\n",
       "      <td>...</td>\n",
       "      <td>annually</td>\n",
       "      <td>soft</td>\n",
       "      <td>good</td>\n",
       "      <td>enough</td>\n",
       "      <td>enough</td>\n",
       "      <td>spring</td>\n",
       "      <td>spring</td>\n",
       "      <td>groundwater</td>\n",
       "      <td>communal standpipe</td>\n",
       "      <td>communal standpipe</td>\n",
       "    </tr>\n",
       "    <tr>\n",
       "      <th>1</th>\n",
       "      <td>8776</td>\n",
       "      <td>0.0</td>\n",
       "      <td>2013-03-06</td>\n",
       "      <td>Grumeti</td>\n",
       "      <td>1399</td>\n",
       "      <td>GRUMETI</td>\n",
       "      <td>34.698766</td>\n",
       "      <td>-2.147466</td>\n",
       "      <td>Zahanati</td>\n",
       "      <td>0</td>\n",
       "      <td>...</td>\n",
       "      <td>never pay</td>\n",
       "      <td>soft</td>\n",
       "      <td>good</td>\n",
       "      <td>insufficient</td>\n",
       "      <td>insufficient</td>\n",
       "      <td>rainwater harvesting</td>\n",
       "      <td>rainwater harvesting</td>\n",
       "      <td>surface</td>\n",
       "      <td>communal standpipe</td>\n",
       "      <td>communal standpipe</td>\n",
       "    </tr>\n",
       "    <tr>\n",
       "      <th>2</th>\n",
       "      <td>34310</td>\n",
       "      <td>25.0</td>\n",
       "      <td>2013-02-25</td>\n",
       "      <td>Lottery Club</td>\n",
       "      <td>686</td>\n",
       "      <td>World vision</td>\n",
       "      <td>37.460664</td>\n",
       "      <td>-3.821329</td>\n",
       "      <td>Kwa Mahundi</td>\n",
       "      <td>0</td>\n",
       "      <td>...</td>\n",
       "      <td>per bucket</td>\n",
       "      <td>soft</td>\n",
       "      <td>good</td>\n",
       "      <td>enough</td>\n",
       "      <td>enough</td>\n",
       "      <td>dam</td>\n",
       "      <td>dam</td>\n",
       "      <td>surface</td>\n",
       "      <td>communal standpipe multiple</td>\n",
       "      <td>communal standpipe</td>\n",
       "    </tr>\n",
       "    <tr>\n",
       "      <th>3</th>\n",
       "      <td>67743</td>\n",
       "      <td>0.0</td>\n",
       "      <td>2013-01-28</td>\n",
       "      <td>Unicef</td>\n",
       "      <td>263</td>\n",
       "      <td>UNICEF</td>\n",
       "      <td>38.486161</td>\n",
       "      <td>-11.155298</td>\n",
       "      <td>Zahanati Ya Nanyumbu</td>\n",
       "      <td>0</td>\n",
       "      <td>...</td>\n",
       "      <td>never pay</td>\n",
       "      <td>soft</td>\n",
       "      <td>good</td>\n",
       "      <td>dry</td>\n",
       "      <td>dry</td>\n",
       "      <td>machine dbh</td>\n",
       "      <td>borehole</td>\n",
       "      <td>groundwater</td>\n",
       "      <td>communal standpipe multiple</td>\n",
       "      <td>communal standpipe</td>\n",
       "    </tr>\n",
       "    <tr>\n",
       "      <th>4</th>\n",
       "      <td>19728</td>\n",
       "      <td>0.0</td>\n",
       "      <td>2011-07-13</td>\n",
       "      <td>Action In A</td>\n",
       "      <td>0</td>\n",
       "      <td>Artisan</td>\n",
       "      <td>31.130847</td>\n",
       "      <td>-1.825359</td>\n",
       "      <td>Shuleni</td>\n",
       "      <td>0</td>\n",
       "      <td>...</td>\n",
       "      <td>never pay</td>\n",
       "      <td>soft</td>\n",
       "      <td>good</td>\n",
       "      <td>seasonal</td>\n",
       "      <td>seasonal</td>\n",
       "      <td>rainwater harvesting</td>\n",
       "      <td>rainwater harvesting</td>\n",
       "      <td>surface</td>\n",
       "      <td>communal standpipe</td>\n",
       "      <td>communal standpipe</td>\n",
       "    </tr>\n",
       "  </tbody>\n",
       "</table>\n",
       "<p>5 rows × 40 columns</p>\n",
       "</div>"
      ],
      "text/plain": [
       "      id  amount_tsh date_recorded        funder  gps_height     installer  \\\n",
       "0  69572      6000.0    2011-03-14         Roman        1390         Roman   \n",
       "1   8776         0.0    2013-03-06       Grumeti        1399       GRUMETI   \n",
       "2  34310        25.0    2013-02-25  Lottery Club         686  World vision   \n",
       "3  67743         0.0    2013-01-28        Unicef         263        UNICEF   \n",
       "4  19728         0.0    2011-07-13   Action In A           0       Artisan   \n",
       "\n",
       "   longitude   latitude              wpt_name  num_private  ... payment_type  \\\n",
       "0  34.938093  -9.856322                  none            0  ...     annually   \n",
       "1  34.698766  -2.147466              Zahanati            0  ...    never pay   \n",
       "2  37.460664  -3.821329           Kwa Mahundi            0  ...   per bucket   \n",
       "3  38.486161 -11.155298  Zahanati Ya Nanyumbu            0  ...    never pay   \n",
       "4  31.130847  -1.825359               Shuleni            0  ...    never pay   \n",
       "\n",
       "  water_quality quality_group      quantity  quantity_group  \\\n",
       "0          soft          good        enough          enough   \n",
       "1          soft          good  insufficient    insufficient   \n",
       "2          soft          good        enough          enough   \n",
       "3          soft          good           dry             dry   \n",
       "4          soft          good      seasonal        seasonal   \n",
       "\n",
       "                 source           source_type  source_class  \\\n",
       "0                spring                spring   groundwater   \n",
       "1  rainwater harvesting  rainwater harvesting       surface   \n",
       "2                   dam                   dam       surface   \n",
       "3           machine dbh              borehole   groundwater   \n",
       "4  rainwater harvesting  rainwater harvesting       surface   \n",
       "\n",
       "               waterpoint_type waterpoint_type_group  \n",
       "0           communal standpipe    communal standpipe  \n",
       "1           communal standpipe    communal standpipe  \n",
       "2  communal standpipe multiple    communal standpipe  \n",
       "3  communal standpipe multiple    communal standpipe  \n",
       "4           communal standpipe    communal standpipe  \n",
       "\n",
       "[5 rows x 40 columns]"
      ]
     },
     "execution_count": 98,
     "metadata": {},
     "output_type": "execute_result"
    }
   ],
   "source": [
    "df = pd.read_csv(\"d.3.csv\")\n",
    "df.head()"
   ]
  },
  {
   "cell_type": "code",
   "execution_count": 99,
   "metadata": {},
   "outputs": [
    {
     "data": {
      "text/plain": [
       "(59400, 40)"
      ]
     },
     "execution_count": 99,
     "metadata": {},
     "output_type": "execute_result"
    }
   ],
   "source": [
    "df.shape"
   ]
  },
  {
   "cell_type": "code",
   "execution_count": 100,
   "metadata": {},
   "outputs": [
    {
     "data": {
      "text/plain": [
       "Index(['id', 'amount_tsh', 'date_recorded', 'funder', 'gps_height',\n",
       "       'installer', 'longitude', 'latitude', 'wpt_name', 'num_private',\n",
       "       'basin', 'subvillage', 'region', 'region_code', 'district_code', 'lga',\n",
       "       'ward', 'population', 'public_meeting', 'recorded_by',\n",
       "       'scheme_management', 'scheme_name', 'permit', 'construction_year',\n",
       "       'extraction_type', 'extraction_type_group', 'extraction_type_class',\n",
       "       'management', 'management_group', 'payment', 'payment_type',\n",
       "       'water_quality', 'quality_group', 'quantity', 'quantity_group',\n",
       "       'source', 'source_type', 'source_class', 'waterpoint_type',\n",
       "       'waterpoint_type_group'],\n",
       "      dtype='object')"
      ]
     },
     "execution_count": 100,
     "metadata": {},
     "output_type": "execute_result"
    }
   ],
   "source": [
    "df.columns"
   ]
  },
  {
   "cell_type": "code",
   "execution_count": 101,
   "metadata": {},
   "outputs": [
    {
     "data": {
      "text/html": [
       "<div>\n",
       "<style scoped>\n",
       "    .dataframe tbody tr th:only-of-type {\n",
       "        vertical-align: middle;\n",
       "    }\n",
       "\n",
       "    .dataframe tbody tr th {\n",
       "        vertical-align: top;\n",
       "    }\n",
       "\n",
       "    .dataframe thead th {\n",
       "        text-align: right;\n",
       "    }\n",
       "</style>\n",
       "<table border=\"1\" class=\"dataframe\">\n",
       "  <thead>\n",
       "    <tr style=\"text-align: right;\">\n",
       "      <th></th>\n",
       "      <th>id</th>\n",
       "      <th>status_group</th>\n",
       "    </tr>\n",
       "  </thead>\n",
       "  <tbody>\n",
       "    <tr>\n",
       "      <th>0</th>\n",
       "      <td>69572</td>\n",
       "      <td>functional</td>\n",
       "    </tr>\n",
       "    <tr>\n",
       "      <th>1</th>\n",
       "      <td>8776</td>\n",
       "      <td>functional</td>\n",
       "    </tr>\n",
       "    <tr>\n",
       "      <th>2</th>\n",
       "      <td>34310</td>\n",
       "      <td>functional</td>\n",
       "    </tr>\n",
       "    <tr>\n",
       "      <th>3</th>\n",
       "      <td>67743</td>\n",
       "      <td>non functional</td>\n",
       "    </tr>\n",
       "    <tr>\n",
       "      <th>4</th>\n",
       "      <td>19728</td>\n",
       "      <td>functional</td>\n",
       "    </tr>\n",
       "  </tbody>\n",
       "</table>\n",
       "</div>"
      ],
      "text/plain": [
       "      id    status_group\n",
       "0  69572      functional\n",
       "1   8776      functional\n",
       "2  34310      functional\n",
       "3  67743  non functional\n",
       "4  19728      functional"
      ]
     },
     "execution_count": 101,
     "metadata": {},
     "output_type": "execute_result"
    }
   ],
   "source": [
    "df1 = pd.read_csv(\"d.1.csv\")\n",
    "df1.head()"
   ]
  },
  {
   "cell_type": "code",
   "execution_count": 102,
   "metadata": {},
   "outputs": [
    {
     "name": "stdout",
     "output_type": "stream",
     "text": [
      "(59400, 41)\n"
     ]
    }
   ],
   "source": [
    "# Default merge (inner join)\n",
    "merged_df = df.merge(df1, on='id')\n",
    "print(merged_df.shape)"
   ]
  },
  {
   "cell_type": "code",
   "execution_count": 103,
   "metadata": {},
   "outputs": [
    {
     "name": "stdout",
     "output_type": "stream",
     "text": [
      "<class 'pandas.core.frame.DataFrame'>\n",
      "Int64Index: 59400 entries, 0 to 59399\n",
      "Data columns (total 41 columns):\n",
      " #   Column                 Non-Null Count  Dtype  \n",
      "---  ------                 --------------  -----  \n",
      " 0   id                     59400 non-null  int64  \n",
      " 1   amount_tsh             59400 non-null  float64\n",
      " 2   date_recorded          59400 non-null  object \n",
      " 3   funder                 55765 non-null  object \n",
      " 4   gps_height             59400 non-null  int64  \n",
      " 5   installer              55745 non-null  object \n",
      " 6   longitude              59400 non-null  float64\n",
      " 7   latitude               59400 non-null  float64\n",
      " 8   wpt_name               59400 non-null  object \n",
      " 9   num_private            59400 non-null  int64  \n",
      " 10  basin                  59400 non-null  object \n",
      " 11  subvillage             59029 non-null  object \n",
      " 12  region                 59400 non-null  object \n",
      " 13  region_code            59400 non-null  int64  \n",
      " 14  district_code          59400 non-null  int64  \n",
      " 15  lga                    59400 non-null  object \n",
      " 16  ward                   59400 non-null  object \n",
      " 17  population             59400 non-null  int64  \n",
      " 18  public_meeting         56066 non-null  object \n",
      " 19  recorded_by            59400 non-null  object \n",
      " 20  scheme_management      55523 non-null  object \n",
      " 21  scheme_name            31234 non-null  object \n",
      " 22  permit                 56344 non-null  object \n",
      " 23  construction_year      59400 non-null  int64  \n",
      " 24  extraction_type        59400 non-null  object \n",
      " 25  extraction_type_group  59400 non-null  object \n",
      " 26  extraction_type_class  59400 non-null  object \n",
      " 27  management             59400 non-null  object \n",
      " 28  management_group       59400 non-null  object \n",
      " 29  payment                59400 non-null  object \n",
      " 30  payment_type           59400 non-null  object \n",
      " 31  water_quality          59400 non-null  object \n",
      " 32  quality_group          59400 non-null  object \n",
      " 33  quantity               59400 non-null  object \n",
      " 34  quantity_group         59400 non-null  object \n",
      " 35  source                 59400 non-null  object \n",
      " 36  source_type            59400 non-null  object \n",
      " 37  source_class           59400 non-null  object \n",
      " 38  waterpoint_type        59400 non-null  object \n",
      " 39  waterpoint_type_group  59400 non-null  object \n",
      " 40  status_group           59400 non-null  object \n",
      "dtypes: float64(3), int64(7), object(31)\n",
      "memory usage: 19.0+ MB\n"
     ]
    }
   ],
   "source": [
    "merged_df.info()"
   ]
  },
  {
   "cell_type": "code",
   "execution_count": 104,
   "metadata": {},
   "outputs": [
    {
     "data": {
      "text/html": [
       "<div>\n",
       "<style scoped>\n",
       "    .dataframe tbody tr th:only-of-type {\n",
       "        vertical-align: middle;\n",
       "    }\n",
       "\n",
       "    .dataframe tbody tr th {\n",
       "        vertical-align: top;\n",
       "    }\n",
       "\n",
       "    .dataframe thead th {\n",
       "        text-align: right;\n",
       "    }\n",
       "</style>\n",
       "<table border=\"1\" class=\"dataframe\">\n",
       "  <thead>\n",
       "    <tr style=\"text-align: right;\">\n",
       "      <th></th>\n",
       "      <th>id</th>\n",
       "      <th>amount_tsh</th>\n",
       "      <th>gps_height</th>\n",
       "      <th>longitude</th>\n",
       "      <th>latitude</th>\n",
       "      <th>num_private</th>\n",
       "      <th>region_code</th>\n",
       "      <th>district_code</th>\n",
       "      <th>population</th>\n",
       "      <th>construction_year</th>\n",
       "    </tr>\n",
       "  </thead>\n",
       "  <tbody>\n",
       "    <tr>\n",
       "      <th>count</th>\n",
       "      <td>59400.000000</td>\n",
       "      <td>59400.000000</td>\n",
       "      <td>59400.000000</td>\n",
       "      <td>59400.000000</td>\n",
       "      <td>5.940000e+04</td>\n",
       "      <td>59400.000000</td>\n",
       "      <td>59400.000000</td>\n",
       "      <td>59400.000000</td>\n",
       "      <td>59400.000000</td>\n",
       "      <td>59400.000000</td>\n",
       "    </tr>\n",
       "    <tr>\n",
       "      <th>mean</th>\n",
       "      <td>37115.131768</td>\n",
       "      <td>317.650385</td>\n",
       "      <td>668.297239</td>\n",
       "      <td>34.077427</td>\n",
       "      <td>-5.706033e+00</td>\n",
       "      <td>0.474141</td>\n",
       "      <td>15.297003</td>\n",
       "      <td>5.629747</td>\n",
       "      <td>179.909983</td>\n",
       "      <td>1300.652475</td>\n",
       "    </tr>\n",
       "    <tr>\n",
       "      <th>std</th>\n",
       "      <td>21453.128371</td>\n",
       "      <td>2997.574558</td>\n",
       "      <td>693.116350</td>\n",
       "      <td>6.567432</td>\n",
       "      <td>2.946019e+00</td>\n",
       "      <td>12.236230</td>\n",
       "      <td>17.587406</td>\n",
       "      <td>9.633649</td>\n",
       "      <td>471.482176</td>\n",
       "      <td>951.620547</td>\n",
       "    </tr>\n",
       "    <tr>\n",
       "      <th>min</th>\n",
       "      <td>0.000000</td>\n",
       "      <td>0.000000</td>\n",
       "      <td>-90.000000</td>\n",
       "      <td>0.000000</td>\n",
       "      <td>-1.164944e+01</td>\n",
       "      <td>0.000000</td>\n",
       "      <td>1.000000</td>\n",
       "      <td>0.000000</td>\n",
       "      <td>0.000000</td>\n",
       "      <td>0.000000</td>\n",
       "    </tr>\n",
       "    <tr>\n",
       "      <th>25%</th>\n",
       "      <td>18519.750000</td>\n",
       "      <td>0.000000</td>\n",
       "      <td>0.000000</td>\n",
       "      <td>33.090347</td>\n",
       "      <td>-8.540621e+00</td>\n",
       "      <td>0.000000</td>\n",
       "      <td>5.000000</td>\n",
       "      <td>2.000000</td>\n",
       "      <td>0.000000</td>\n",
       "      <td>0.000000</td>\n",
       "    </tr>\n",
       "    <tr>\n",
       "      <th>50%</th>\n",
       "      <td>37061.500000</td>\n",
       "      <td>0.000000</td>\n",
       "      <td>369.000000</td>\n",
       "      <td>34.908743</td>\n",
       "      <td>-5.021597e+00</td>\n",
       "      <td>0.000000</td>\n",
       "      <td>12.000000</td>\n",
       "      <td>3.000000</td>\n",
       "      <td>25.000000</td>\n",
       "      <td>1986.000000</td>\n",
       "    </tr>\n",
       "    <tr>\n",
       "      <th>75%</th>\n",
       "      <td>55656.500000</td>\n",
       "      <td>20.000000</td>\n",
       "      <td>1319.250000</td>\n",
       "      <td>37.178387</td>\n",
       "      <td>-3.326156e+00</td>\n",
       "      <td>0.000000</td>\n",
       "      <td>17.000000</td>\n",
       "      <td>5.000000</td>\n",
       "      <td>215.000000</td>\n",
       "      <td>2004.000000</td>\n",
       "    </tr>\n",
       "    <tr>\n",
       "      <th>max</th>\n",
       "      <td>74247.000000</td>\n",
       "      <td>350000.000000</td>\n",
       "      <td>2770.000000</td>\n",
       "      <td>40.345193</td>\n",
       "      <td>-2.000000e-08</td>\n",
       "      <td>1776.000000</td>\n",
       "      <td>99.000000</td>\n",
       "      <td>80.000000</td>\n",
       "      <td>30500.000000</td>\n",
       "      <td>2013.000000</td>\n",
       "    </tr>\n",
       "  </tbody>\n",
       "</table>\n",
       "</div>"
      ],
      "text/plain": [
       "                 id     amount_tsh    gps_height     longitude      latitude  \\\n",
       "count  59400.000000   59400.000000  59400.000000  59400.000000  5.940000e+04   \n",
       "mean   37115.131768     317.650385    668.297239     34.077427 -5.706033e+00   \n",
       "std    21453.128371    2997.574558    693.116350      6.567432  2.946019e+00   \n",
       "min        0.000000       0.000000    -90.000000      0.000000 -1.164944e+01   \n",
       "25%    18519.750000       0.000000      0.000000     33.090347 -8.540621e+00   \n",
       "50%    37061.500000       0.000000    369.000000     34.908743 -5.021597e+00   \n",
       "75%    55656.500000      20.000000   1319.250000     37.178387 -3.326156e+00   \n",
       "max    74247.000000  350000.000000   2770.000000     40.345193 -2.000000e-08   \n",
       "\n",
       "        num_private   region_code  district_code    population  \\\n",
       "count  59400.000000  59400.000000   59400.000000  59400.000000   \n",
       "mean       0.474141     15.297003       5.629747    179.909983   \n",
       "std       12.236230     17.587406       9.633649    471.482176   \n",
       "min        0.000000      1.000000       0.000000      0.000000   \n",
       "25%        0.000000      5.000000       2.000000      0.000000   \n",
       "50%        0.000000     12.000000       3.000000     25.000000   \n",
       "75%        0.000000     17.000000       5.000000    215.000000   \n",
       "max     1776.000000     99.000000      80.000000  30500.000000   \n",
       "\n",
       "       construction_year  \n",
       "count       59400.000000  \n",
       "mean         1300.652475  \n",
       "std           951.620547  \n",
       "min             0.000000  \n",
       "25%             0.000000  \n",
       "50%          1986.000000  \n",
       "75%          2004.000000  \n",
       "max          2013.000000  "
      ]
     },
     "execution_count": 104,
     "metadata": {},
     "output_type": "execute_result"
    }
   ],
   "source": [
    "merged_df.describe()"
   ]
  },
  {
   "cell_type": "markdown",
   "metadata": {},
   "source": [
    "### 1.2 Dealing with missing Values\n"
   ]
  },
  {
   "cell_type": "code",
   "execution_count": 105,
   "metadata": {},
   "outputs": [
    {
     "data": {
      "text/plain": [
       "id                           0\n",
       "amount_tsh                   0\n",
       "date_recorded                0\n",
       "funder                    3635\n",
       "gps_height                   0\n",
       "installer                 3655\n",
       "longitude                    0\n",
       "latitude                     0\n",
       "wpt_name                     0\n",
       "num_private                  0\n",
       "basin                        0\n",
       "subvillage                 371\n",
       "region                       0\n",
       "region_code                  0\n",
       "district_code                0\n",
       "lga                          0\n",
       "ward                         0\n",
       "population                   0\n",
       "public_meeting            3334\n",
       "recorded_by                  0\n",
       "scheme_management         3877\n",
       "scheme_name              28166\n",
       "permit                    3056\n",
       "construction_year            0\n",
       "extraction_type              0\n",
       "extraction_type_group        0\n",
       "extraction_type_class        0\n",
       "management                   0\n",
       "management_group             0\n",
       "payment                      0\n",
       "payment_type                 0\n",
       "water_quality                0\n",
       "quality_group                0\n",
       "quantity                     0\n",
       "quantity_group               0\n",
       "source                       0\n",
       "source_type                  0\n",
       "source_class                 0\n",
       "waterpoint_type              0\n",
       "waterpoint_type_group        0\n",
       "status_group                 0\n",
       "dtype: int64"
      ]
     },
     "execution_count": 105,
     "metadata": {},
     "output_type": "execute_result"
    }
   ],
   "source": [
    "# checking missing values\n",
    "merged_df.isna().sum()"
   ]
  },
  {
   "cell_type": "markdown",
   "metadata": {},
   "source": [
    "our dataset contains missing values on the following columns; public_meeting, subvillage,scheme_management,scheme_name, permit,funder, and  installer.\n",
    "From the above we drop irrevelant columns with missing values since they are of no use to us on the study which includes; subvillage,public_meeting and scheme_name"
   ]
  },
  {
   "cell_type": "code",
   "execution_count": 106,
   "metadata": {},
   "outputs": [],
   "source": [
    "# code that drops the three columns \n",
    "merged_df.drop(['subvillage', 'scheme_name','public_meeting'], axis=1, inplace=True)"
   ]
  },
  {
   "cell_type": "code",
   "execution_count": 107,
   "metadata": {},
   "outputs": [
    {
     "name": "stdout",
     "output_type": "stream",
     "text": [
      "Percent of missing values in installer column: 6.15%\n",
      "Percent of missing values in funder column: 6.12%\n",
      "Percent of missing values in scheme_management column: 6.53%\n",
      "Percent of missing values in permit column: 5.14%\n"
     ]
    }
   ],
   "source": [
    "# checking % of missing values \n",
    "missing_value_columns = ['installer', 'funder', 'scheme_management', 'permit']\n",
    "for col in missing_value_columns:\n",
    "    print(\"Percent of missing values in {} column: {:.2%}\".format(col, merged_df[col].isna().sum() / len(merged_df)))\n"
   ]
  },
  {
   "cell_type": "code",
   "execution_count": 108,
   "metadata": {},
   "outputs": [
    {
     "name": "stdout",
     "output_type": "stream",
     "text": [
      "Percent of missing values in installer column after filling: 0.00%\n",
      "Percent of missing values in funder column after filling: 0.00%\n",
      "Percent of missing values in scheme_management column after filling: 0.00%\n",
      "Percent of missing values in permit column after filling: 0.00%\n"
     ]
    }
   ],
   "source": [
    "# Filling missing values with mode for each column\n",
    "for col in missing_value_columns:\n",
    "    mode_value = merged_df[col].mode()[0]  # Calculate the mode (most frequent value) for the column\n",
    "    merged_df[col].fillna(mode_value, inplace=True)  # Fill missing values with the mode\n",
    "    \n",
    "# Check if missing values are filled\n",
    "for col in missing_value_columns:\n",
    "    print(\"Percent of missing values in {} column after filling: {:.2%}\".format(col, merged_df[col].isna().sum() / len(df)))\n"
   ]
  },
  {
   "cell_type": "code",
   "execution_count": 109,
   "metadata": {},
   "outputs": [
    {
     "data": {
      "text/plain": [
       "id                       0\n",
       "amount_tsh               0\n",
       "date_recorded            0\n",
       "funder                   0\n",
       "gps_height               0\n",
       "installer                0\n",
       "longitude                0\n",
       "latitude                 0\n",
       "wpt_name                 0\n",
       "num_private              0\n",
       "basin                    0\n",
       "region                   0\n",
       "region_code              0\n",
       "district_code            0\n",
       "lga                      0\n",
       "ward                     0\n",
       "population               0\n",
       "recorded_by              0\n",
       "scheme_management        0\n",
       "permit                   0\n",
       "construction_year        0\n",
       "extraction_type          0\n",
       "extraction_type_group    0\n",
       "extraction_type_class    0\n",
       "management               0\n",
       "management_group         0\n",
       "payment                  0\n",
       "payment_type             0\n",
       "water_quality            0\n",
       "quality_group            0\n",
       "quantity                 0\n",
       "quantity_group           0\n",
       "source                   0\n",
       "source_type              0\n",
       "source_class             0\n",
       "waterpoint_type          0\n",
       "waterpoint_type_group    0\n",
       "status_group             0\n",
       "dtype: int64"
      ]
     },
     "execution_count": 109,
     "metadata": {},
     "output_type": "execute_result"
    }
   ],
   "source": [
    "# rechecking missing values\n",
    "merged_df.isna().sum()"
   ]
  },
  {
   "cell_type": "markdown",
   "metadata": {},
   "source": [
    "### 1.3 Dropping Irrelevant Columns "
   ]
  },
  {
   "cell_type": "markdown",
   "metadata": {},
   "source": [
    "- date_recorded >since there is a contruction year, this is not needed to make a prediction on well functionality.\n",
    "- funder > 11,307 rows have matching values with installer column, and many more rows only have different spellings of the same entry. The installer has a higher influence on the functionality of a well and I will therefore, drop the funder column to avoid multicollinearity effect.\n",
    "- wpt_name > too many unique values\n",
    "- subvillage > it can be represented by the region\n",
    "- lga > it can be represented by the region\n",
    "- ward > it can be represented by the region\n",
    "- recorded_by > it has the same value for all rows\n",
    "- scheme_name > too many unique values and nulls\n",
    "- extraction_type > too similar to extraction type class\n",
    "- extraction_type_group > too similar to extraction type class\n",
    "- management > management_group are categories of management so I will drop manageme\n",
    "- payment > payment and payment_type are duplicates, so I will drop payment\n",
    "- quality_group > correlated with water quality. I'll retain water quality since it has unique rows that need to be dropped\n",
    "- quantity > quantity_group are categories of quantity, so I will drop quantity.\n",
    "- source > it can be represented by source class.\n",
    "- source_type > it can be represented by source class.\n",
    "- waterpoint_type > it is a duplicate of waterpoint_type_group.\n",
    "- num_private > no description has been given for this column and close to 99% are 0 values; this is likely not useful for modelling.\n",
    "- region_code > a duplicate of region.\n",
    "- district_code > it can be represented by the region."
   ]
  },
  {
   "cell_type": "code",
   "execution_count": 110,
   "metadata": {},
   "outputs": [],
   "source": [
    "columns_to_drop = ['date_recorded', 'funder', 'wpt_name','lga', \n",
    " 'ward', 'recorded_by', 'extraction_type', \n",
    " 'extraction_type_group', 'management', 'payment', 'quality_group', \n",
    " 'quantity', 'source', 'source_type', 'waterpoint_type', 'num_private', \n",
    " 'region_code', 'district_code']\n",
    "\n",
    "# Drop the columns from dataset\n",
    "df = merged_df.drop(columns_to_drop, axis=1)"
   ]
  },
  {
   "cell_type": "code",
   "execution_count": 111,
   "metadata": {},
   "outputs": [
    {
     "data": {
      "text/plain": [
       "(59400, 20)"
      ]
     },
     "execution_count": 111,
     "metadata": {},
     "output_type": "execute_result"
    }
   ],
   "source": [
    "df.shape\n"
   ]
  },
  {
   "cell_type": "code",
   "execution_count": 112,
   "metadata": {},
   "outputs": [
    {
     "data": {
      "text/plain": [
       "Index(['id', 'amount_tsh', 'gps_height', 'installer', 'longitude', 'latitude',\n",
       "       'basin', 'region', 'population', 'scheme_management', 'permit',\n",
       "       'construction_year', 'extraction_type_class', 'management_group',\n",
       "       'payment_type', 'water_quality', 'quantity_group', 'source_class',\n",
       "       'waterpoint_type_group', 'status_group'],\n",
       "      dtype='object')"
      ]
     },
     "execution_count": 112,
     "metadata": {},
     "output_type": "execute_result"
    }
   ],
   "source": [
    "df.columns"
   ]
  },
  {
   "cell_type": "code",
   "execution_count": 113,
   "metadata": {},
   "outputs": [
    {
     "name": "stdout",
     "output_type": "stream",
     "text": [
      "0        1999\n",
      "1        2010\n",
      "2        2009\n",
      "3        1986\n",
      "4           0\n",
      "         ... \n",
      "59395    1999\n",
      "59396    1996\n",
      "59397       0\n",
      "59398       0\n",
      "59399    2002\n",
      "Name: construction_year, Length: 59400, dtype: int64\n"
     ]
    }
   ],
   "source": [
    "print (df['construction_year'])"
   ]
  },
  {
   "cell_type": "code",
   "execution_count": 114,
   "metadata": {},
   "outputs": [
    {
     "data": {
      "text/plain": [
       "0       20709\n",
       "2010     2645\n",
       "2008     2613\n",
       "2009     2533\n",
       "2000     2091\n",
       "2007     1587\n",
       "2006     1471\n",
       "2003     1286\n",
       "2011     1256\n",
       "2004     1123\n",
       "2012     1084\n",
       "2002     1075\n",
       "1978     1037\n",
       "1995     1014\n",
       "2005     1011\n",
       "1999      979\n",
       "1998      966\n",
       "1990      954\n",
       "1985      945\n",
       "1980      811\n",
       "1996      811\n",
       "1984      779\n",
       "1982      744\n",
       "1994      738\n",
       "1972      708\n",
       "1974      676\n",
       "1997      644\n",
       "1992      640\n",
       "1993      608\n",
       "2001      540\n",
       "1988      521\n",
       "1983      488\n",
       "1975      437\n",
       "1986      434\n",
       "1976      414\n",
       "1970      411\n",
       "1991      324\n",
       "1989      316\n",
       "1987      302\n",
       "1981      238\n",
       "1977      202\n",
       "1979      192\n",
       "1973      184\n",
       "2013      176\n",
       "1971      145\n",
       "1960      102\n",
       "1967       88\n",
       "1963       85\n",
       "1968       77\n",
       "1969       59\n",
       "1964       40\n",
       "1962       30\n",
       "1961       21\n",
       "1965       19\n",
       "1966       17\n",
       "Name: construction_year, dtype: int64"
      ]
     },
     "execution_count": 114,
     "metadata": {},
     "output_type": "execute_result"
    }
   ],
   "source": [
    "df['construction_year'].value_counts()"
   ]
  },
  {
   "cell_type": "code",
   "execution_count": 115,
   "metadata": {},
   "outputs": [],
   "source": [
    "df['construction_year'].replace(to_replace = 0, value = 1966, inplace=True)"
   ]
  },
  {
   "cell_type": "markdown",
   "metadata": {},
   "source": [
    "Replaced 0 construction year with 1966 as a placeholder."
   ]
  },
  {
   "cell_type": "markdown",
   "metadata": {},
   "source": [
    "### 2.1 Grouping columns Related Columns\n",
    "\n",
    "scheme_management / management / management_group columns"
   ]
  },
  {
   "cell_type": "markdown",
   "metadata": {},
   "source": [
    "Since our data are kinda related we opted to group some columns for clear viasulization "
   ]
  },
  {
   "cell_type": "markdown",
   "metadata": {},
   "source": [
    "#### source, source_class and source_type column"
   ]
  },
  {
   "cell_type": "markdown",
   "metadata": {},
   "source": [
    "### visualing Categorical variables"
   ]
  },
  {
   "cell_type": "code",
   "execution_count": 116,
   "metadata": {},
   "outputs": [
    {
     "data": {
      "image/png": "[encoded data removed]",
      "text/plain": [
       "<Figure size 432x288 with 1 Axes>"
      ]
     },
     "metadata": {
      "needs_background": "light"
     },
     "output_type": "display_data"
    },
    {
     "data": {
      "image/png": "[encoded data removed]",
      "text/plain": [
       "<Figure size 432x288 with 1 Axes>"
      ]
     },
     "metadata": {
      "needs_background": "light"
     },
     "output_type": "display_data"
    },
    {
     "data": {
      "image/png": "[encoded data removed]",
      "text/plain": [
       "<Figure size 432x288 with 1 Axes>"
      ]
     },
     "metadata": {
      "needs_background": "light"
     },
     "output_type": "display_data"
    },
    {
     "data": {
      "image/png": "[encoded data removed]",
      "text/plain": [
       "<Figure size 432x288 with 1 Axes>"
      ]
     },
     "metadata": {
      "needs_background": "light"
     },
     "output_type": "display_data"
    }
   ],
   "source": [
    "import matplotlib.pyplot as plt\n",
    "\n",
    "# List of columns to be combined for plotting\n",
    "quality_combined = ['water_quality', 'quantity_group', 'source_class',\n",
    "                     'waterpoint_type_group']\n",
    "\n",
    "# Iterate over each column in the list\n",
    "for col in quality_combined:\n",
    "    merged_df[col].value_counts().plot(kind='bar')\n",
    "    plt.title(col + ' Counts')\n",
    "    plt.xlabel('Categories')\n",
    "    plt.ylabel('Counts')\n",
    "    plt.grid()\n",
    "    plt.show()\n"
   ]
  },
  {
   "cell_type": "code",
   "execution_count": 117,
   "metadata": {},
   "outputs": [
    {
     "data": {
      "image/png": "[encoded data removed]",
      "text/plain": [
       "<Figure size 432x288 with 1 Axes>"
      ]
     },
     "metadata": {
      "needs_background": "light"
     },
     "output_type": "display_data"
    },
    {
     "data": {
      "image/png": "[encoded data removed]",
      "text/plain": [
       "<Figure size 432x288 with 1 Axes>"
      ]
     },
     "metadata": {
      "needs_background": "light"
     },
     "output_type": "display_data"
    }
   ],
   "source": [
    "import matplotlib.pyplot as plt\n",
    "\n",
    "# List of columns to be combined for plotting\n",
    "management_combined = ['scheme_management','management_group']\n",
    "\n",
    "# Iterate over each column in the list\n",
    "for col in management_combined:\n",
    "    df[col].value_counts().plot(kind='bar')\n",
    "    plt.title(col + ' Counts')\n",
    "    plt.xlabel('Categories')\n",
    "    plt.ylabel('Counts')\n",
    "    plt.grid()\n",
    "    plt.show()"
   ]
  },
  {
   "cell_type": "code",
   "execution_count": 118,
   "metadata": {},
   "outputs": [
    {
     "name": "stderr",
     "output_type": "stream",
     "text": [
      "c:\\Users\\User\\anaconda3\\ana\\envs\\learn-env\\lib\\site-packages\\seaborn\\_decorators.py:36: FutureWarning: Pass the following variable as a keyword arg: x. From version 0.12, the only valid positional argument will be `data`, and passing other arguments without an explicit keyword will result in an error or misinterpretation.\n",
      "  warnings.warn(\n"
     ]
    },
    {
     "data": {
      "image/png": "[encoded data removed]",
      "text/plain": [
       "<Figure size 360x216 with 1 Axes>"
      ]
     },
     "metadata": {
      "needs_background": "light"
     },
     "output_type": "display_data"
    }
   ],
   "source": [
    "fig, ax = plt.subplots(figsize=(5, 3))\n",
    "sns.countplot(df['status_group'])\n",
    "x_labels = df['status_group'].unique()\n",
    "\n",
    "\n",
    "plt.title('Countplot of Predictions')\n",
    "plt.xlabel('Pump Function')\n",
    "ax.set_xticklabels(x_labels, fontsize=9)\n",
    "plt.ylabel('Predictions')\n",
    "plt.show()"
   ]
  },
  {
   "cell_type": "markdown",
   "metadata": {},
   "source": [
    "We notice that the target classes are imbalanced, with the functional pumps being the most common at more than 30,000 followed by non-functional pumps at above 20,000 pumps, and then lastly the functional-need-repair pumps at less than 5,000."
   ]
  },
  {
   "cell_type": "markdown",
   "metadata": {},
   "source": [
    "### Visualizing continuous variables\n"
   ]
  },
  {
   "cell_type": "code",
   "execution_count": 119,
   "metadata": {},
   "outputs": [
    {
     "data": {
      "image/png": "[encoded data removed]",
      "text/plain": [
       "<Figure size 504x504 with 6 Axes>"
      ]
     },
     "metadata": {
      "needs_background": "light"
     },
     "output_type": "display_data"
    }
   ],
   "source": [
    "import matplotlib.pyplot as plt\n",
    "\n",
    "continuous = ['amount_tsh', 'gps_height', 'longitude', 'latitude', 'population', 'construction_year']\n",
    "fig = plt.figure(figsize=(7, 7))\n",
    "for i, col in enumerate(continuous):\n",
    "    ax = plt.subplot(3, 3, i + 1)\n",
    "    df[col].plot(kind='hist', ax=ax, title=col)\n",
    "plt.tight_layout()\n",
    "plt.show()"
   ]
  },
  {
   "cell_type": "markdown",
   "metadata": {},
   "source": [
    "From the above, we notice that no continous variable is normally distributed."
   ]
  },
  {
   "cell_type": "code",
   "execution_count": 120,
   "metadata": {},
   "outputs": [
    {
     "data": {
      "image/png": "[encoded data removed]",
      "text/plain": [
       "<Figure size 720x720 with 4 Axes>"
      ]
     },
     "metadata": {
      "needs_background": "light"
     },
     "output_type": "display_data"
    }
   ],
   "source": [
    "# Set up the subplots with 2 columns and increased spacing\n",
    "fig, axes = plt.subplots(nrows=2, ncols=2, figsize=(10, 10))\n",
    "fig.subplots_adjust(hspace=0.2, wspace=0.3)  # Increase hspace and wspace\n",
    "\n",
    "# Scale the amount column by dividing by 10,000\n",
    "df['amount_tsh_scaled'] = df['amount_tsh'] / 1000\n",
    "# Create KDE plots for continuous variables\n",
    "continuous = ['amount_tsh_scaled', 'gps_height', 'population', 'construction_year']\n",
    "\n",
    "for i, column in enumerate(continuous):\n",
    "    row, col = i // 2, i % 2\n",
    "    sns.kdeplot(data=df, x=column, hue='status_group', palette='bright', fill=True, ax=axes[row, col])\n",
    "    axes[row, col].set_title(column)\n",
    "\n",
    "plt.show()"
   ]
  },
  {
   "cell_type": "markdown",
   "metadata": {},
   "source": [
    "1. Among pump types non-functional ones are the most common followed by functional and then functional need repair\n",
    "\n",
    "2. At sea level functional and non-functional pumps are similar but very few need repair\n",
    "\n",
    "3. Areas with no population have the most pumps overall\n",
    "\n",
    "4. It is Plausible that many pump were built in  between the year 1960-1970\n",
    "also newer pumps tend to be functional while older ones are more likely to be non-functional"
   ]
  },
  {
   "cell_type": "code",
   "execution_count": 121,
   "metadata": {},
   "outputs": [
    {
     "data": {
      "image/png": "[encoded data removed]",
      "text/plain": [
       "<Figure size 1152x720 with 4 Axes>"
      ]
     },
     "metadata": {
      "needs_background": "light"
     },
     "output_type": "display_data"
    }
   ],
   "source": [
    "# Define the columns to include in the box plots\n",
    "columns_to_plot = ['amount_tsh', 'gps_height', 'population', 'construction_year']\n",
    "\n",
    "# Set up the subplots\n",
    "fig, axes = plt.subplots(nrows=len(columns_to_plot), ncols=1, figsize = (16, 10))\n",
    "\n",
    "# Loop through each column and create a box plot\n",
    "for i, column in enumerate(columns_to_plot):\n",
    "    sns.boxplot(x='status_group', y=column, data=df, ax=axes[i])\n",
    "    axes[i].set_ylabel(column)  # Set the y-axis label for each subplot\n",
    "    axes[i].set_xlabel('Status Group')  # Set the x-axis label for each subplot\n",
    "    axes[i].set_title(f'Boxplot of {column} by Status Group')  # Set the title for each subplot\n",
    "\n",
    "plt.tight_layout()  # Adjust layout to prevent overlap\n",
    "plt.show()"
   ]
  },
  {
   "cell_type": "markdown",
   "metadata": {},
   "source": [
    "*Conclusion*\n",
    "- There is significant difference in functional pumps compared to non functional and those that need repair when we compare against population, amount and gps height.\n",
    "- on gps comparison pumps that need repair outdo those that not functional\n",
    "- constration year has no signifacance on the pump status, the distribution is more of the same \n",
    "- construction year does not have a significant on the status_group\n",
    "- Interestingly, most pumps that needs repair are affected by gps heights"
   ]
  },
  {
   "cell_type": "code",
   "execution_count": 122,
   "metadata": {},
   "outputs": [
    {
     "data": {
      "text/plain": [
       "<bound method DataFrame.corr of           id  amount_tsh  gps_height     installer  longitude   latitude  \\\n",
       "0      69572      6000.0        1390         Roman  34.938093  -9.856322   \n",
       "1       8776         0.0        1399       GRUMETI  34.698766  -2.147466   \n",
       "2      34310        25.0         686  World vision  37.460664  -3.821329   \n",
       "3      67743         0.0         263        UNICEF  38.486161 -11.155298   \n",
       "4      19728         0.0           0       Artisan  31.130847  -1.825359   \n",
       "...      ...         ...         ...           ...        ...        ...   \n",
       "59395  60739        10.0        1210           CES  37.169807  -3.253847   \n",
       "59396  27263      4700.0        1212          Cefa  35.249991  -9.070629   \n",
       "59397  37057         0.0           0           DWE  34.017087  -8.750434   \n",
       "59398  31282         0.0           0          Musa  35.861315  -6.378573   \n",
       "59399  26348         0.0         191         World  38.104048  -6.747464   \n",
       "\n",
       "                         basin       region  population scheme_management  \\\n",
       "0                   Lake Nyasa       Iringa         109               VWC   \n",
       "1                Lake Victoria         Mara         280             Other   \n",
       "2                      Pangani      Manyara         250               VWC   \n",
       "3      Ruvuma / Southern Coast       Mtwara          58               VWC   \n",
       "4                Lake Victoria       Kagera           0               VWC   \n",
       "...                        ...          ...         ...               ...   \n",
       "59395                  Pangani  Kilimanjaro         125       Water Board   \n",
       "59396                   Rufiji       Iringa          56               VWC   \n",
       "59397                   Rufiji        Mbeya           0               VWC   \n",
       "59398                   Rufiji       Dodoma           0               VWC   \n",
       "59399              Wami / Ruvu     Morogoro         150               VWC   \n",
       "\n",
       "       ...  construction_year  extraction_type_class management_group  \\\n",
       "0      ...               1999                gravity       user-group   \n",
       "1      ...               2010                gravity       user-group   \n",
       "2      ...               2009                gravity       user-group   \n",
       "3      ...               1986            submersible       user-group   \n",
       "4      ...               1966                gravity            other   \n",
       "...    ...                ...                    ...              ...   \n",
       "59395  ...               1999                gravity       user-group   \n",
       "59396  ...               1996                gravity       user-group   \n",
       "59397  ...               1966               handpump       user-group   \n",
       "59398  ...               1966               handpump       user-group   \n",
       "59399  ...               2002               handpump       user-group   \n",
       "\n",
       "      payment_type water_quality quantity_group source_class  \\\n",
       "0         annually          soft         enough  groundwater   \n",
       "1        never pay          soft   insufficient      surface   \n",
       "2       per bucket          soft         enough      surface   \n",
       "3        never pay          soft            dry  groundwater   \n",
       "4        never pay          soft       seasonal      surface   \n",
       "...            ...           ...            ...          ...   \n",
       "59395   per bucket          soft         enough  groundwater   \n",
       "59396     annually          soft         enough      surface   \n",
       "59397      monthly      fluoride         enough  groundwater   \n",
       "59398    never pay          soft   insufficient  groundwater   \n",
       "59399   on failure         salty         enough  groundwater   \n",
       "\n",
       "      waterpoint_type_group    status_group amount_tsh_scaled  \n",
       "0        communal standpipe      functional             6.000  \n",
       "1        communal standpipe      functional             0.000  \n",
       "2        communal standpipe      functional             0.025  \n",
       "3        communal standpipe  non functional             0.000  \n",
       "4        communal standpipe      functional             0.000  \n",
       "...                     ...             ...               ...  \n",
       "59395    communal standpipe      functional             0.010  \n",
       "59396    communal standpipe      functional             4.700  \n",
       "59397             hand pump      functional             0.000  \n",
       "59398             hand pump      functional             0.000  \n",
       "59399             hand pump      functional             0.000  \n",
       "\n",
       "[59400 rows x 21 columns]>"
      ]
     },
     "execution_count": 122,
     "metadata": {},
     "output_type": "execute_result"
    }
   ],
   "source": [
    "df.corr"
   ]
  },
  {
   "cell_type": "markdown",
   "metadata": {},
   "source": [
    "### CORRELATION "
   ]
  },
  {
   "cell_type": "code",
   "execution_count": 123,
   "metadata": {},
   "outputs": [
    {
     "data": {
      "text/plain": [
       "<AxesSubplot:>"
      ]
     },
     "execution_count": 123,
     "metadata": {},
     "output_type": "execute_result"
    },
    {
     "data": {
      "image/png": "[encoded data removed]",
      "text/plain": [
       "<Figure size 432x288 with 2 Axes>"
      ]
     },
     "metadata": {
      "needs_background": "light"
     },
     "output_type": "display_data"
    }
   ],
   "source": [
    "sns.heatmap(df.corr(),annot=True)"
   ]
  },
  {
   "cell_type": "markdown",
   "metadata": {},
   "source": [
    "There is a significant correlation between construction year and gps_height which gives us the highest correlation of 0.54. Also we note that there is a slight correlation between population and construction year."
   ]
  },
  {
   "cell_type": "markdown",
   "metadata": {},
   "source": [
    "Waterwells that need repair are consider them non-functioning because the population is not relaying on them for water.\n",
    "Therefore we perform future engineering and combine non-functioning and functioning need repair."
   ]
  },
  {
   "cell_type": "markdown",
   "metadata": {},
   "source": [
    "### converting categorical data into numbers"
   ]
  },
  {
   "cell_type": "code",
   "execution_count": 124,
   "metadata": {},
   "outputs": [],
   "source": [
    "# Map 'functional' to 0, and 'non functional'/'functional needs repair' to 1\n",
    "df['target'] = df['status_group'].map({'functional': 1, 'non functional': 0, 'functional needs repair': 0})\n",
    "\n",
    "# Drop the original 'status_group' column if not needed anymore\n",
    "df.drop('status_group', axis=1, inplace=True) \n",
    "# Now, 'target' column contains the combined information"
   ]
  },
  {
   "cell_type": "markdown",
   "metadata": {},
   "source": [
    "### 1. SPLITTING AND TRAINING DATA INTO FEATURE (X) AND TARGET (Y) DATASETS"
   ]
  },
  {
   "cell_type": "code",
   "execution_count": 125,
   "metadata": {},
   "outputs": [],
   "source": [
    "# imports for preprocessing\n",
    "from sklearn.pipeline import Pipeline\n",
    "from sklearn.impute import SimpleImputer\n",
    "from sklearn.preprocessing import OneHotEncoder\n",
    "from sklearn.preprocessing import StandardScaler\n",
    "from sklearn.compose import ColumnTransformer\n",
    "\n"
   ]
  },
  {
   "cell_type": "code",
   "execution_count": 126,
   "metadata": {},
   "outputs": [
    {
     "data": {
      "text/html": [
       "<div>\n",
       "<style scoped>\n",
       "    .dataframe tbody tr th:only-of-type {\n",
       "        vertical-align: middle;\n",
       "    }\n",
       "\n",
       "    .dataframe tbody tr th {\n",
       "        vertical-align: top;\n",
       "    }\n",
       "\n",
       "    .dataframe thead th {\n",
       "        text-align: right;\n",
       "    }\n",
       "</style>\n",
       "<table border=\"1\" class=\"dataframe\">\n",
       "  <thead>\n",
       "    <tr style=\"text-align: right;\">\n",
       "      <th></th>\n",
       "      <th>id</th>\n",
       "      <th>amount_tsh</th>\n",
       "      <th>gps_height</th>\n",
       "      <th>installer</th>\n",
       "      <th>longitude</th>\n",
       "      <th>latitude</th>\n",
       "      <th>basin</th>\n",
       "      <th>region</th>\n",
       "      <th>population</th>\n",
       "      <th>scheme_management</th>\n",
       "      <th>permit</th>\n",
       "      <th>construction_year</th>\n",
       "      <th>extraction_type_class</th>\n",
       "      <th>management_group</th>\n",
       "      <th>payment_type</th>\n",
       "      <th>water_quality</th>\n",
       "      <th>quantity_group</th>\n",
       "      <th>source_class</th>\n",
       "      <th>waterpoint_type_group</th>\n",
       "      <th>amount_tsh_scaled</th>\n",
       "    </tr>\n",
       "  </thead>\n",
       "  <tbody>\n",
       "    <tr>\n",
       "      <th>0</th>\n",
       "      <td>69572</td>\n",
       "      <td>6000.0</td>\n",
       "      <td>1390</td>\n",
       "      <td>Roman</td>\n",
       "      <td>34.938093</td>\n",
       "      <td>-9.856322</td>\n",
       "      <td>Lake Nyasa</td>\n",
       "      <td>Iringa</td>\n",
       "      <td>109</td>\n",
       "      <td>VWC</td>\n",
       "      <td>False</td>\n",
       "      <td>1999</td>\n",
       "      <td>gravity</td>\n",
       "      <td>user-group</td>\n",
       "      <td>annually</td>\n",
       "      <td>soft</td>\n",
       "      <td>enough</td>\n",
       "      <td>groundwater</td>\n",
       "      <td>communal standpipe</td>\n",
       "      <td>6.000</td>\n",
       "    </tr>\n",
       "    <tr>\n",
       "      <th>1</th>\n",
       "      <td>8776</td>\n",
       "      <td>0.0</td>\n",
       "      <td>1399</td>\n",
       "      <td>GRUMETI</td>\n",
       "      <td>34.698766</td>\n",
       "      <td>-2.147466</td>\n",
       "      <td>Lake Victoria</td>\n",
       "      <td>Mara</td>\n",
       "      <td>280</td>\n",
       "      <td>Other</td>\n",
       "      <td>True</td>\n",
       "      <td>2010</td>\n",
       "      <td>gravity</td>\n",
       "      <td>user-group</td>\n",
       "      <td>never pay</td>\n",
       "      <td>soft</td>\n",
       "      <td>insufficient</td>\n",
       "      <td>surface</td>\n",
       "      <td>communal standpipe</td>\n",
       "      <td>0.000</td>\n",
       "    </tr>\n",
       "    <tr>\n",
       "      <th>2</th>\n",
       "      <td>34310</td>\n",
       "      <td>25.0</td>\n",
       "      <td>686</td>\n",
       "      <td>World vision</td>\n",
       "      <td>37.460664</td>\n",
       "      <td>-3.821329</td>\n",
       "      <td>Pangani</td>\n",
       "      <td>Manyara</td>\n",
       "      <td>250</td>\n",
       "      <td>VWC</td>\n",
       "      <td>True</td>\n",
       "      <td>2009</td>\n",
       "      <td>gravity</td>\n",
       "      <td>user-group</td>\n",
       "      <td>per bucket</td>\n",
       "      <td>soft</td>\n",
       "      <td>enough</td>\n",
       "      <td>surface</td>\n",
       "      <td>communal standpipe</td>\n",
       "      <td>0.025</td>\n",
       "    </tr>\n",
       "    <tr>\n",
       "      <th>3</th>\n",
       "      <td>67743</td>\n",
       "      <td>0.0</td>\n",
       "      <td>263</td>\n",
       "      <td>UNICEF</td>\n",
       "      <td>38.486161</td>\n",
       "      <td>-11.155298</td>\n",
       "      <td>Ruvuma / Southern Coast</td>\n",
       "      <td>Mtwara</td>\n",
       "      <td>58</td>\n",
       "      <td>VWC</td>\n",
       "      <td>True</td>\n",
       "      <td>1986</td>\n",
       "      <td>submersible</td>\n",
       "      <td>user-group</td>\n",
       "      <td>never pay</td>\n",
       "      <td>soft</td>\n",
       "      <td>dry</td>\n",
       "      <td>groundwater</td>\n",
       "      <td>communal standpipe</td>\n",
       "      <td>0.000</td>\n",
       "    </tr>\n",
       "    <tr>\n",
       "      <th>4</th>\n",
       "      <td>19728</td>\n",
       "      <td>0.0</td>\n",
       "      <td>0</td>\n",
       "      <td>Artisan</td>\n",
       "      <td>31.130847</td>\n",
       "      <td>-1.825359</td>\n",
       "      <td>Lake Victoria</td>\n",
       "      <td>Kagera</td>\n",
       "      <td>0</td>\n",
       "      <td>VWC</td>\n",
       "      <td>True</td>\n",
       "      <td>1966</td>\n",
       "      <td>gravity</td>\n",
       "      <td>other</td>\n",
       "      <td>never pay</td>\n",
       "      <td>soft</td>\n",
       "      <td>seasonal</td>\n",
       "      <td>surface</td>\n",
       "      <td>communal standpipe</td>\n",
       "      <td>0.000</td>\n",
       "    </tr>\n",
       "  </tbody>\n",
       "</table>\n",
       "</div>"
      ],
      "text/plain": [
       "      id  amount_tsh  gps_height     installer  longitude   latitude  \\\n",
       "0  69572      6000.0        1390         Roman  34.938093  -9.856322   \n",
       "1   8776         0.0        1399       GRUMETI  34.698766  -2.147466   \n",
       "2  34310        25.0         686  World vision  37.460664  -3.821329   \n",
       "3  67743         0.0         263        UNICEF  38.486161 -11.155298   \n",
       "4  19728         0.0           0       Artisan  31.130847  -1.825359   \n",
       "\n",
       "                     basin   region  population scheme_management  permit  \\\n",
       "0               Lake Nyasa   Iringa         109               VWC   False   \n",
       "1            Lake Victoria     Mara         280             Other    True   \n",
       "2                  Pangani  Manyara         250               VWC    True   \n",
       "3  Ruvuma / Southern Coast   Mtwara          58               VWC    True   \n",
       "4            Lake Victoria   Kagera           0               VWC    True   \n",
       "\n",
       "   construction_year extraction_type_class management_group payment_type  \\\n",
       "0               1999               gravity       user-group     annually   \n",
       "1               2010               gravity       user-group    never pay   \n",
       "2               2009               gravity       user-group   per bucket   \n",
       "3               1986           submersible       user-group    never pay   \n",
       "4               1966               gravity            other    never pay   \n",
       "\n",
       "  water_quality quantity_group source_class waterpoint_type_group  \\\n",
       "0          soft         enough  groundwater    communal standpipe   \n",
       "1          soft   insufficient      surface    communal standpipe   \n",
       "2          soft         enough      surface    communal standpipe   \n",
       "3          soft            dry  groundwater    communal standpipe   \n",
       "4          soft       seasonal      surface    communal standpipe   \n",
       "\n",
       "   amount_tsh_scaled  \n",
       "0              6.000  \n",
       "1              0.000  \n",
       "2              0.025  \n",
       "3              0.000  \n",
       "4              0.000  "
      ]
     },
     "execution_count": 126,
     "metadata": {},
     "output_type": "execute_result"
    }
   ],
   "source": [
    "y = df['target']\n",
    "X = df.drop('target', axis=1)\n",
    "\n",
    "# Print first 5 rows of X\n",
    "X.head()"
   ]
  },
  {
   "cell_type": "markdown",
   "metadata": {},
   "source": [
    "ONE-HOT ENCODING OF CATEGORICAL FEATURES"
   ]
  },
  {
   "cell_type": "code",
   "execution_count": 127,
   "metadata": {},
   "outputs": [],
   "source": [
    "cat_col = ['installer', 'basin', 'region', 'scheme_management', \n",
    "           'extraction_type_class', 'management_group', 'payment_type', \n",
    "           'water_quality', 'quantity_group', 'source_class', \n",
    "           'waterpoint_type_group']\n",
    "\n",
    "cont_col = ['amount_tsh','gps_height','longitude','latitude','population','construction_year']\n",
    "\n",
    "binary_col = ['public_meeting', 'permit']"
   ]
  },
  {
   "cell_type": "code",
   "execution_count": 128,
   "metadata": {},
   "outputs": [
    {
     "data": {
      "text/html": [
       "<div>\n",
       "<style scoped>\n",
       "    .dataframe tbody tr th:only-of-type {\n",
       "        vertical-align: middle;\n",
       "    }\n",
       "\n",
       "    .dataframe tbody tr th {\n",
       "        vertical-align: top;\n",
       "    }\n",
       "\n",
       "    .dataframe thead th {\n",
       "        text-align: right;\n",
       "    }\n",
       "</style>\n",
       "<table border=\"1\" class=\"dataframe\">\n",
       "  <thead>\n",
       "    <tr style=\"text-align: right;\">\n",
       "      <th></th>\n",
       "      <th>id</th>\n",
       "      <th>amount_tsh</th>\n",
       "      <th>gps_height</th>\n",
       "      <th>longitude</th>\n",
       "      <th>latitude</th>\n",
       "      <th>population</th>\n",
       "      <th>permit</th>\n",
       "      <th>construction_year</th>\n",
       "      <th>amount_tsh_scaled</th>\n",
       "      <th>installer_-</th>\n",
       "      <th>...</th>\n",
       "      <th>quantity_group_unknown</th>\n",
       "      <th>source_class_groundwater</th>\n",
       "      <th>source_class_surface</th>\n",
       "      <th>source_class_unknown</th>\n",
       "      <th>waterpoint_type_group_cattle trough</th>\n",
       "      <th>waterpoint_type_group_communal standpipe</th>\n",
       "      <th>waterpoint_type_group_dam</th>\n",
       "      <th>waterpoint_type_group_hand pump</th>\n",
       "      <th>waterpoint_type_group_improved spring</th>\n",
       "      <th>waterpoint_type_group_other</th>\n",
       "    </tr>\n",
       "  </thead>\n",
       "  <tbody>\n",
       "    <tr>\n",
       "      <th>0</th>\n",
       "      <td>69572</td>\n",
       "      <td>6000.0</td>\n",
       "      <td>1390</td>\n",
       "      <td>34.938093</td>\n",
       "      <td>-9.856322</td>\n",
       "      <td>109</td>\n",
       "      <td>False</td>\n",
       "      <td>1999</td>\n",
       "      <td>6.000</td>\n",
       "      <td>0</td>\n",
       "      <td>...</td>\n",
       "      <td>0</td>\n",
       "      <td>1</td>\n",
       "      <td>0</td>\n",
       "      <td>0</td>\n",
       "      <td>0</td>\n",
       "      <td>1</td>\n",
       "      <td>0</td>\n",
       "      <td>0</td>\n",
       "      <td>0</td>\n",
       "      <td>0</td>\n",
       "    </tr>\n",
       "    <tr>\n",
       "      <th>1</th>\n",
       "      <td>8776</td>\n",
       "      <td>0.0</td>\n",
       "      <td>1399</td>\n",
       "      <td>34.698766</td>\n",
       "      <td>-2.147466</td>\n",
       "      <td>280</td>\n",
       "      <td>True</td>\n",
       "      <td>2010</td>\n",
       "      <td>0.000</td>\n",
       "      <td>0</td>\n",
       "      <td>...</td>\n",
       "      <td>0</td>\n",
       "      <td>0</td>\n",
       "      <td>1</td>\n",
       "      <td>0</td>\n",
       "      <td>0</td>\n",
       "      <td>1</td>\n",
       "      <td>0</td>\n",
       "      <td>0</td>\n",
       "      <td>0</td>\n",
       "      <td>0</td>\n",
       "    </tr>\n",
       "    <tr>\n",
       "      <th>2</th>\n",
       "      <td>34310</td>\n",
       "      <td>25.0</td>\n",
       "      <td>686</td>\n",
       "      <td>37.460664</td>\n",
       "      <td>-3.821329</td>\n",
       "      <td>250</td>\n",
       "      <td>True</td>\n",
       "      <td>2009</td>\n",
       "      <td>0.025</td>\n",
       "      <td>0</td>\n",
       "      <td>...</td>\n",
       "      <td>0</td>\n",
       "      <td>0</td>\n",
       "      <td>1</td>\n",
       "      <td>0</td>\n",
       "      <td>0</td>\n",
       "      <td>1</td>\n",
       "      <td>0</td>\n",
       "      <td>0</td>\n",
       "      <td>0</td>\n",
       "      <td>0</td>\n",
       "    </tr>\n",
       "    <tr>\n",
       "      <th>3</th>\n",
       "      <td>67743</td>\n",
       "      <td>0.0</td>\n",
       "      <td>263</td>\n",
       "      <td>38.486161</td>\n",
       "      <td>-11.155298</td>\n",
       "      <td>58</td>\n",
       "      <td>True</td>\n",
       "      <td>1986</td>\n",
       "      <td>0.000</td>\n",
       "      <td>0</td>\n",
       "      <td>...</td>\n",
       "      <td>0</td>\n",
       "      <td>1</td>\n",
       "      <td>0</td>\n",
       "      <td>0</td>\n",
       "      <td>0</td>\n",
       "      <td>1</td>\n",
       "      <td>0</td>\n",
       "      <td>0</td>\n",
       "      <td>0</td>\n",
       "      <td>0</td>\n",
       "    </tr>\n",
       "    <tr>\n",
       "      <th>4</th>\n",
       "      <td>19728</td>\n",
       "      <td>0.0</td>\n",
       "      <td>0</td>\n",
       "      <td>31.130847</td>\n",
       "      <td>-1.825359</td>\n",
       "      <td>0</td>\n",
       "      <td>True</td>\n",
       "      <td>1966</td>\n",
       "      <td>0.000</td>\n",
       "      <td>0</td>\n",
       "      <td>...</td>\n",
       "      <td>0</td>\n",
       "      <td>0</td>\n",
       "      <td>1</td>\n",
       "      <td>0</td>\n",
       "      <td>0</td>\n",
       "      <td>1</td>\n",
       "      <td>0</td>\n",
       "      <td>0</td>\n",
       "      <td>0</td>\n",
       "      <td>0</td>\n",
       "    </tr>\n",
       "    <tr>\n",
       "      <th>...</th>\n",
       "      <td>...</td>\n",
       "      <td>...</td>\n",
       "      <td>...</td>\n",
       "      <td>...</td>\n",
       "      <td>...</td>\n",
       "      <td>...</td>\n",
       "      <td>...</td>\n",
       "      <td>...</td>\n",
       "      <td>...</td>\n",
       "      <td>...</td>\n",
       "      <td>...</td>\n",
       "      <td>...</td>\n",
       "      <td>...</td>\n",
       "      <td>...</td>\n",
       "      <td>...</td>\n",
       "      <td>...</td>\n",
       "      <td>...</td>\n",
       "      <td>...</td>\n",
       "      <td>...</td>\n",
       "      <td>...</td>\n",
       "      <td>...</td>\n",
       "    </tr>\n",
       "    <tr>\n",
       "      <th>59395</th>\n",
       "      <td>60739</td>\n",
       "      <td>10.0</td>\n",
       "      <td>1210</td>\n",
       "      <td>37.169807</td>\n",
       "      <td>-3.253847</td>\n",
       "      <td>125</td>\n",
       "      <td>True</td>\n",
       "      <td>1999</td>\n",
       "      <td>0.010</td>\n",
       "      <td>0</td>\n",
       "      <td>...</td>\n",
       "      <td>0</td>\n",
       "      <td>1</td>\n",
       "      <td>0</td>\n",
       "      <td>0</td>\n",
       "      <td>0</td>\n",
       "      <td>1</td>\n",
       "      <td>0</td>\n",
       "      <td>0</td>\n",
       "      <td>0</td>\n",
       "      <td>0</td>\n",
       "    </tr>\n",
       "    <tr>\n",
       "      <th>59396</th>\n",
       "      <td>27263</td>\n",
       "      <td>4700.0</td>\n",
       "      <td>1212</td>\n",
       "      <td>35.249991</td>\n",
       "      <td>-9.070629</td>\n",
       "      <td>56</td>\n",
       "      <td>True</td>\n",
       "      <td>1996</td>\n",
       "      <td>4.700</td>\n",
       "      <td>0</td>\n",
       "      <td>...</td>\n",
       "      <td>0</td>\n",
       "      <td>0</td>\n",
       "      <td>1</td>\n",
       "      <td>0</td>\n",
       "      <td>0</td>\n",
       "      <td>1</td>\n",
       "      <td>0</td>\n",
       "      <td>0</td>\n",
       "      <td>0</td>\n",
       "      <td>0</td>\n",
       "    </tr>\n",
       "    <tr>\n",
       "      <th>59397</th>\n",
       "      <td>37057</td>\n",
       "      <td>0.0</td>\n",
       "      <td>0</td>\n",
       "      <td>34.017087</td>\n",
       "      <td>-8.750434</td>\n",
       "      <td>0</td>\n",
       "      <td>False</td>\n",
       "      <td>1966</td>\n",
       "      <td>0.000</td>\n",
       "      <td>0</td>\n",
       "      <td>...</td>\n",
       "      <td>0</td>\n",
       "      <td>1</td>\n",
       "      <td>0</td>\n",
       "      <td>0</td>\n",
       "      <td>0</td>\n",
       "      <td>0</td>\n",
       "      <td>0</td>\n",
       "      <td>1</td>\n",
       "      <td>0</td>\n",
       "      <td>0</td>\n",
       "    </tr>\n",
       "    <tr>\n",
       "      <th>59398</th>\n",
       "      <td>31282</td>\n",
       "      <td>0.0</td>\n",
       "      <td>0</td>\n",
       "      <td>35.861315</td>\n",
       "      <td>-6.378573</td>\n",
       "      <td>0</td>\n",
       "      <td>True</td>\n",
       "      <td>1966</td>\n",
       "      <td>0.000</td>\n",
       "      <td>0</td>\n",
       "      <td>...</td>\n",
       "      <td>0</td>\n",
       "      <td>1</td>\n",
       "      <td>0</td>\n",
       "      <td>0</td>\n",
       "      <td>0</td>\n",
       "      <td>0</td>\n",
       "      <td>0</td>\n",
       "      <td>1</td>\n",
       "      <td>0</td>\n",
       "      <td>0</td>\n",
       "    </tr>\n",
       "    <tr>\n",
       "      <th>59399</th>\n",
       "      <td>26348</td>\n",
       "      <td>0.0</td>\n",
       "      <td>191</td>\n",
       "      <td>38.104048</td>\n",
       "      <td>-6.747464</td>\n",
       "      <td>150</td>\n",
       "      <td>True</td>\n",
       "      <td>2002</td>\n",
       "      <td>0.000</td>\n",
       "      <td>0</td>\n",
       "      <td>...</td>\n",
       "      <td>0</td>\n",
       "      <td>1</td>\n",
       "      <td>0</td>\n",
       "      <td>0</td>\n",
       "      <td>0</td>\n",
       "      <td>0</td>\n",
       "      <td>0</td>\n",
       "      <td>1</td>\n",
       "      <td>0</td>\n",
       "      <td>0</td>\n",
       "    </tr>\n",
       "  </tbody>\n",
       "</table>\n",
       "<p>59400 rows × 2237 columns</p>\n",
       "</div>"
      ],
      "text/plain": [
       "          id  amount_tsh  gps_height  longitude   latitude  population  \\\n",
       "0      69572      6000.0        1390  34.938093  -9.856322         109   \n",
       "1       8776         0.0        1399  34.698766  -2.147466         280   \n",
       "2      34310        25.0         686  37.460664  -3.821329         250   \n",
       "3      67743         0.0         263  38.486161 -11.155298          58   \n",
       "4      19728         0.0           0  31.130847  -1.825359           0   \n",
       "...      ...         ...         ...        ...        ...         ...   \n",
       "59395  60739        10.0        1210  37.169807  -3.253847         125   \n",
       "59396  27263      4700.0        1212  35.249991  -9.070629          56   \n",
       "59397  37057         0.0           0  34.017087  -8.750434           0   \n",
       "59398  31282         0.0           0  35.861315  -6.378573           0   \n",
       "59399  26348         0.0         191  38.104048  -6.747464         150   \n",
       "\n",
       "       permit  construction_year  amount_tsh_scaled  installer_-  ...  \\\n",
       "0       False               1999              6.000            0  ...   \n",
       "1        True               2010              0.000            0  ...   \n",
       "2        True               2009              0.025            0  ...   \n",
       "3        True               1986              0.000            0  ...   \n",
       "4        True               1966              0.000            0  ...   \n",
       "...       ...                ...                ...          ...  ...   \n",
       "59395    True               1999              0.010            0  ...   \n",
       "59396    True               1996              4.700            0  ...   \n",
       "59397   False               1966              0.000            0  ...   \n",
       "59398    True               1966              0.000            0  ...   \n",
       "59399    True               2002              0.000            0  ...   \n",
       "\n",
       "       quantity_group_unknown  source_class_groundwater  source_class_surface  \\\n",
       "0                           0                         1                     0   \n",
       "1                           0                         0                     1   \n",
       "2                           0                         0                     1   \n",
       "3                           0                         1                     0   \n",
       "4                           0                         0                     1   \n",
       "...                       ...                       ...                   ...   \n",
       "59395                       0                         1                     0   \n",
       "59396                       0                         0                     1   \n",
       "59397                       0                         1                     0   \n",
       "59398                       0                         1                     0   \n",
       "59399                       0                         1                     0   \n",
       "\n",
       "       source_class_unknown  waterpoint_type_group_cattle trough  \\\n",
       "0                         0                                    0   \n",
       "1                         0                                    0   \n",
       "2                         0                                    0   \n",
       "3                         0                                    0   \n",
       "4                         0                                    0   \n",
       "...                     ...                                  ...   \n",
       "59395                     0                                    0   \n",
       "59396                     0                                    0   \n",
       "59397                     0                                    0   \n",
       "59398                     0                                    0   \n",
       "59399                     0                                    0   \n",
       "\n",
       "       waterpoint_type_group_communal standpipe  waterpoint_type_group_dam  \\\n",
       "0                                             1                          0   \n",
       "1                                             1                          0   \n",
       "2                                             1                          0   \n",
       "3                                             1                          0   \n",
       "4                                             1                          0   \n",
       "...                                         ...                        ...   \n",
       "59395                                         1                          0   \n",
       "59396                                         1                          0   \n",
       "59397                                         0                          0   \n",
       "59398                                         0                          0   \n",
       "59399                                         0                          0   \n",
       "\n",
       "       waterpoint_type_group_hand pump  waterpoint_type_group_improved spring  \\\n",
       "0                                    0                                      0   \n",
       "1                                    0                                      0   \n",
       "2                                    0                                      0   \n",
       "3                                    0                                      0   \n",
       "4                                    0                                      0   \n",
       "...                                ...                                    ...   \n",
       "59395                                0                                      0   \n",
       "59396                                0                                      0   \n",
       "59397                                1                                      0   \n",
       "59398                                1                                      0   \n",
       "59399                                1                                      0   \n",
       "\n",
       "       waterpoint_type_group_other  \n",
       "0                                0  \n",
       "1                                0  \n",
       "2                                0  \n",
       "3                                0  \n",
       "4                                0  \n",
       "...                            ...  \n",
       "59395                            0  \n",
       "59396                            0  \n",
       "59397                            0  \n",
       "59398                            0  \n",
       "59399                            0  \n",
       "\n",
       "[59400 rows x 2237 columns]"
      ]
     },
     "execution_count": 128,
     "metadata": {},
     "output_type": "execute_result"
    }
   ],
   "source": [
    "#Create dummies\n",
    "X = pd.get_dummies(X, columns=cat_col)\n",
    "\n",
    "# Print X\n",
    "X"
   ]
  },
  {
   "cell_type": "markdown",
   "metadata": {},
   "source": [
    "MACHINE LEARNING MODELLING\n",
    "### classifications\n",
    "- baseline modeling\n",
    "- logistics regression\n",
    "- KNearest\n",
    "- DecissionTreeClassifiers\n",
    "- Random Forest\n",
    "- support Vector machine\n",
    "- Naives Bayes\n",
    "- XGBoost\n"
   ]
  },
  {
   "cell_type": "markdown",
   "metadata": {},
   "source": [
    "In order to avoid incurring maintenance costs and prevent the government and other entities from using equipment and resources for well construction it is important to accurately predict malfunctioning pumps beforehand.\n",
    "\n",
    "However if we lower the sensitivity of the model in order to detect all pumps correctly it may result in an increased positive rate. This would mean wasting time and resources on servicing pumps that are actually functioning properly.\n",
    "\n",
    "By classifying all the pumps we can save government resources that could be better used for constructing new water sources. Hence I believe that using the f1 score as the performance metric for this project is most suitable since it ensures precision and recall.\n",
    "\n",
    "To determine the classifier, for this project we will construct models using different classifiers and compare their performance metrics. The classifiers we consider using are in the above cell.\n"
   ]
  },
  {
   "cell_type": "markdown",
   "metadata": {},
   "source": [
    "I will first split the data into train and test sets. The training set will be 80% of the data and the testing set 20%. I will also maintain a random state of 42 to ensure reproducibility."
   ]
  },
  {
   "cell_type": "code",
   "execution_count": 151,
   "metadata": {},
   "outputs": [],
   "source": [
    "from sklearn.model_selection import train_test_split\n",
    "from sklearn.linear_model import LogisticRegression\n",
    "from sklearn.preprocessing import StandardScaler\n",
    "from sklearn.metrics import classification_report\n",
    "from sklearn.metrics import accuracy_score\n",
    "from sklearn.metrics import precision_score\n",
    "from sklearn.metrics import recall_score\n",
    "from sklearn.metrics import f1_score\n",
    "from sklearn.metrics import confusion_matrix\n",
    "from sklearn.metrics import confusion_matrix, ConfusionMatrixDisplay\n",
    "\n",
    "\n",
    "\n",
    "\n",
    "X_train, X_test, y_train, y_test = train_test_split(X, y, test_size= 0.2, random_state=42)"
   ]
  },
  {
   "cell_type": "code",
   "execution_count": 130,
   "metadata": {},
   "outputs": [
    {
     "data": {
      "text/html": [
       "<div>\n",
       "<style scoped>\n",
       "    .dataframe tbody tr th:only-of-type {\n",
       "        vertical-align: middle;\n",
       "    }\n",
       "\n",
       "    .dataframe tbody tr th {\n",
       "        vertical-align: top;\n",
       "    }\n",
       "\n",
       "    .dataframe thead th {\n",
       "        text-align: right;\n",
       "    }\n",
       "</style>\n",
       "<table border=\"1\" class=\"dataframe\">\n",
       "  <thead>\n",
       "    <tr style=\"text-align: right;\">\n",
       "      <th></th>\n",
       "      <th>id</th>\n",
       "      <th>amount_tsh</th>\n",
       "      <th>gps_height</th>\n",
       "      <th>longitude</th>\n",
       "      <th>latitude</th>\n",
       "      <th>population</th>\n",
       "      <th>construction_year</th>\n",
       "      <th>amount_tsh_scaled</th>\n",
       "      <th>installer_-</th>\n",
       "      <th>installer_0</th>\n",
       "      <th>...</th>\n",
       "      <th>quantity_group_unknown</th>\n",
       "      <th>source_class_groundwater</th>\n",
       "      <th>source_class_surface</th>\n",
       "      <th>source_class_unknown</th>\n",
       "      <th>waterpoint_type_group_cattle trough</th>\n",
       "      <th>waterpoint_type_group_communal standpipe</th>\n",
       "      <th>waterpoint_type_group_dam</th>\n",
       "      <th>waterpoint_type_group_hand pump</th>\n",
       "      <th>waterpoint_type_group_improved spring</th>\n",
       "      <th>waterpoint_type_group_other</th>\n",
       "    </tr>\n",
       "  </thead>\n",
       "  <tbody>\n",
       "    <tr>\n",
       "      <th>count</th>\n",
       "      <td>47520.000000</td>\n",
       "      <td>47520.000000</td>\n",
       "      <td>47520.000000</td>\n",
       "      <td>47520.000000</td>\n",
       "      <td>4.752000e+04</td>\n",
       "      <td>47520.000000</td>\n",
       "      <td>47520.000000</td>\n",
       "      <td>47520.000000</td>\n",
       "      <td>47520.000000</td>\n",
       "      <td>47520.000000</td>\n",
       "      <td>...</td>\n",
       "      <td>47520.000000</td>\n",
       "      <td>47520.000000</td>\n",
       "      <td>47520.000000</td>\n",
       "      <td>47520.000000</td>\n",
       "      <td>47520.000000</td>\n",
       "      <td>47520.000000</td>\n",
       "      <td>47520.000000</td>\n",
       "      <td>47520.000000</td>\n",
       "      <td>47520.000000</td>\n",
       "      <td>47520.000000</td>\n",
       "    </tr>\n",
       "    <tr>\n",
       "      <th>mean</th>\n",
       "      <td>37114.486406</td>\n",
       "      <td>322.047573</td>\n",
       "      <td>668.745370</td>\n",
       "      <td>34.091316</td>\n",
       "      <td>-5.705002e+00</td>\n",
       "      <td>179.528283</td>\n",
       "      <td>1986.116204</td>\n",
       "      <td>0.322048</td>\n",
       "      <td>0.000063</td>\n",
       "      <td>0.013321</td>\n",
       "      <td>...</td>\n",
       "      <td>0.013237</td>\n",
       "      <td>0.770770</td>\n",
       "      <td>0.224306</td>\n",
       "      <td>0.004924</td>\n",
       "      <td>0.001915</td>\n",
       "      <td>0.581124</td>\n",
       "      <td>0.000084</td>\n",
       "      <td>0.296149</td>\n",
       "      <td>0.013447</td>\n",
       "      <td>0.107281</td>\n",
       "    </tr>\n",
       "    <tr>\n",
       "      <th>std</th>\n",
       "      <td>21445.765406</td>\n",
       "      <td>3200.623244</td>\n",
       "      <td>692.972153</td>\n",
       "      <td>6.538403</td>\n",
       "      <td>2.943503e+00</td>\n",
       "      <td>472.772997</td>\n",
       "      <td>17.804201</td>\n",
       "      <td>3.200623</td>\n",
       "      <td>0.007945</td>\n",
       "      <td>0.114645</td>\n",
       "      <td>...</td>\n",
       "      <td>0.114287</td>\n",
       "      <td>0.420342</td>\n",
       "      <td>0.417129</td>\n",
       "      <td>0.070001</td>\n",
       "      <td>0.043719</td>\n",
       "      <td>0.493380</td>\n",
       "      <td>0.009174</td>\n",
       "      <td>0.456562</td>\n",
       "      <td>0.115180</td>\n",
       "      <td>0.309474</td>\n",
       "    </tr>\n",
       "    <tr>\n",
       "      <th>min</th>\n",
       "      <td>0.000000</td>\n",
       "      <td>0.000000</td>\n",
       "      <td>-63.000000</td>\n",
       "      <td>0.000000</td>\n",
       "      <td>-1.164944e+01</td>\n",
       "      <td>0.000000</td>\n",
       "      <td>1960.000000</td>\n",
       "      <td>0.000000</td>\n",
       "      <td>0.000000</td>\n",
       "      <td>0.000000</td>\n",
       "      <td>...</td>\n",
       "      <td>0.000000</td>\n",
       "      <td>0.000000</td>\n",
       "      <td>0.000000</td>\n",
       "      <td>0.000000</td>\n",
       "      <td>0.000000</td>\n",
       "      <td>0.000000</td>\n",
       "      <td>0.000000</td>\n",
       "      <td>0.000000</td>\n",
       "      <td>0.000000</td>\n",
       "      <td>0.000000</td>\n",
       "    </tr>\n",
       "    <tr>\n",
       "      <th>25%</th>\n",
       "      <td>18555.750000</td>\n",
       "      <td>0.000000</td>\n",
       "      <td>0.000000</td>\n",
       "      <td>33.084320</td>\n",
       "      <td>-8.532465e+00</td>\n",
       "      <td>0.000000</td>\n",
       "      <td>1966.000000</td>\n",
       "      <td>0.000000</td>\n",
       "      <td>0.000000</td>\n",
       "      <td>0.000000</td>\n",
       "      <td>...</td>\n",
       "      <td>0.000000</td>\n",
       "      <td>1.000000</td>\n",
       "      <td>0.000000</td>\n",
       "      <td>0.000000</td>\n",
       "      <td>0.000000</td>\n",
       "      <td>0.000000</td>\n",
       "      <td>0.000000</td>\n",
       "      <td>0.000000</td>\n",
       "      <td>0.000000</td>\n",
       "      <td>0.000000</td>\n",
       "    </tr>\n",
       "    <tr>\n",
       "      <th>50%</th>\n",
       "      <td>37038.000000</td>\n",
       "      <td>0.000000</td>\n",
       "      <td>370.000000</td>\n",
       "      <td>34.911677</td>\n",
       "      <td>-5.017697e+00</td>\n",
       "      <td>25.000000</td>\n",
       "      <td>1986.000000</td>\n",
       "      <td>0.000000</td>\n",
       "      <td>0.000000</td>\n",
       "      <td>0.000000</td>\n",
       "      <td>...</td>\n",
       "      <td>0.000000</td>\n",
       "      <td>1.000000</td>\n",
       "      <td>0.000000</td>\n",
       "      <td>0.000000</td>\n",
       "      <td>0.000000</td>\n",
       "      <td>1.000000</td>\n",
       "      <td>0.000000</td>\n",
       "      <td>0.000000</td>\n",
       "      <td>0.000000</td>\n",
       "      <td>0.000000</td>\n",
       "    </tr>\n",
       "    <tr>\n",
       "      <th>75%</th>\n",
       "      <td>55666.250000</td>\n",
       "      <td>20.000000</td>\n",
       "      <td>1320.000000</td>\n",
       "      <td>37.180585</td>\n",
       "      <td>-3.326464e+00</td>\n",
       "      <td>213.000000</td>\n",
       "      <td>2004.000000</td>\n",
       "      <td>0.020000</td>\n",
       "      <td>0.000000</td>\n",
       "      <td>0.000000</td>\n",
       "      <td>...</td>\n",
       "      <td>0.000000</td>\n",
       "      <td>1.000000</td>\n",
       "      <td>0.000000</td>\n",
       "      <td>0.000000</td>\n",
       "      <td>0.000000</td>\n",
       "      <td>1.000000</td>\n",
       "      <td>0.000000</td>\n",
       "      <td>1.000000</td>\n",
       "      <td>0.000000</td>\n",
       "      <td>0.000000</td>\n",
       "    </tr>\n",
       "    <tr>\n",
       "      <th>max</th>\n",
       "      <td>74247.000000</td>\n",
       "      <td>350000.000000</td>\n",
       "      <td>2770.000000</td>\n",
       "      <td>40.345193</td>\n",
       "      <td>-2.000000e-08</td>\n",
       "      <td>30500.000000</td>\n",
       "      <td>2013.000000</td>\n",
       "      <td>350.000000</td>\n",
       "      <td>1.000000</td>\n",
       "      <td>1.000000</td>\n",
       "      <td>...</td>\n",
       "      <td>1.000000</td>\n",
       "      <td>1.000000</td>\n",
       "      <td>1.000000</td>\n",
       "      <td>1.000000</td>\n",
       "      <td>1.000000</td>\n",
       "      <td>1.000000</td>\n",
       "      <td>1.000000</td>\n",
       "      <td>1.000000</td>\n",
       "      <td>1.000000</td>\n",
       "      <td>1.000000</td>\n",
       "    </tr>\n",
       "  </tbody>\n",
       "</table>\n",
       "<p>8 rows × 2236 columns</p>\n",
       "</div>"
      ],
      "text/plain": [
       "                 id     amount_tsh    gps_height     longitude      latitude  \\\n",
       "count  47520.000000   47520.000000  47520.000000  47520.000000  4.752000e+04   \n",
       "mean   37114.486406     322.047573    668.745370     34.091316 -5.705002e+00   \n",
       "std    21445.765406    3200.623244    692.972153      6.538403  2.943503e+00   \n",
       "min        0.000000       0.000000    -63.000000      0.000000 -1.164944e+01   \n",
       "25%    18555.750000       0.000000      0.000000     33.084320 -8.532465e+00   \n",
       "50%    37038.000000       0.000000    370.000000     34.911677 -5.017697e+00   \n",
       "75%    55666.250000      20.000000   1320.000000     37.180585 -3.326464e+00   \n",
       "max    74247.000000  350000.000000   2770.000000     40.345193 -2.000000e-08   \n",
       "\n",
       "         population  construction_year  amount_tsh_scaled   installer_-  \\\n",
       "count  47520.000000       47520.000000       47520.000000  47520.000000   \n",
       "mean     179.528283        1986.116204           0.322048      0.000063   \n",
       "std      472.772997          17.804201           3.200623      0.007945   \n",
       "min        0.000000        1960.000000           0.000000      0.000000   \n",
       "25%        0.000000        1966.000000           0.000000      0.000000   \n",
       "50%       25.000000        1986.000000           0.000000      0.000000   \n",
       "75%      213.000000        2004.000000           0.020000      0.000000   \n",
       "max    30500.000000        2013.000000         350.000000      1.000000   \n",
       "\n",
       "        installer_0  ...  quantity_group_unknown  source_class_groundwater  \\\n",
       "count  47520.000000  ...            47520.000000              47520.000000   \n",
       "mean       0.013321  ...                0.013237                  0.770770   \n",
       "std        0.114645  ...                0.114287                  0.420342   \n",
       "min        0.000000  ...                0.000000                  0.000000   \n",
       "25%        0.000000  ...                0.000000                  1.000000   \n",
       "50%        0.000000  ...                0.000000                  1.000000   \n",
       "75%        0.000000  ...                0.000000                  1.000000   \n",
       "max        1.000000  ...                1.000000                  1.000000   \n",
       "\n",
       "       source_class_surface  source_class_unknown  \\\n",
       "count          47520.000000          47520.000000   \n",
       "mean               0.224306              0.004924   \n",
       "std                0.417129              0.070001   \n",
       "min                0.000000              0.000000   \n",
       "25%                0.000000              0.000000   \n",
       "50%                0.000000              0.000000   \n",
       "75%                0.000000              0.000000   \n",
       "max                1.000000              1.000000   \n",
       "\n",
       "       waterpoint_type_group_cattle trough  \\\n",
       "count                         47520.000000   \n",
       "mean                              0.001915   \n",
       "std                               0.043719   \n",
       "min                               0.000000   \n",
       "25%                               0.000000   \n",
       "50%                               0.000000   \n",
       "75%                               0.000000   \n",
       "max                               1.000000   \n",
       "\n",
       "       waterpoint_type_group_communal standpipe  waterpoint_type_group_dam  \\\n",
       "count                              47520.000000               47520.000000   \n",
       "mean                                   0.581124                   0.000084   \n",
       "std                                    0.493380                   0.009174   \n",
       "min                                    0.000000                   0.000000   \n",
       "25%                                    0.000000                   0.000000   \n",
       "50%                                    1.000000                   0.000000   \n",
       "75%                                    1.000000                   0.000000   \n",
       "max                                    1.000000                   1.000000   \n",
       "\n",
       "       waterpoint_type_group_hand pump  waterpoint_type_group_improved spring  \\\n",
       "count                     47520.000000                           47520.000000   \n",
       "mean                          0.296149                               0.013447   \n",
       "std                           0.456562                               0.115180   \n",
       "min                           0.000000                               0.000000   \n",
       "25%                           0.000000                               0.000000   \n",
       "50%                           0.000000                               0.000000   \n",
       "75%                           1.000000                               0.000000   \n",
       "max                           1.000000                               1.000000   \n",
       "\n",
       "       waterpoint_type_group_other  \n",
       "count                 47520.000000  \n",
       "mean                      0.107281  \n",
       "std                       0.309474  \n",
       "min                       0.000000  \n",
       "25%                       0.000000  \n",
       "50%                       0.000000  \n",
       "75%                       0.000000  \n",
       "max                       1.000000  \n",
       "\n",
       "[8 rows x 2236 columns]"
      ]
     },
     "execution_count": 130,
     "metadata": {},
     "output_type": "execute_result"
    }
   ],
   "source": [
    "# Check basic statistics of the training data\n",
    "X_train.describe()"
   ]
  },
  {
   "cell_type": "markdown",
   "metadata": {},
   "source": [
    "Most featuares are on different scales and therefore we will need to build a baseline logistic regression, scale and fit it in a pipeline then follow with other models"
   ]
  },
  {
   "cell_type": "code",
   "execution_count": 131,
   "metadata": {},
   "outputs": [],
   "source": [
    "# Create a class to print model scores\n",
    "# Initiate metrics list as a global variable\n",
    "metrics_list=[]\n",
    "\n",
    "class Metrics:\n",
    "    def model_score(self, model, y_true, y_pred):\n",
    "        # Print classification report, accuracy, precision, recall, f1_score \n",
    "        print(classification_report(y_true, y_pred))\n",
    "        print(\"Overall accuracy score\", accuracy_score(y_true, y_pred))\n",
    "        print(\"Overall precision score\", precision_score(y_true, y_pred, average='weighted'))\n",
    "        print(\"Overall recall score\", recall_score(y_true, y_pred, average='weighted'))\n",
    "        print(\"Overall F1-score\", f1_score(y_true, y_pred, average='weighted'))\n",
    "\n",
    "        # Print a confusion matrix    \n",
    "        cnf_matrix = confusion_matrix(y_true, y_pred)\n",
    "        disp = ConfusionMatrixDisplay(confusion_matrix=cnf_matrix, display_labels=model.classes_)\n",
    "        print('\\nConfusion Matrix')       \n",
    "        return disp.plot()\n",
    "\n",
    "    # Create a list of model metrics\n",
    "    def get_metrics(self, model_name, model, y_true, y_pred):  #y_test, X_test, model\n",
    "        metrics = {}  \n",
    "        metrics['model_name'] = model_name\n",
    "        metrics['accuracy'] = accuracy_score(y_true, y_pred)\n",
    "        metrics['f1 score'] = f1_score(y_true, y_pred, average='weighted')\n",
    "        metrics['precision'] = precision_score(y_true, y_pred, average='weighted')\n",
    "        metrics['recall'] = recall_score(y_true, y_pred, average='weighted')\n",
    "        metrics_list.append(metrics)\n",
    "        return metrics_list"
   ]
  },
  {
   "cell_type": "markdown",
   "metadata": {},
   "source": [
    "baseline model pipeline\n",
    "\n",
    "we create a simple logistic regression then fit it to a training data."
   ]
  },
  {
   "cell_type": "code",
   "execution_count": 137,
   "metadata": {},
   "outputs": [
    {
     "data": {
      "text/plain": [
       "0.7696969696969697"
      ]
     },
     "execution_count": 137,
     "metadata": {},
     "output_type": "execute_result"
    }
   ],
   "source": [
    "pipe_logistic = Pipeline([('ss', StandardScaler()),\n",
    "                          ('lr', LogisticRegression(max_iter=1000, random_state=42))])\n",
    "\n",
    "\n",
    "scaler = StandardScaler()\n",
    "X_train_scaled = scaler.fit_transform(X_train)\n",
    "X_test_scaled = scaler.transform(X_test) \n",
    "\n",
    "pipe_logistic.fit(X_train_scaled, y_train)\n",
    "pipe_logistic.score(X_test_scaled, y_test)\n"
   ]
  },
  {
   "cell_type": "code",
   "execution_count": 152,
   "metadata": {},
   "outputs": [
    {
     "name": "stdout",
     "output_type": "stream",
     "text": [
      "              precision    recall  f1-score   support\n",
      "\n",
      "           0       0.80      0.66      0.72      5423\n",
      "           1       0.75      0.86      0.80      6457\n",
      "\n",
      "    accuracy                           0.77     11880\n",
      "   macro avg       0.78      0.76      0.76     11880\n",
      "weighted avg       0.77      0.77      0.77     11880\n",
      "\n",
      "Overall accuracy score 0.7697811447811448\n",
      "Overall precision score 0.7739528411549605\n",
      "Overall recall score 0.7697811447811448\n",
      "Overall F1-score 0.7665224983677648\n",
      "\n",
      "Confusion Matrix\n"
     ]
    },
    {
     "data": {
      "text/plain": [
       "<sklearn.metrics._plot.confusion_matrix.ConfusionMatrixDisplay at 0x1e85bd97970>"
      ]
     },
     "execution_count": 152,
     "metadata": {},
     "output_type": "execute_result"
    },
    {
     "data": {
      "image/png": "[encoded data removed]",
      "text/plain": [
       "<Figure size 432x288 with 2 Axes>"
      ]
     },
     "metadata": {
      "needs_background": "light"
     },
     "output_type": "display_data"
    }
   ],
   "source": [
    "# Print model metrics\n",
    "# Predict target\n",
    "y_pred = log_model.predict(X_test)\n",
    "\n",
    "# Create metrics object\n",
    "score_metrics = Metrics()\n",
    "\n",
    "# Print classification report, scores, and confusion matrix\n",
    "score_metrics.model_score(log_model, y_test, y_pred)"
   ]
  },
  {
   "cell_type": "markdown",
   "metadata": {},
   "source": [
    "baseline model pipeline"
   ]
  },
  {
   "cell_type": "code",
   "execution_count": null,
   "metadata": {},
   "outputs": [],
   "source": []
  },
  {
   "cell_type": "code",
   "execution_count": null,
   "metadata": {},
   "outputs": [],
   "source": []
  }
 ],
 "metadata": {
  "kernelspec": {
   "display_name": "Python (learn-env)",
   "language": "python",
   "name": "learn-env"
  },
  "language_info": {
   "codemirror_mode": {
    "name": "ipython",
    "version": 3
   },
   "file_extension": ".py",
   "mimetype": "text/x-python",
   "name": "python",
   "nbconvert_exporter": "python",
   "pygments_lexer": "ipython3",
   "version": "3.8.5"
  }
 },
 "nbformat": 4,
 "nbformat_minor": 4
}
