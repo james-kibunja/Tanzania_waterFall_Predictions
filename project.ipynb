{
 "cells": [
  {
   "cell_type": "markdown",
   "metadata": {},
   "source": [
    "### Objective of the study\n",
    "\n",
    "- Tanzania, as a developing country, struggles with providing clean water to its population of over 57,000,000. There are many water points already established in the country, but some are in need of repair while others have failed altogether.\n",
    "\n",
    "- Build a classifier to predict the condition of a water well, using information about the sort of pump, when it was installed, etc. Your audience could be an NGO focused on locating wells needing repair, or the Government of Tanzania looking to find patterns in non-functional wells to influence how new wells are built. Note that this is a ternary classification problem by default, but can be engineered to be binary.\n",
    "\n",
    "Through this analysis we are going to answer the following questions:\n",
    "\n",
    "Q1. Does source of water influence the functionality of the wells?\n",
    "\n",
    "Q2. Does Age effect the condition of the wells?\n",
    "\n",
    "Q3. What is the best mode of payment for maintainence of wells?\n",
    "\n",
    "Q4. Does having Public Meetings help to keep the wells functional?\n"
   ]
  },
  {
   "cell_type": "markdown",
   "metadata": {},
   "source": [
    "### 1.IMPORT LIBRARIES\n",
    "\n",
    "\n"
   ]
  },
  {
   "cell_type": "code",
   "execution_count": 1,
   "metadata": {},
   "outputs": [],
   "source": [
    "import numpy as np\n",
    "import pandas as pd\n",
    "import matplotlib.pyplot as plt\n",
    "import seaborn as sns\n"
   ]
  },
  {
   "cell_type": "code",
   "execution_count": 2,
   "metadata": {},
   "outputs": [],
   "source": [
    "df1 = pd.read_csv('d.1.csv') # the target class dataset\n",
    "df3 = pd.read_csv('d.3.csv') # all our features dataset"
   ]
  },
  {
   "cell_type": "code",
   "execution_count": 3,
   "metadata": {},
   "outputs": [
    {
     "data": {
      "text/html": [
       "<div>\n",
       "<style scoped>\n",
       "    .dataframe tbody tr th:only-of-type {\n",
       "        vertical-align: middle;\n",
       "    }\n",
       "\n",
       "    .dataframe tbody tr th {\n",
       "        vertical-align: top;\n",
       "    }\n",
       "\n",
       "    .dataframe thead th {\n",
       "        text-align: right;\n",
       "    }\n",
       "</style>\n",
       "<table border=\"1\" class=\"dataframe\">\n",
       "  <thead>\n",
       "    <tr style=\"text-align: right;\">\n",
       "      <th></th>\n",
       "      <th>id</th>\n",
       "      <th>status_group</th>\n",
       "    </tr>\n",
       "  </thead>\n",
       "  <tbody>\n",
       "    <tr>\n",
       "      <th>0</th>\n",
       "      <td>69572</td>\n",
       "      <td>functional</td>\n",
       "    </tr>\n",
       "    <tr>\n",
       "      <th>1</th>\n",
       "      <td>8776</td>\n",
       "      <td>functional</td>\n",
       "    </tr>\n",
       "    <tr>\n",
       "      <th>2</th>\n",
       "      <td>34310</td>\n",
       "      <td>functional</td>\n",
       "    </tr>\n",
       "    <tr>\n",
       "      <th>3</th>\n",
       "      <td>67743</td>\n",
       "      <td>non functional</td>\n",
       "    </tr>\n",
       "    <tr>\n",
       "      <th>4</th>\n",
       "      <td>19728</td>\n",
       "      <td>functional</td>\n",
       "    </tr>\n",
       "  </tbody>\n",
       "</table>\n",
       "</div>"
      ],
      "text/plain": [
       "      id    status_group\n",
       "0  69572      functional\n",
       "1   8776      functional\n",
       "2  34310      functional\n",
       "3  67743  non functional\n",
       "4  19728      functional"
      ]
     },
     "execution_count": 3,
     "metadata": {},
     "output_type": "execute_result"
    }
   ],
   "source": [
    "df1.head()"
   ]
  },
  {
   "cell_type": "code",
   "execution_count": 4,
   "metadata": {},
   "outputs": [
    {
     "data": {
      "text/html": [
       "<div>\n",
       "<style scoped>\n",
       "    .dataframe tbody tr th:only-of-type {\n",
       "        vertical-align: middle;\n",
       "    }\n",
       "\n",
       "    .dataframe tbody tr th {\n",
       "        vertical-align: top;\n",
       "    }\n",
       "\n",
       "    .dataframe thead th {\n",
       "        text-align: right;\n",
       "    }\n",
       "</style>\n",
       "<table border=\"1\" class=\"dataframe\">\n",
       "  <thead>\n",
       "    <tr style=\"text-align: right;\">\n",
       "      <th></th>\n",
       "      <th>id</th>\n",
       "      <th>amount_tsh</th>\n",
       "      <th>date_recorded</th>\n",
       "      <th>funder</th>\n",
       "      <th>gps_height</th>\n",
       "      <th>installer</th>\n",
       "      <th>longitude</th>\n",
       "      <th>latitude</th>\n",
       "      <th>wpt_name</th>\n",
       "      <th>num_private</th>\n",
       "      <th>...</th>\n",
       "      <th>payment_type</th>\n",
       "      <th>water_quality</th>\n",
       "      <th>quality_group</th>\n",
       "      <th>quantity</th>\n",
       "      <th>quantity_group</th>\n",
       "      <th>source</th>\n",
       "      <th>source_type</th>\n",
       "      <th>source_class</th>\n",
       "      <th>waterpoint_type</th>\n",
       "      <th>waterpoint_type_group</th>\n",
       "    </tr>\n",
       "  </thead>\n",
       "  <tbody>\n",
       "    <tr>\n",
       "      <th>0</th>\n",
       "      <td>69572</td>\n",
       "      <td>6000.0</td>\n",
       "      <td>2011-03-14</td>\n",
       "      <td>Roman</td>\n",
       "      <td>1390</td>\n",
       "      <td>Roman</td>\n",
       "      <td>34.938093</td>\n",
       "      <td>-9.856322</td>\n",
       "      <td>none</td>\n",
       "      <td>0</td>\n",
       "      <td>...</td>\n",
       "      <td>annually</td>\n",
       "      <td>soft</td>\n",
       "      <td>good</td>\n",
       "      <td>enough</td>\n",
       "      <td>enough</td>\n",
       "      <td>spring</td>\n",
       "      <td>spring</td>\n",
       "      <td>groundwater</td>\n",
       "      <td>communal standpipe</td>\n",
       "      <td>communal standpipe</td>\n",
       "    </tr>\n",
       "    <tr>\n",
       "      <th>1</th>\n",
       "      <td>8776</td>\n",
       "      <td>0.0</td>\n",
       "      <td>2013-03-06</td>\n",
       "      <td>Grumeti</td>\n",
       "      <td>1399</td>\n",
       "      <td>GRUMETI</td>\n",
       "      <td>34.698766</td>\n",
       "      <td>-2.147466</td>\n",
       "      <td>Zahanati</td>\n",
       "      <td>0</td>\n",
       "      <td>...</td>\n",
       "      <td>never pay</td>\n",
       "      <td>soft</td>\n",
       "      <td>good</td>\n",
       "      <td>insufficient</td>\n",
       "      <td>insufficient</td>\n",
       "      <td>rainwater harvesting</td>\n",
       "      <td>rainwater harvesting</td>\n",
       "      <td>surface</td>\n",
       "      <td>communal standpipe</td>\n",
       "      <td>communal standpipe</td>\n",
       "    </tr>\n",
       "    <tr>\n",
       "      <th>2</th>\n",
       "      <td>34310</td>\n",
       "      <td>25.0</td>\n",
       "      <td>2013-02-25</td>\n",
       "      <td>Lottery Club</td>\n",
       "      <td>686</td>\n",
       "      <td>World vision</td>\n",
       "      <td>37.460664</td>\n",
       "      <td>-3.821329</td>\n",
       "      <td>Kwa Mahundi</td>\n",
       "      <td>0</td>\n",
       "      <td>...</td>\n",
       "      <td>per bucket</td>\n",
       "      <td>soft</td>\n",
       "      <td>good</td>\n",
       "      <td>enough</td>\n",
       "      <td>enough</td>\n",
       "      <td>dam</td>\n",
       "      <td>dam</td>\n",
       "      <td>surface</td>\n",
       "      <td>communal standpipe multiple</td>\n",
       "      <td>communal standpipe</td>\n",
       "    </tr>\n",
       "    <tr>\n",
       "      <th>3</th>\n",
       "      <td>67743</td>\n",
       "      <td>0.0</td>\n",
       "      <td>2013-01-28</td>\n",
       "      <td>Unicef</td>\n",
       "      <td>263</td>\n",
       "      <td>UNICEF</td>\n",
       "      <td>38.486161</td>\n",
       "      <td>-11.155298</td>\n",
       "      <td>Zahanati Ya Nanyumbu</td>\n",
       "      <td>0</td>\n",
       "      <td>...</td>\n",
       "      <td>never pay</td>\n",
       "      <td>soft</td>\n",
       "      <td>good</td>\n",
       "      <td>dry</td>\n",
       "      <td>dry</td>\n",
       "      <td>machine dbh</td>\n",
       "      <td>borehole</td>\n",
       "      <td>groundwater</td>\n",
       "      <td>communal standpipe multiple</td>\n",
       "      <td>communal standpipe</td>\n",
       "    </tr>\n",
       "    <tr>\n",
       "      <th>4</th>\n",
       "      <td>19728</td>\n",
       "      <td>0.0</td>\n",
       "      <td>2011-07-13</td>\n",
       "      <td>Action In A</td>\n",
       "      <td>0</td>\n",
       "      <td>Artisan</td>\n",
       "      <td>31.130847</td>\n",
       "      <td>-1.825359</td>\n",
       "      <td>Shuleni</td>\n",
       "      <td>0</td>\n",
       "      <td>...</td>\n",
       "      <td>never pay</td>\n",
       "      <td>soft</td>\n",
       "      <td>good</td>\n",
       "      <td>seasonal</td>\n",
       "      <td>seasonal</td>\n",
       "      <td>rainwater harvesting</td>\n",
       "      <td>rainwater harvesting</td>\n",
       "      <td>surface</td>\n",
       "      <td>communal standpipe</td>\n",
       "      <td>communal standpipe</td>\n",
       "    </tr>\n",
       "  </tbody>\n",
       "</table>\n",
       "<p>5 rows × 40 columns</p>\n",
       "</div>"
      ],
      "text/plain": [
       "      id  amount_tsh date_recorded        funder  gps_height     installer  \\\n",
       "0  69572      6000.0    2011-03-14         Roman        1390         Roman   \n",
       "1   8776         0.0    2013-03-06       Grumeti        1399       GRUMETI   \n",
       "2  34310        25.0    2013-02-25  Lottery Club         686  World vision   \n",
       "3  67743         0.0    2013-01-28        Unicef         263        UNICEF   \n",
       "4  19728         0.0    2011-07-13   Action In A           0       Artisan   \n",
       "\n",
       "   longitude   latitude              wpt_name  num_private  ... payment_type  \\\n",
       "0  34.938093  -9.856322                  none            0  ...     annually   \n",
       "1  34.698766  -2.147466              Zahanati            0  ...    never pay   \n",
       "2  37.460664  -3.821329           Kwa Mahundi            0  ...   per bucket   \n",
       "3  38.486161 -11.155298  Zahanati Ya Nanyumbu            0  ...    never pay   \n",
       "4  31.130847  -1.825359               Shuleni            0  ...    never pay   \n",
       "\n",
       "  water_quality quality_group      quantity  quantity_group  \\\n",
       "0          soft          good        enough          enough   \n",
       "1          soft          good  insufficient    insufficient   \n",
       "2          soft          good        enough          enough   \n",
       "3          soft          good           dry             dry   \n",
       "4          soft          good      seasonal        seasonal   \n",
       "\n",
       "                 source           source_type  source_class  \\\n",
       "0                spring                spring   groundwater   \n",
       "1  rainwater harvesting  rainwater harvesting       surface   \n",
       "2                   dam                   dam       surface   \n",
       "3           machine dbh              borehole   groundwater   \n",
       "4  rainwater harvesting  rainwater harvesting       surface   \n",
       "\n",
       "               waterpoint_type waterpoint_type_group  \n",
       "0           communal standpipe    communal standpipe  \n",
       "1           communal standpipe    communal standpipe  \n",
       "2  communal standpipe multiple    communal standpipe  \n",
       "3  communal standpipe multiple    communal standpipe  \n",
       "4           communal standpipe    communal standpipe  \n",
       "\n",
       "[5 rows x 40 columns]"
      ]
     },
     "execution_count": 4,
     "metadata": {},
     "output_type": "execute_result"
    }
   ],
   "source": [
    "df3.head()"
   ]
  },
  {
   "cell_type": "markdown",
   "metadata": {},
   "source": [
    "1.1 Merging the files together"
   ]
  },
  {
   "cell_type": "code",
   "execution_count": 5,
   "metadata": {},
   "outputs": [
    {
     "name": "stdout",
     "output_type": "stream",
     "text": [
      "<class 'pandas.core.frame.DataFrame'>\n",
      "Int64Index: 59400 entries, 0 to 59399\n",
      "Data columns (total 41 columns):\n",
      " #   Column                 Non-Null Count  Dtype  \n",
      "---  ------                 --------------  -----  \n",
      " 0   id                     59400 non-null  int64  \n",
      " 1   status_group           59400 non-null  object \n",
      " 2   amount_tsh             59400 non-null  float64\n",
      " 3   date_recorded          59400 non-null  object \n",
      " 4   funder                 55765 non-null  object \n",
      " 5   gps_height             59400 non-null  int64  \n",
      " 6   installer              55745 non-null  object \n",
      " 7   longitude              59400 non-null  float64\n",
      " 8   latitude               59400 non-null  float64\n",
      " 9   wpt_name               59400 non-null  object \n",
      " 10  num_private            59400 non-null  int64  \n",
      " 11  basin                  59400 non-null  object \n",
      " 12  subvillage             59029 non-null  object \n",
      " 13  region                 59400 non-null  object \n",
      " 14  region_code            59400 non-null  int64  \n",
      " 15  district_code          59400 non-null  int64  \n",
      " 16  lga                    59400 non-null  object \n",
      " 17  ward                   59400 non-null  object \n",
      " 18  population             59400 non-null  int64  \n",
      " 19  public_meeting         56066 non-null  object \n",
      " 20  recorded_by            59400 non-null  object \n",
      " 21  scheme_management      55523 non-null  object \n",
      " 22  scheme_name            31234 non-null  object \n",
      " 23  permit                 56344 non-null  object \n",
      " 24  construction_year      59400 non-null  int64  \n",
      " 25  extraction_type        59400 non-null  object \n",
      " 26  extraction_type_group  59400 non-null  object \n",
      " 27  extraction_type_class  59400 non-null  object \n",
      " 28  management             59400 non-null  object \n",
      " 29  management_group       59400 non-null  object \n",
      " 30  payment                59400 non-null  object \n",
      " 31  payment_type           59400 non-null  object \n",
      " 32  water_quality          59400 non-null  object \n",
      " 33  quality_group          59400 non-null  object \n",
      " 34  quantity               59400 non-null  object \n",
      " 35  quantity_group         59400 non-null  object \n",
      " 36  source                 59400 non-null  object \n",
      " 37  source_type            59400 non-null  object \n",
      " 38  source_class           59400 non-null  object \n",
      " 39  waterpoint_type        59400 non-null  object \n",
      " 40  waterpoint_type_group  59400 non-null  object \n",
      "dtypes: float64(3), int64(7), object(31)\n",
      "memory usage: 19.0+ MB\n"
     ]
    }
   ],
   "source": [
    "data = pd.merge(df1, df3, on='id', how='inner')\n",
    "data.info()"
   ]
  },
  {
   "cell_type": "markdown",
   "metadata": {},
   "source": [
    "The target feature in this dataset is the 'status_group' feature. This feature is an indicator of whether or not the water well is 'functional', 'functional needs repairs', or 'non functional'.\n",
    "\n",
    "Also this are some of the features we are going to use:\n",
    "\n",
    ".amount_tsh: Amount water available to waterpoint\n",
    "\n",
    ".date_recorded: The date the row was entered\n",
    "\n",
    ".funder: Who funded the well\n",
    "\n",
    ".gps_height: Altitude of the well\n",
    "\n",
    ".installer: Organization that installed the well\n",
    "\n",
    ".longitude: GPS coordinate\n",
    "\n",
    ".latitude: GPS coordinate\n",
    "\n",
    ".wpt_name: Name of the waterpoint if there is one\n",
    "\n",
    "Among others."
   ]
  },
  {
   "cell_type": "code",
   "execution_count": 6,
   "metadata": {},
   "outputs": [
    {
     "data": {
      "text/plain": [
       "id                           0\n",
       "status_group                 0\n",
       "amount_tsh                   0\n",
       "date_recorded                0\n",
       "funder                    3635\n",
       "gps_height                   0\n",
       "installer                 3655\n",
       "longitude                    0\n",
       "latitude                     0\n",
       "wpt_name                     0\n",
       "num_private                  0\n",
       "basin                        0\n",
       "subvillage                 371\n",
       "region                       0\n",
       "region_code                  0\n",
       "district_code                0\n",
       "lga                          0\n",
       "ward                         0\n",
       "population                   0\n",
       "public_meeting            3334\n",
       "recorded_by                  0\n",
       "scheme_management         3877\n",
       "scheme_name              28166\n",
       "permit                    3056\n",
       "construction_year            0\n",
       "extraction_type              0\n",
       "extraction_type_group        0\n",
       "extraction_type_class        0\n",
       "management                   0\n",
       "management_group             0\n",
       "payment                      0\n",
       "payment_type                 0\n",
       "water_quality                0\n",
       "quality_group                0\n",
       "quantity                     0\n",
       "quantity_group               0\n",
       "source                       0\n",
       "source_type                  0\n",
       "source_class                 0\n",
       "waterpoint_type              0\n",
       "waterpoint_type_group        0\n",
       "dtype: int64"
      ]
     },
     "execution_count": 6,
     "metadata": {},
     "output_type": "execute_result"
    }
   ],
   "source": [
    "data.isna().sum()"
   ]
  },
  {
   "cell_type": "code",
   "execution_count": 7,
   "metadata": {},
   "outputs": [
    {
     "data": {
      "text/plain": [
       "0    32259\n",
       "2    22824\n",
       "1     4317\n",
       "Name: target, dtype: int64"
      ]
     },
     "execution_count": 7,
     "metadata": {},
     "output_type": "execute_result"
    }
   ],
   "source": [
    "data['status_group'] = data['status_group'].astype('category')\n",
    "data['target'] = data['status_group'].cat.codes\n",
    "data['target'].value_counts()"
   ]
  },
  {
   "cell_type": "code",
   "execution_count": 8,
   "metadata": {},
   "outputs": [
    {
     "data": {
      "image/png": "[encoded data removed]",
      "text/plain": [
       "<Figure size 576x360 with 1 Axes>"
      ]
     },
     "metadata": {
      "needs_background": "light"
     },
     "output_type": "display_data"
    }
   ],
   "source": [
    "data['status_group'].value_counts(ascending=False).plot(kind='bar', figsize=(8,5), color=['darkgreen','midnightblue','purple'])\n",
    "plt.title(\"Water Pump Status\", fontweight='bold', fontsize=18)\n",
    "plt.xlabel('Status of the Water Pump', fontweight='bold', fontsize=10) \n",
    "plt.ylabel('Value Counts', fontweight='bold', fontsize=10)  \n",
    "plt.grid(axis='y', linestyle='--', alpha=0.6)  \n",
    "plt.show()\n"
   ]
  },
  {
   "cell_type": "markdown",
   "metadata": {},
   "source": [
    "We see that there is a lot of imbalance among our classes, hence we will combine \"functional needs repair\" and \"non functional\" into one for modelling purpose. Then We will convert our target variable to 0 and 1, so now we can drop status group while modelling."
   ]
  },
  {
   "cell_type": "code",
   "execution_count": 9,
   "metadata": {},
   "outputs": [
    {
     "data": {
      "text/plain": [
       "functional      32259\n",
       "needs repair    27141\n",
       "Name: status_group, dtype: int64"
      ]
     },
     "execution_count": 9,
     "metadata": {},
     "output_type": "execute_result"
    }
   ],
   "source": [
    "data['status_group'] = data['status_group'].replace(to_replace =[\"functional needs repair\", \"non functional\"],value =\"needs repair\")\n",
    "data['status_group'].value_counts()"
   ]
  },
  {
   "cell_type": "code",
   "execution_count": 10,
   "metadata": {},
   "outputs": [
    {
     "data": {
      "image/png": "[encoded data removed]",
      "text/plain": [
       "<Figure size 576x360 with 1 Axes>"
      ]
     },
     "metadata": {
      "needs_background": "light"
     },
     "output_type": "display_data"
    }
   ],
   "source": [
    "data['status_group'].value_counts(ascending=False).plot(kind='bar', figsize=(8,5), color=['darkgreen','midnightblue','purple'])\n",
    "plt.title(\"Water Pump Status\", fontweight='bold', fontsize=18)\n",
    "plt.xlabel('Status of the Water Pump', fontweight='bold', fontsize=10) \n",
    "plt.ylabel('Value Counts', fontweight='bold', fontsize=10)  \n",
    "plt.grid(axis='y', linestyle='--', alpha=0.6)  \n",
    "plt.show()"
   ]
  },
  {
   "cell_type": "code",
   "execution_count": 11,
   "metadata": {},
   "outputs": [
    {
     "data": {
      "text/plain": [
       "0    32259\n",
       "1    27141\n",
       "Name: target, dtype: int64"
      ]
     },
     "execution_count": 11,
     "metadata": {},
     "output_type": "execute_result"
    }
   ],
   "source": [
    "data['status_group'] = data['status_group'].astype('category')\n",
    "data['target'] = data['status_group'].cat.codes\n",
    "data['target'].value_counts()"
   ]
  },
  {
   "cell_type": "code",
   "execution_count": 12,
   "metadata": {},
   "outputs": [
    {
     "data": {
      "text/html": [
       "<div>\n",
       "<style scoped>\n",
       "    .dataframe tbody tr th:only-of-type {\n",
       "        vertical-align: middle;\n",
       "    }\n",
       "\n",
       "    .dataframe tbody tr th {\n",
       "        vertical-align: top;\n",
       "    }\n",
       "\n",
       "    .dataframe thead th {\n",
       "        text-align: right;\n",
       "    }\n",
       "</style>\n",
       "<table border=\"1\" class=\"dataframe\">\n",
       "  <thead>\n",
       "    <tr style=\"text-align: right;\">\n",
       "      <th></th>\n",
       "      <th>id</th>\n",
       "      <th>status_group</th>\n",
       "      <th>amount_tsh</th>\n",
       "      <th>date_recorded</th>\n",
       "      <th>funder</th>\n",
       "      <th>gps_height</th>\n",
       "      <th>installer</th>\n",
       "      <th>longitude</th>\n",
       "      <th>latitude</th>\n",
       "      <th>wpt_name</th>\n",
       "      <th>...</th>\n",
       "      <th>water_quality</th>\n",
       "      <th>quality_group</th>\n",
       "      <th>quantity</th>\n",
       "      <th>quantity_group</th>\n",
       "      <th>source</th>\n",
       "      <th>source_type</th>\n",
       "      <th>source_class</th>\n",
       "      <th>waterpoint_type</th>\n",
       "      <th>waterpoint_type_group</th>\n",
       "      <th>target</th>\n",
       "    </tr>\n",
       "  </thead>\n",
       "  <tbody>\n",
       "    <tr>\n",
       "      <th>0</th>\n",
       "      <td>69572</td>\n",
       "      <td>functional</td>\n",
       "      <td>6000.0</td>\n",
       "      <td>2011-03-14</td>\n",
       "      <td>Roman</td>\n",
       "      <td>1390</td>\n",
       "      <td>Roman</td>\n",
       "      <td>34.938093</td>\n",
       "      <td>-9.856322</td>\n",
       "      <td>none</td>\n",
       "      <td>...</td>\n",
       "      <td>soft</td>\n",
       "      <td>good</td>\n",
       "      <td>enough</td>\n",
       "      <td>enough</td>\n",
       "      <td>spring</td>\n",
       "      <td>spring</td>\n",
       "      <td>groundwater</td>\n",
       "      <td>communal standpipe</td>\n",
       "      <td>communal standpipe</td>\n",
       "      <td>0</td>\n",
       "    </tr>\n",
       "    <tr>\n",
       "      <th>1</th>\n",
       "      <td>8776</td>\n",
       "      <td>functional</td>\n",
       "      <td>0.0</td>\n",
       "      <td>2013-03-06</td>\n",
       "      <td>Grumeti</td>\n",
       "      <td>1399</td>\n",
       "      <td>GRUMETI</td>\n",
       "      <td>34.698766</td>\n",
       "      <td>-2.147466</td>\n",
       "      <td>Zahanati</td>\n",
       "      <td>...</td>\n",
       "      <td>soft</td>\n",
       "      <td>good</td>\n",
       "      <td>insufficient</td>\n",
       "      <td>insufficient</td>\n",
       "      <td>rainwater harvesting</td>\n",
       "      <td>rainwater harvesting</td>\n",
       "      <td>surface</td>\n",
       "      <td>communal standpipe</td>\n",
       "      <td>communal standpipe</td>\n",
       "      <td>0</td>\n",
       "    </tr>\n",
       "    <tr>\n",
       "      <th>2</th>\n",
       "      <td>34310</td>\n",
       "      <td>functional</td>\n",
       "      <td>25.0</td>\n",
       "      <td>2013-02-25</td>\n",
       "      <td>Lottery Club</td>\n",
       "      <td>686</td>\n",
       "      <td>World vision</td>\n",
       "      <td>37.460664</td>\n",
       "      <td>-3.821329</td>\n",
       "      <td>Kwa Mahundi</td>\n",
       "      <td>...</td>\n",
       "      <td>soft</td>\n",
       "      <td>good</td>\n",
       "      <td>enough</td>\n",
       "      <td>enough</td>\n",
       "      <td>dam</td>\n",
       "      <td>dam</td>\n",
       "      <td>surface</td>\n",
       "      <td>communal standpipe multiple</td>\n",
       "      <td>communal standpipe</td>\n",
       "      <td>0</td>\n",
       "    </tr>\n",
       "    <tr>\n",
       "      <th>3</th>\n",
       "      <td>67743</td>\n",
       "      <td>needs repair</td>\n",
       "      <td>0.0</td>\n",
       "      <td>2013-01-28</td>\n",
       "      <td>Unicef</td>\n",
       "      <td>263</td>\n",
       "      <td>UNICEF</td>\n",
       "      <td>38.486161</td>\n",
       "      <td>-11.155298</td>\n",
       "      <td>Zahanati Ya Nanyumbu</td>\n",
       "      <td>...</td>\n",
       "      <td>soft</td>\n",
       "      <td>good</td>\n",
       "      <td>dry</td>\n",
       "      <td>dry</td>\n",
       "      <td>machine dbh</td>\n",
       "      <td>borehole</td>\n",
       "      <td>groundwater</td>\n",
       "      <td>communal standpipe multiple</td>\n",
       "      <td>communal standpipe</td>\n",
       "      <td>1</td>\n",
       "    </tr>\n",
       "    <tr>\n",
       "      <th>4</th>\n",
       "      <td>19728</td>\n",
       "      <td>functional</td>\n",
       "      <td>0.0</td>\n",
       "      <td>2011-07-13</td>\n",
       "      <td>Action In A</td>\n",
       "      <td>0</td>\n",
       "      <td>Artisan</td>\n",
       "      <td>31.130847</td>\n",
       "      <td>-1.825359</td>\n",
       "      <td>Shuleni</td>\n",
       "      <td>...</td>\n",
       "      <td>soft</td>\n",
       "      <td>good</td>\n",
       "      <td>seasonal</td>\n",
       "      <td>seasonal</td>\n",
       "      <td>rainwater harvesting</td>\n",
       "      <td>rainwater harvesting</td>\n",
       "      <td>surface</td>\n",
       "      <td>communal standpipe</td>\n",
       "      <td>communal standpipe</td>\n",
       "      <td>0</td>\n",
       "    </tr>\n",
       "  </tbody>\n",
       "</table>\n",
       "<p>5 rows × 42 columns</p>\n",
       "</div>"
      ],
      "text/plain": [
       "      id  status_group  amount_tsh date_recorded        funder  gps_height  \\\n",
       "0  69572    functional      6000.0    2011-03-14         Roman        1390   \n",
       "1   8776    functional         0.0    2013-03-06       Grumeti        1399   \n",
       "2  34310    functional        25.0    2013-02-25  Lottery Club         686   \n",
       "3  67743  needs repair         0.0    2013-01-28        Unicef         263   \n",
       "4  19728    functional         0.0    2011-07-13   Action In A           0   \n",
       "\n",
       "      installer  longitude   latitude              wpt_name  ...  \\\n",
       "0         Roman  34.938093  -9.856322                  none  ...   \n",
       "1       GRUMETI  34.698766  -2.147466              Zahanati  ...   \n",
       "2  World vision  37.460664  -3.821329           Kwa Mahundi  ...   \n",
       "3        UNICEF  38.486161 -11.155298  Zahanati Ya Nanyumbu  ...   \n",
       "4       Artisan  31.130847  -1.825359               Shuleni  ...   \n",
       "\n",
       "   water_quality quality_group      quantity quantity_group  \\\n",
       "0           soft          good        enough         enough   \n",
       "1           soft          good  insufficient   insufficient   \n",
       "2           soft          good        enough         enough   \n",
       "3           soft          good           dry            dry   \n",
       "4           soft          good      seasonal       seasonal   \n",
       "\n",
       "                 source           source_type source_class  \\\n",
       "0                spring                spring  groundwater   \n",
       "1  rainwater harvesting  rainwater harvesting      surface   \n",
       "2                   dam                   dam      surface   \n",
       "3           machine dbh              borehole  groundwater   \n",
       "4  rainwater harvesting  rainwater harvesting      surface   \n",
       "\n",
       "               waterpoint_type  waterpoint_type_group target  \n",
       "0           communal standpipe     communal standpipe      0  \n",
       "1           communal standpipe     communal standpipe      0  \n",
       "2  communal standpipe multiple     communal standpipe      0  \n",
       "3  communal standpipe multiple     communal standpipe      1  \n",
       "4           communal standpipe     communal standpipe      0  \n",
       "\n",
       "[5 rows x 42 columns]"
      ]
     },
     "execution_count": 12,
     "metadata": {},
     "output_type": "execute_result"
    }
   ],
   "source": [
    "data.head()"
   ]
  },
  {
   "cell_type": "code",
   "execution_count": 13,
   "metadata": {},
   "outputs": [
    {
     "data": {
      "text/plain": [
       "functional      0.543081\n",
       "needs repair    0.456919\n",
       "Name: status_group, dtype: float64"
      ]
     },
     "execution_count": 13,
     "metadata": {},
     "output_type": "execute_result"
    }
   ],
   "source": [
    "data['status_group'].value_counts(normalize=True)"
   ]
  },
  {
   "cell_type": "markdown",
   "metadata": {},
   "source": [
    "We are going to use these numbers as a baseline when comparing subgroups. For example,if a region has less than 54% functionality, we know they are below average and some features within that region are effecting the functionality of the wells.\n",
    "\n",
    "This will help us identify important features more easily, and give us references for further data exploration."
   ]
  },
  {
   "cell_type": "markdown",
   "metadata": {},
   "source": [
    "NOTE. we can drop irrelevant columns here nime opt kuzi ignore tu (John recommend)"
   ]
  },
  {
   "cell_type": "code",
   "execution_count": 14,
   "metadata": {},
   "outputs": [
    {
     "name": "stdout",
     "output_type": "stream",
     "text": [
      "<class 'pandas.core.frame.DataFrame'>\n",
      "Int64Index: 59400 entries, 0 to 59399\n",
      "Data columns (total 44 columns):\n",
      " #   Column                 Non-Null Count  Dtype   \n",
      "---  ------                 --------------  -----   \n",
      " 0   id                     59400 non-null  int64   \n",
      " 1   status_group           59400 non-null  category\n",
      " 2   amount_tsh             59400 non-null  float64 \n",
      " 3   date_recorded          59400 non-null  object  \n",
      " 4   funder                 55765 non-null  object  \n",
      " 5   gps_height             59400 non-null  int64   \n",
      " 6   installer              55745 non-null  object  \n",
      " 7   longitude              59400 non-null  float64 \n",
      " 8   latitude               59400 non-null  float64 \n",
      " 9   wpt_name               59400 non-null  object  \n",
      " 10  num_private            59400 non-null  int64   \n",
      " 11  basin                  59400 non-null  object  \n",
      " 12  subvillage             59029 non-null  object  \n",
      " 13  region                 59400 non-null  object  \n",
      " 14  region_code            59400 non-null  int64   \n",
      " 15  district_code          59400 non-null  int64   \n",
      " 16  lga                    59400 non-null  object  \n",
      " 17  ward                   59400 non-null  object  \n",
      " 18  population             59400 non-null  int64   \n",
      " 19  public_meeting         56066 non-null  object  \n",
      " 20  recorded_by            59400 non-null  object  \n",
      " 21  scheme_management      55523 non-null  object  \n",
      " 22  scheme_name            31234 non-null  object  \n",
      " 23  permit                 56344 non-null  object  \n",
      " 24  construction_year      59400 non-null  int64   \n",
      " 25  extraction_type        59400 non-null  object  \n",
      " 26  extraction_type_group  59400 non-null  object  \n",
      " 27  extraction_type_class  59400 non-null  object  \n",
      " 28  management             59400 non-null  object  \n",
      " 29  management_group       59400 non-null  object  \n",
      " 30  payment                59400 non-null  object  \n",
      " 31  payment_type           59400 non-null  object  \n",
      " 32  water_quality          59400 non-null  object  \n",
      " 33  quality_group          59400 non-null  object  \n",
      " 34  quantity               59400 non-null  object  \n",
      " 35  quantity_group         59400 non-null  object  \n",
      " 36  source                 59400 non-null  object  \n",
      " 37  source_type            59400 non-null  object  \n",
      " 38  source_class           59400 non-null  object  \n",
      " 39  waterpoint_type        59400 non-null  object  \n",
      " 40  waterpoint_type_group  59400 non-null  object  \n",
      " 41  target                 59400 non-null  int8    \n",
      " 42  functional             59400 non-null  uint8   \n",
      " 43  needs repair           59400 non-null  uint8   \n",
      "dtypes: category(1), float64(3), int64(7), int8(1), object(30), uint8(2)\n",
      "memory usage: 21.3+ MB\n"
     ]
    }
   ],
   "source": [
    "# create dummies for status group to make plotting easier\n",
    "dummies_status = pd.get_dummies(data['status_group'])\n",
    "data = data.join(dummies_status)\n",
    "\n",
    "data.info()"
   ]
  },
  {
   "cell_type": "markdown",
   "metadata": {},
   "source": [
    "### 2. EXPLORATION ON CATEGORICAL FEATURES\n",
    "    2.1 Plotting functions for categorical variables\n",
    "     \n",
    "     we run a couple of categorical features which recommend what values/columns to maintain or drop"
   ]
  },
  {
   "cell_type": "code",
   "execution_count": 15,
   "metadata": {},
   "outputs": [],
   "source": [
    "# plotting functions for categorical variables\n",
    "def plot_percent(col):\n",
    "    \"\"\"Plot the mean functionalities of pumps compared to 'col'\n",
    "    \n",
    "    args:\n",
    "        col (str): column name\n",
    "    \"\"\"\n",
    "    if data[col].nunique() > 4:\n",
    "        rows = 2\n",
    "        cols = 1\n",
    "        width = 12 if data[col].nunique() > 12 else data[col].nunique()\n",
    "        height = 14\n",
    "    else:\n",
    "        rows = 1\n",
    "        cols = 2\n",
    "        width = 12\n",
    "        height = 3\n",
    "    fig, ax = plt.subplots(rows, cols, figsize=(width, height))\n",
    "        \n",
    "    for idx, status in enumerate(data['status_group'].unique().tolist()):\n",
    "        data.groupby(col).mean()[status].sort_values().plot.bar(ax=ax[idx])\n",
    "        ax[idx].axhline(y=data[status].mean(), color='r', linestyle='-')\n",
    "        ax[idx].set_title(f\"{status.title()} pumps by {col.title()}\", fontsize=14)\n",
    "        ax[idx].set_ylabel('Percent')\n",
    "        ax[idx].set_xlabel('')\n",
    "        ax[idx].set_ylim(0,data.groupby(col).mean()[status].max()*1.2);\n",
    "    fig.tight_layout()"
   ]
  },
  {
   "cell_type": "code",
   "execution_count": 16,
   "metadata": {},
   "outputs": [
    {
     "name": "stdout",
     "output_type": "stream",
     "text": [
      "Unique Values: 1897\n",
      "Missing Values: 3635/59400\n",
      "Possible Missing Values: 777 (wells with '0' as the value)\n",
      "Unique Values: 2145\n",
      "Missing Values: 3655/59400\n",
      "Possible Missing Values: 777 (wells with '0' as the value)\n"
     ]
    },
    {
     "data": {
      "text/plain": [
       "DWE                   17402\n",
       "Government             1825\n",
       "RWE                    1206\n",
       "Commu                  1060\n",
       "DANIDA                 1050\n",
       "KKKT                    898\n",
       "Hesawa                  840\n",
       "0                       777\n",
       "TCRS                    707\n",
       "Central government      622\n",
       "CES                     610\n",
       "Community               553\n",
       "DANID                   552\n",
       "District Council        551\n",
       "HESAWA                  539\n",
       "LGA                     408\n",
       "World vision            408\n",
       "WEDECO                  397\n",
       "TASAF                   396\n",
       "District council        392\n",
       "Name: installer, dtype: int64"
      ]
     },
     "execution_count": 16,
     "metadata": {},
     "output_type": "execute_result"
    }
   ],
   "source": [
    "# FUNDER\n",
    "print(f\"Unique Values: {data['funder'].nunique()}\")\n",
    "print(f\"Missing Values: {data['funder'].isna().sum()}/{data.shape[0]}\")\n",
    "print(f\"Possible Missing Values: {(data['funder'] == '0').sum()} (wells with '0' as the value)\")\n",
    "data['funder'].value_counts().head(20)\n",
    "\n",
    "#INSTALLER\n",
    "print(f\"Unique Values: {data['installer'].nunique()}\")\n",
    "print(f\"Missing Values: {data['installer'].isna().sum()}/{data.shape[0]}\")\n",
    "print(f\"Possible Missing Values: {(data['installer'] == '0').sum()} (wells with '0' as the value)\")\n",
    "data['installer'].value_counts().head(20)"
   ]
  },
  {
   "cell_type": "markdown",
   "metadata": {},
   "source": [
    "We see that DWE (District Water Engineering) and Govt are the major installers which is similar to our funders."
   ]
  },
  {
   "cell_type": "code",
   "execution_count": 17,
   "metadata": {},
   "outputs": [
    {
     "name": "stdout",
     "output_type": "stream",
     "text": [
      "Basins: 9\n",
      "Region: 21\n",
      "Districts: 20\n",
      "LGAs: 125\n",
      "Wards: 2092\n",
      "Subvillages: 19287\n"
     ]
    }
   ],
   "source": [
    "#WE TRY BASIN CATEGORY\n",
    "\n",
    "print(f\"Basins: {data['basin'].nunique()}\")\n",
    "print(f\"Region: {data['region'].nunique()}\")\n",
    "print(f\"Districts: {data['district_code'].nunique()}\")\n",
    "print(f\"LGAs: {data['lga'].nunique()}\")\n",
    "print(f\"Wards: {data['ward'].nunique()}\")\n",
    "print(f\"Subvillages: {data['subvillage'].nunique()}\")"
   ]
  },
  {
   "cell_type": "code",
   "execution_count": 18,
   "metadata": {},
   "outputs": [
    {
     "data": {
      "text/html": [
       "<div>\n",
       "<style scoped>\n",
       "    .dataframe tbody tr th:only-of-type {\n",
       "        vertical-align: middle;\n",
       "    }\n",
       "\n",
       "    .dataframe tbody tr th {\n",
       "        vertical-align: top;\n",
       "    }\n",
       "\n",
       "    .dataframe thead tr th {\n",
       "        text-align: left;\n",
       "    }\n",
       "\n",
       "    .dataframe thead tr:last-of-type th {\n",
       "        text-align: right;\n",
       "    }\n",
       "</style>\n",
       "<table border=\"1\" class=\"dataframe\">\n",
       "  <thead>\n",
       "    <tr>\n",
       "      <th></th>\n",
       "      <th></th>\n",
       "      <th></th>\n",
       "      <th></th>\n",
       "      <th></th>\n",
       "      <th></th>\n",
       "      <th></th>\n",
       "      <th colspan=\"2\" halign=\"left\">functional</th>\n",
       "      <th colspan=\"2\" halign=\"left\">needs repair</th>\n",
       "    </tr>\n",
       "    <tr>\n",
       "      <th></th>\n",
       "      <th></th>\n",
       "      <th></th>\n",
       "      <th></th>\n",
       "      <th></th>\n",
       "      <th></th>\n",
       "      <th></th>\n",
       "      <th>mean</th>\n",
       "      <th>sum</th>\n",
       "      <th>mean</th>\n",
       "      <th>sum</th>\n",
       "    </tr>\n",
       "    <tr>\n",
       "      <th>basin</th>\n",
       "      <th>region</th>\n",
       "      <th>region_code</th>\n",
       "      <th>district_code</th>\n",
       "      <th>lga</th>\n",
       "      <th>ward</th>\n",
       "      <th>subvillage</th>\n",
       "      <th></th>\n",
       "      <th></th>\n",
       "      <th></th>\n",
       "      <th></th>\n",
       "    </tr>\n",
       "  </thead>\n",
       "  <tbody>\n",
       "    <tr>\n",
       "      <th rowspan=\"5\" valign=\"top\">Internal</th>\n",
       "      <th rowspan=\"5\" valign=\"top\">Arusha</th>\n",
       "      <th rowspan=\"5\" valign=\"top\">2</th>\n",
       "      <th rowspan=\"5\" valign=\"top\">1</th>\n",
       "      <th rowspan=\"5\" valign=\"top\">Monduli</th>\n",
       "      <th rowspan=\"5\" valign=\"top\">Engaruka</th>\n",
       "      <th>Hyhh</th>\n",
       "      <td>0.0</td>\n",
       "      <td>0</td>\n",
       "      <td>1.0</td>\n",
       "      <td>1</td>\n",
       "    </tr>\n",
       "    <tr>\n",
       "      <th>Madukani</th>\n",
       "      <td>0.0</td>\n",
       "      <td>0</td>\n",
       "      <td>1.0</td>\n",
       "      <td>1</td>\n",
       "    </tr>\n",
       "    <tr>\n",
       "      <th>Mkaoo</th>\n",
       "      <td>0.0</td>\n",
       "      <td>0</td>\n",
       "      <td>1.0</td>\n",
       "      <td>3</td>\n",
       "    </tr>\n",
       "    <tr>\n",
       "      <th>Mula</th>\n",
       "      <td>0.0</td>\n",
       "      <td>0</td>\n",
       "      <td>1.0</td>\n",
       "      <td>1</td>\n",
       "    </tr>\n",
       "    <tr>\n",
       "      <th>Mwembeni</th>\n",
       "      <td>0.0</td>\n",
       "      <td>0</td>\n",
       "      <td>1.0</td>\n",
       "      <td>1</td>\n",
       "    </tr>\n",
       "  </tbody>\n",
       "</table>\n",
       "</div>"
      ],
      "text/plain": [
       "                                                                      functional  \\\n",
       "                                                                            mean   \n",
       "basin    region region_code district_code lga     ward     subvillage              \n",
       "Internal Arusha 2           1             Monduli Engaruka Hyhh              0.0   \n",
       "                                                           Madukani          0.0   \n",
       "                                                           Mkaoo             0.0   \n",
       "                                                           Mula              0.0   \n",
       "                                                           Mwembeni          0.0   \n",
       "\n",
       "                                                                           \\\n",
       "                                                                      sum   \n",
       "basin    region region_code district_code lga     ward     subvillage       \n",
       "Internal Arusha 2           1             Monduli Engaruka Hyhh         0   \n",
       "                                                           Madukani     0   \n",
       "                                                           Mkaoo        0   \n",
       "                                                           Mula         0   \n",
       "                                                           Mwembeni     0   \n",
       "\n",
       "                                                                      needs repair  \\\n",
       "                                                                              mean   \n",
       "basin    region region_code district_code lga     ward     subvillage                \n",
       "Internal Arusha 2           1             Monduli Engaruka Hyhh                1.0   \n",
       "                                                           Madukani            1.0   \n",
       "                                                           Mkaoo               1.0   \n",
       "                                                           Mula                1.0   \n",
       "                                                           Mwembeni            1.0   \n",
       "\n",
       "                                                                           \n",
       "                                                                      sum  \n",
       "basin    region region_code district_code lga     ward     subvillage      \n",
       "Internal Arusha 2           1             Monduli Engaruka Hyhh         1  \n",
       "                                                           Madukani     1  \n",
       "                                                           Mkaoo        3  \n",
       "                                                           Mula         1  \n",
       "                                                           Mwembeni     1  "
      ]
     },
     "execution_count": 18,
     "metadata": {},
     "output_type": "execute_result"
    }
   ],
   "source": [
    "data.groupby(['basin', 'region', 'region_code', 'district_code', 'lga', 'ward', 'subvillage'])[\n",
    "    ['functional', 'needs repair']].agg(['mean','sum']).head()"
   ]
  },
  {
   "cell_type": "code",
   "execution_count": 19,
   "metadata": {},
   "outputs": [
    {
     "data": {
      "image/png": "[encoded data removed]",
      "text/plain": [
       "<Figure size 576x360 with 1 Axes>"
      ]
     },
     "metadata": {
      "needs_background": "light"
     },
     "output_type": "display_data"
    }
   ],
   "source": [
    "sub_df = data.groupby('basin')['status_group'].value_counts(ascending=True).unstack()\n",
    "sub_df.plot(kind='bar', figsize=(8,5))\n",
    "plt.xlabel(\"Water Source (Basin)\", fontweight='bold')\n",
    "plt.xticks(rotation=45,fontweight='bold')\n",
    "plt.ylabel(\"Pump Functionality\")\n",
    "plt.title('Pump Functionality based on Basin', fontsize=14, fontweight='bold')\n",
    "plt.legend(bbox_to_anchor=(1.0, 0.9), title='Water Quantity');"
   ]
  },
  {
   "cell_type": "code",
   "execution_count": 20,
   "metadata": {},
   "outputs": [
    {
     "data": {
      "image/png": "[encoded data removed]",
      "text/plain": [
       "<Figure size 720x360 with 1 Axes>"
      ]
     },
     "metadata": {
      "needs_background": "light"
     },
     "output_type": "display_data"
    }
   ],
   "source": [
    "source_df = data.groupby('basin')['target'].mean()\n",
    "source_df.sort_values().plot(kind='bar', color=['brown'], figsize=(10,5))\n",
    "plt.xlabel(\"Quality of Water\")\n",
    "plt.xticks(rotation=90)\n",
    "plt.axhline(y=data['target'].mean(),color='gray') \n",
    "plt.ylabel(\"Likelihood of Needing Repairs\")\n",
    "plt.title('Likelihood of Needing Repairs vs. Basin (Water Source)', fontsize=14, fontweight='bold');"
   ]
  },
  {
   "cell_type": "markdown",
   "metadata": {},
   "source": [
    "Lake Nyasa, Pangani, Rufiji seem to have more than 60% of their pumps functioning with a less likelihood of needing repaires."
   ]
  },
  {
   "cell_type": "code",
   "execution_count": 21,
   "metadata": {},
   "outputs": [
    {
     "data": {
      "image/png": "[encoded data removed]",
      "text/plain": [
       "<Figure size 720x360 with 1 Axes>"
      ]
     },
     "metadata": {
      "needs_background": "light"
     },
     "output_type": "display_data"
    }
   ],
   "source": [
    "#REGION\n",
    "sub_df = data.groupby('region')['status_group'].value_counts(ascending=True).unstack()\n",
    "sub_df.plot(kind='bar', figsize=(10,5))\n",
    "plt.xlabel(\"Region\", fontweight='bold')\n",
    "plt.xticks(rotation=45,fontweight='bold')\n",
    "plt.ylabel(\"Pump Functionality Counts\")\n",
    "plt.title('Pump Functionality based on Region', fontsize=14, fontweight='bold')\n",
    "plt.legend(bbox_to_anchor=(1.0, 1.0), title='Water Quantity');\n"
   ]
  },
  {
   "cell_type": "code",
   "execution_count": 22,
   "metadata": {},
   "outputs": [
    {
     "name": "stdout",
     "output_type": "stream",
     "text": [
      "Unique Values: 2\n",
      "Missing Values: 3334/59400\n",
      "Possible Missing Values: 0 (wells with '0' as the value)\n"
     ]
    },
    {
     "data": {
      "image/png": "[encoded data removed]",
      "text/plain": [
       "<Figure size 360x360 with 1 Axes>"
      ]
     },
     "metadata": {
      "needs_background": "light"
     },
     "output_type": "display_data"
    }
   ],
   "source": [
    "# PUBLIC MEETING\n",
    "print(f\"Unique Values: {data['public_meeting'].nunique()}\")\n",
    "print(f\"Missing Values: {data['public_meeting'].isna().sum()}/{data.shape[0]}\")\n",
    "print(f\"Possible Missing Values: {(data['public_meeting'] == '0').sum()} (wells with '0' as the value)\")\n",
    "data['public_meeting'].value_counts().head(20)\n",
    "\n",
    "sub_df = data.groupby('public_meeting')['status_group'].value_counts(ascending=False).unstack()\n",
    "sub_df.sort_values(by='public_meeting',ascending=False).plot(kind='bar', figsize=(5,5))\n",
    "plt.xlabel(\"Public Meeting\", fontweight='bold')\n",
    "plt.xticks(rotation=0,fontweight='bold')\n",
    "plt.ylabel(\"Public Meetings\")\n",
    "plt.title('Pump Functionality based on Public Meetings', fontsize=14, fontweight='bold')\n",
    "plt.legend(bbox_to_anchor=(1.0, 1.0), title='Status Group');"
   ]
  },
  {
   "cell_type": "markdown",
   "metadata": {},
   "source": [
    "(HHAHAHhahaha interesting to see meetings do have an impact )    now we print  to see wat kind of managment work in this meetings"
   ]
  },
  {
   "cell_type": "code",
   "execution_count": 23,
   "metadata": {},
   "outputs": [
    {
     "name": "stdout",
     "output_type": "stream",
     "text": [
      "Unique Values: 12\n",
      "Missing Values: 0/59400\n",
      "Possible Missing Values: 0 (wells with '0' as the value)\n"
     ]
    },
    {
     "data": {
      "text/plain": [
       "vwc                 40507\n",
       "wug                  6515\n",
       "water board          2933\n",
       "wua                  2535\n",
       "private operator     1971\n",
       "parastatal           1768\n",
       "water authority       904\n",
       "other                 844\n",
       "company               685\n",
       "unknown               561\n",
       "other - school         99\n",
       "trust                  78\n",
       "Name: management, dtype: int64"
      ]
     },
     "execution_count": 23,
     "metadata": {},
     "output_type": "execute_result"
    }
   ],
   "source": [
    "print(f\"Unique Values: {data['management'].nunique()}\")\n",
    "print(f\"Missing Values: {data['management'].isna().sum()}/{data.shape[0]}\")\n",
    "print(f\"Possible Missing Values: {(data['management'] == '0').sum()} (wells with '0' as the value)\")\n",
    "data['management'].value_counts().head(20)\n",
    "\n"
   ]
  },
  {
   "cell_type": "code",
   "execution_count": 24,
   "metadata": {},
   "outputs": [
    {
     "name": "stdout",
     "output_type": "stream",
     "text": [
      "Unique Values: 12\n",
      "Missing Values: 0/59400\n",
      "Possible Missing Values: 0 (wells with '0' as the value)\n"
     ]
    },
    {
     "data": {
      "text/plain": [
       "vwc                 40507\n",
       "wug                  6515\n",
       "water board          2933\n",
       "wua                  2535\n",
       "private operator     1971\n",
       "parastatal           1768\n",
       "water authority       904\n",
       "other                 844\n",
       "company               685\n",
       "unknown               561\n",
       "other - school         99\n",
       "trust                  78\n",
       "Name: management, dtype: int64"
      ]
     },
     "execution_count": 24,
     "metadata": {},
     "output_type": "execute_result"
    }
   ],
   "source": [
    "print(f\"Unique Values: {data['management'].nunique()}\")\n",
    "print(f\"Missing Values: {data['management'].isna().sum()}/{data.shape[0]}\")\n",
    "print(f\"Possible Missing Values: {(data['management'] == '0').sum()} (wells with '0' as the value)\")\n",
    "data['management'].value_counts().head(20)"
   ]
  },
  {
   "cell_type": "code",
   "execution_count": 25,
   "metadata": {},
   "outputs": [
    {
     "data": {
      "text/html": [
       "<div>\n",
       "<style scoped>\n",
       "    .dataframe tbody tr th:only-of-type {\n",
       "        vertical-align: middle;\n",
       "    }\n",
       "\n",
       "    .dataframe tbody tr th {\n",
       "        vertical-align: top;\n",
       "    }\n",
       "\n",
       "    .dataframe thead th {\n",
       "        text-align: right;\n",
       "    }\n",
       "</style>\n",
       "<table border=\"1\" class=\"dataframe\">\n",
       "  <thead>\n",
       "    <tr style=\"text-align: right;\">\n",
       "      <th></th>\n",
       "      <th></th>\n",
       "      <th>functional</th>\n",
       "      <th>needs repair</th>\n",
       "    </tr>\n",
       "    <tr>\n",
       "      <th>management_group</th>\n",
       "      <th>management</th>\n",
       "      <th></th>\n",
       "      <th></th>\n",
       "    </tr>\n",
       "  </thead>\n",
       "  <tbody>\n",
       "    <tr>\n",
       "      <th rowspan=\"4\" valign=\"top\">commercial</th>\n",
       "      <th>company</th>\n",
       "      <td>0.389781</td>\n",
       "      <td>0.610219</td>\n",
       "    </tr>\n",
       "    <tr>\n",
       "      <th>private operator</th>\n",
       "      <td>0.748858</td>\n",
       "      <td>0.251142</td>\n",
       "    </tr>\n",
       "    <tr>\n",
       "      <th>trust</th>\n",
       "      <td>0.589744</td>\n",
       "      <td>0.410256</td>\n",
       "    </tr>\n",
       "    <tr>\n",
       "      <th>water authority</th>\n",
       "      <td>0.493363</td>\n",
       "      <td>0.506637</td>\n",
       "    </tr>\n",
       "    <tr>\n",
       "      <th rowspan=\"2\" valign=\"top\">other</th>\n",
       "      <th>other</th>\n",
       "      <td>0.598341</td>\n",
       "      <td>0.401659</td>\n",
       "    </tr>\n",
       "    <tr>\n",
       "      <th>other - school</th>\n",
       "      <td>0.232323</td>\n",
       "      <td>0.767677</td>\n",
       "    </tr>\n",
       "    <tr>\n",
       "      <th>parastatal</th>\n",
       "      <th>parastatal</th>\n",
       "      <td>0.576923</td>\n",
       "      <td>0.423077</td>\n",
       "    </tr>\n",
       "    <tr>\n",
       "      <th>unknown</th>\n",
       "      <th>unknown</th>\n",
       "      <td>0.399287</td>\n",
       "      <td>0.600713</td>\n",
       "    </tr>\n",
       "    <tr>\n",
       "      <th rowspan=\"4\" valign=\"top\">user-group</th>\n",
       "      <th>vwc</th>\n",
       "      <td>0.504234</td>\n",
       "      <td>0.495766</td>\n",
       "    </tr>\n",
       "    <tr>\n",
       "      <th>water board</th>\n",
       "      <td>0.739857</td>\n",
       "      <td>0.260143</td>\n",
       "    </tr>\n",
       "    <tr>\n",
       "      <th>wua</th>\n",
       "      <td>0.690730</td>\n",
       "      <td>0.309270</td>\n",
       "    </tr>\n",
       "    <tr>\n",
       "      <th>wug</th>\n",
       "      <td>0.599540</td>\n",
       "      <td>0.400460</td>\n",
       "    </tr>\n",
       "  </tbody>\n",
       "</table>\n",
       "</div>"
      ],
      "text/plain": [
       "                                   functional  needs repair\n",
       "management_group management                                \n",
       "commercial       company             0.389781      0.610219\n",
       "                 private operator    0.748858      0.251142\n",
       "                 trust               0.589744      0.410256\n",
       "                 water authority     0.493363      0.506637\n",
       "other            other               0.598341      0.401659\n",
       "                 other - school      0.232323      0.767677\n",
       "parastatal       parastatal          0.576923      0.423077\n",
       "unknown          unknown             0.399287      0.600713\n",
       "user-group       vwc                 0.504234      0.495766\n",
       "                 water board         0.739857      0.260143\n",
       "                 wua                 0.690730      0.309270\n",
       "                 wug                 0.599540      0.400460"
      ]
     },
     "execution_count": 25,
     "metadata": {},
     "output_type": "execute_result"
    }
   ],
   "source": [
    "data.groupby(['management_group', 'management'])[['functional', 'needs repair']].mean()"
   ]
  },
  {
   "cell_type": "code",
   "execution_count": 26,
   "metadata": {},
   "outputs": [
    {
     "name": "stdout",
     "output_type": "stream",
     "text": [
      "Unique Values: 7\n",
      "Missing Values: 0/59400\n",
      "Possible Missing Values: 0 (wells with '0' as the value)\n",
      "Unique Values: 7\n",
      "Missing Values: 0/59400\n",
      "Possible Missing Values: 0 (wells with '0' as the value)\n"
     ]
    },
    {
     "data": {
      "text/plain": [
       "never pay     25348\n",
       "per bucket     8985\n",
       "monthly        8300\n",
       "unknown        8157\n",
       "on failure     3914\n",
       "annually       3642\n",
       "other          1054\n",
       "Name: payment_type, dtype: int64"
      ]
     },
     "execution_count": 26,
     "metadata": {},
     "output_type": "execute_result"
    }
   ],
   "source": [
    "# PAYMENT\n",
    "print(f\"Unique Values: {data['payment'].nunique()}\")\n",
    "print(f\"Missing Values: {data['payment'].isna().sum()}/{data.shape[0]}\")\n",
    "print(f\"Possible Missing Values: {(data['payment'] == '0').sum()} (wells with '0' as the value)\")\n",
    "data['payment'].value_counts().head(20)\n",
    "\n",
    "print(f\"Unique Values: {data['payment_type'].nunique()}\")\n",
    "print(f\"Missing Values: {data['payment_type'].isna().sum()}/{data.shape[0]}\")\n",
    "print(f\"Possible Missing Values: {(data['payment_type'] == '0').sum()} (wells with '0' as the value)\")\n",
    "data['payment_type'].value_counts().head(20)"
   ]
  },
  {
   "cell_type": "markdown",
   "metadata": {},
   "source": [
    "payment_type - similar to payment.Hence we will be dropping payment_type"
   ]
  },
  {
   "cell_type": "markdown",
   "metadata": {},
   "source": [
    "### 2.1 . EXPLORATION ON NON-CATEGORICAL FEATURES"
   ]
  },
  {
   "cell_type": "code",
   "execution_count": 27,
   "metadata": {},
   "outputs": [
    {
     "name": "stdout",
     "output_type": "stream",
     "text": [
      "Unique Values: 2428\n",
      "Missing Values: 0/59400\n",
      "Possible Missing Values: 0 (wells with '0' as the value)\n"
     ]
    },
    {
     "data": {
      "text/plain": [
       " 0       20438\n",
       "-15         60\n",
       "-16         55\n",
       "-13         55\n",
       "-20         52\n",
       " 1290       52\n",
       "-14         51\n",
       " 303        51\n",
       "-18         49\n",
       "-19         47\n",
       " 1269       46\n",
       " 1295       46\n",
       " 1304       45\n",
       "-23         45\n",
       " 280        44\n",
       " 1538       44\n",
       " 1286       44\n",
       "-8          44\n",
       "-17         44\n",
       " 1332       43\n",
       "Name: gps_height, dtype: int64"
      ]
     },
     "execution_count": 27,
     "metadata": {},
     "output_type": "execute_result"
    }
   ],
   "source": [
    "# GPS-HEIGHT\n",
    "print(f\"Unique Values: {data['gps_height'].nunique()}\")\n",
    "print(f\"Missing Values: {data['gps_height'].isna().sum()}/{data.shape[0]}\")\n",
    "print(f\"Possible Missing Values: {(data['gps_height'] == '0').sum()} (wells with '0' as the value)\")\n",
    "data['gps_height'].value_counts().head(20)"
   ]
  },
  {
   "cell_type": "code",
   "execution_count": 28,
   "metadata": {},
   "outputs": [
    {
     "data": {
      "image/png": "[encoded data removed]",
      "text/plain": [
       "<Figure size 432x288 with 1 Axes>"
      ]
     },
     "metadata": {
      "needs_background": "light"
     },
     "output_type": "display_data"
    }
   ],
   "source": [
    "fig, ax = plt.subplots(1)\n",
    "sns.regplot(x='gps_height', y='target', data=data[(data['gps_height'] != 0)], ax=ax)\n",
    "ax.set_yticks([0, 1])\n",
    "plt.title('Well Status and GPS Height', fontsize=14, fontweight='bold');"
   ]
  },
  {
   "cell_type": "markdown",
   "metadata": {},
   "source": [
    "definitely a strong relationship (hapa come with words)"
   ]
  },
  {
   "cell_type": "code",
   "execution_count": 29,
   "metadata": {},
   "outputs": [
    {
     "name": "stdout",
     "output_type": "stream",
     "text": [
      "Unique Values: 98\n",
      "Missing Values: 0/59400\n",
      "Possible Missing Values: 0 (wells with '0' as the value)\n"
     ]
    },
    {
     "data": {
      "text/plain": [
       "0.0       41639\n",
       "500.0      3102\n",
       "50.0       2472\n",
       "1000.0     1488\n",
       "20.0       1463\n",
       "200.0      1220\n",
       "100.0       816\n",
       "10.0        806\n",
       "30.0        743\n",
       "2000.0      704\n",
       "250.0       569\n",
       "300.0       557\n",
       "5000.0      450\n",
       "5.0         376\n",
       "25.0        356\n",
       "3000.0      334\n",
       "1200.0      267\n",
       "1500.0      197\n",
       "6.0         190\n",
       "600.0       176\n",
       "Name: amount_tsh, dtype: int64"
      ]
     },
     "execution_count": 29,
     "metadata": {},
     "output_type": "execute_result"
    }
   ],
   "source": [
    "#AMOUNT-TSH\n",
    "print(f\"Unique Values: {data['amount_tsh'].nunique()}\")\n",
    "print(f\"Missing Values: {data['amount_tsh'].isna().sum()}/{data.shape[0]}\")\n",
    "print(f\"Possible Missing Values: {(data['amount_tsh'] == '0').sum()} (wells with '0' as the value)\")\n",
    "data['amount_tsh'].value_counts().head(20)"
   ]
  },
  {
   "cell_type": "markdown",
   "metadata": {},
   "source": [
    "Since 90% of the data is 0's, hence we will be dropping this when modelling.\n"
   ]
  },
  {
   "cell_type": "code",
   "execution_count": 30,
   "metadata": {},
   "outputs": [
    {
     "name": "stdout",
     "output_type": "stream",
     "text": [
      "Unique Values: 55\n",
      "Missing Values: 0/59400\n",
      "Possible Missing Values: 0 (wells with '0' as the value)\n"
     ]
    },
    {
     "data": {
      "text/plain": [
       "0       20709\n",
       "2010     2645\n",
       "2008     2613\n",
       "2009     2533\n",
       "2000     2091\n",
       "2007     1587\n",
       "2006     1471\n",
       "2003     1286\n",
       "2011     1256\n",
       "2004     1123\n",
       "2012     1084\n",
       "2002     1075\n",
       "1978     1037\n",
       "1995     1014\n",
       "2005     1011\n",
       "1999      979\n",
       "1998      966\n",
       "1990      954\n",
       "1985      945\n",
       "1980      811\n",
       "Name: construction_year, dtype: int64"
      ]
     },
     "execution_count": 30,
     "metadata": {},
     "output_type": "execute_result"
    }
   ],
   "source": [
    "#CONSTRUCTION YEAR\n",
    "print(f\"Unique Values: {data['construction_year'].nunique()}\")\n",
    "print(f\"Missing Values: {data['construction_year'].isna().sum()}/{data.shape[0]}\")\n",
    "print(f\"Possible Missing Values: {(data['construction_year'] == '0').sum()} (wells with '0' as the value)\")\n",
    "data['construction_year'].value_counts().head(20)"
   ]
  },
  {
   "cell_type": "markdown",
   "metadata": {},
   "source": [
    "We create a new column to better understand the con_ year better"
   ]
  },
  {
   "cell_type": "code",
   "execution_count": 31,
   "metadata": {},
   "outputs": [
    {
     "data": {
      "text/plain": [
       "2024    20709\n",
       "14       2645\n",
       "16       2613\n",
       "15       2533\n",
       "24       2091\n",
       "17       1587\n",
       "18       1471\n",
       "21       1286\n",
       "13       1256\n",
       "20       1123\n",
       "12       1084\n",
       "22       1075\n",
       "46       1037\n",
       "29       1014\n",
       "19       1011\n",
       "25        979\n",
       "26        966\n",
       "34        954\n",
       "39        945\n",
       "44        811\n",
       "28        811\n",
       "40        779\n",
       "42        744\n",
       "30        738\n",
       "52        708\n",
       "50        676\n",
       "27        644\n",
       "32        640\n",
       "31        608\n",
       "23        540\n",
       "36        521\n",
       "41        488\n",
       "49        437\n",
       "38        434\n",
       "48        414\n",
       "54        411\n",
       "33        324\n",
       "35        316\n",
       "37        302\n",
       "43        238\n",
       "47        202\n",
       "45        192\n",
       "51        184\n",
       "11        176\n",
       "53        145\n",
       "64        102\n",
       "57         88\n",
       "61         85\n",
       "56         77\n",
       "55         59\n",
       "60         40\n",
       "62         30\n",
       "63         21\n",
       "59         19\n",
       "58         17\n",
       "Name: age_of_well, dtype: int64"
      ]
     },
     "execution_count": 31,
     "metadata": {},
     "output_type": "execute_result"
    }
   ],
   "source": [
    "from datetime import datetime\n",
    "data['age_of_well']=datetime.now().year - data['construction_year']\n",
    "\n",
    "data['age_of_well'].value_counts()"
   ]
  },
  {
   "cell_type": "code",
   "execution_count": 32,
   "metadata": {},
   "outputs": [
    {
     "data": {
      "text/html": [
       "<div>\n",
       "<style scoped>\n",
       "    .dataframe tbody tr th:only-of-type {\n",
       "        vertical-align: middle;\n",
       "    }\n",
       "\n",
       "    .dataframe tbody tr th {\n",
       "        vertical-align: top;\n",
       "    }\n",
       "\n",
       "    .dataframe thead th {\n",
       "        text-align: right;\n",
       "    }\n",
       "</style>\n",
       "<table border=\"1\" class=\"dataframe\">\n",
       "  <thead>\n",
       "    <tr style=\"text-align: right;\">\n",
       "      <th></th>\n",
       "      <th>id</th>\n",
       "      <th>status_group</th>\n",
       "      <th>amount_tsh</th>\n",
       "      <th>date_recorded</th>\n",
       "      <th>funder</th>\n",
       "      <th>gps_height</th>\n",
       "      <th>installer</th>\n",
       "      <th>longitude</th>\n",
       "      <th>latitude</th>\n",
       "      <th>wpt_name</th>\n",
       "      <th>...</th>\n",
       "      <th>quantity_group</th>\n",
       "      <th>source</th>\n",
       "      <th>source_type</th>\n",
       "      <th>source_class</th>\n",
       "      <th>waterpoint_type</th>\n",
       "      <th>waterpoint_type_group</th>\n",
       "      <th>target</th>\n",
       "      <th>functional</th>\n",
       "      <th>needs repair</th>\n",
       "      <th>age_of_well</th>\n",
       "    </tr>\n",
       "  </thead>\n",
       "  <tbody>\n",
       "    <tr>\n",
       "      <th>0</th>\n",
       "      <td>69572</td>\n",
       "      <td>functional</td>\n",
       "      <td>6000.0</td>\n",
       "      <td>2011-03-14</td>\n",
       "      <td>Roman</td>\n",
       "      <td>1390</td>\n",
       "      <td>Roman</td>\n",
       "      <td>34.938093</td>\n",
       "      <td>-9.856322</td>\n",
       "      <td>none</td>\n",
       "      <td>...</td>\n",
       "      <td>enough</td>\n",
       "      <td>spring</td>\n",
       "      <td>spring</td>\n",
       "      <td>groundwater</td>\n",
       "      <td>communal standpipe</td>\n",
       "      <td>communal standpipe</td>\n",
       "      <td>0</td>\n",
       "      <td>1</td>\n",
       "      <td>0</td>\n",
       "      <td>25</td>\n",
       "    </tr>\n",
       "    <tr>\n",
       "      <th>1</th>\n",
       "      <td>8776</td>\n",
       "      <td>functional</td>\n",
       "      <td>0.0</td>\n",
       "      <td>2013-03-06</td>\n",
       "      <td>Grumeti</td>\n",
       "      <td>1399</td>\n",
       "      <td>GRUMETI</td>\n",
       "      <td>34.698766</td>\n",
       "      <td>-2.147466</td>\n",
       "      <td>Zahanati</td>\n",
       "      <td>...</td>\n",
       "      <td>insufficient</td>\n",
       "      <td>rainwater harvesting</td>\n",
       "      <td>rainwater harvesting</td>\n",
       "      <td>surface</td>\n",
       "      <td>communal standpipe</td>\n",
       "      <td>communal standpipe</td>\n",
       "      <td>0</td>\n",
       "      <td>1</td>\n",
       "      <td>0</td>\n",
       "      <td>14</td>\n",
       "    </tr>\n",
       "    <tr>\n",
       "      <th>2</th>\n",
       "      <td>34310</td>\n",
       "      <td>functional</td>\n",
       "      <td>25.0</td>\n",
       "      <td>2013-02-25</td>\n",
       "      <td>Lottery Club</td>\n",
       "      <td>686</td>\n",
       "      <td>World vision</td>\n",
       "      <td>37.460664</td>\n",
       "      <td>-3.821329</td>\n",
       "      <td>Kwa Mahundi</td>\n",
       "      <td>...</td>\n",
       "      <td>enough</td>\n",
       "      <td>dam</td>\n",
       "      <td>dam</td>\n",
       "      <td>surface</td>\n",
       "      <td>communal standpipe multiple</td>\n",
       "      <td>communal standpipe</td>\n",
       "      <td>0</td>\n",
       "      <td>1</td>\n",
       "      <td>0</td>\n",
       "      <td>15</td>\n",
       "    </tr>\n",
       "    <tr>\n",
       "      <th>3</th>\n",
       "      <td>67743</td>\n",
       "      <td>needs repair</td>\n",
       "      <td>0.0</td>\n",
       "      <td>2013-01-28</td>\n",
       "      <td>Unicef</td>\n",
       "      <td>263</td>\n",
       "      <td>UNICEF</td>\n",
       "      <td>38.486161</td>\n",
       "      <td>-11.155298</td>\n",
       "      <td>Zahanati Ya Nanyumbu</td>\n",
       "      <td>...</td>\n",
       "      <td>dry</td>\n",
       "      <td>machine dbh</td>\n",
       "      <td>borehole</td>\n",
       "      <td>groundwater</td>\n",
       "      <td>communal standpipe multiple</td>\n",
       "      <td>communal standpipe</td>\n",
       "      <td>1</td>\n",
       "      <td>0</td>\n",
       "      <td>1</td>\n",
       "      <td>38</td>\n",
       "    </tr>\n",
       "    <tr>\n",
       "      <th>10</th>\n",
       "      <td>49056</td>\n",
       "      <td>functional</td>\n",
       "      <td>0.0</td>\n",
       "      <td>2011-02-20</td>\n",
       "      <td>Private</td>\n",
       "      <td>62</td>\n",
       "      <td>Private</td>\n",
       "      <td>39.209518</td>\n",
       "      <td>-7.034139</td>\n",
       "      <td>Mzee Hokororo</td>\n",
       "      <td>...</td>\n",
       "      <td>enough</td>\n",
       "      <td>machine dbh</td>\n",
       "      <td>borehole</td>\n",
       "      <td>groundwater</td>\n",
       "      <td>other</td>\n",
       "      <td>other</td>\n",
       "      <td>0</td>\n",
       "      <td>1</td>\n",
       "      <td>0</td>\n",
       "      <td>13</td>\n",
       "    </tr>\n",
       "    <tr>\n",
       "      <th>...</th>\n",
       "      <td>...</td>\n",
       "      <td>...</td>\n",
       "      <td>...</td>\n",
       "      <td>...</td>\n",
       "      <td>...</td>\n",
       "      <td>...</td>\n",
       "      <td>...</td>\n",
       "      <td>...</td>\n",
       "      <td>...</td>\n",
       "      <td>...</td>\n",
       "      <td>...</td>\n",
       "      <td>...</td>\n",
       "      <td>...</td>\n",
       "      <td>...</td>\n",
       "      <td>...</td>\n",
       "      <td>...</td>\n",
       "      <td>...</td>\n",
       "      <td>...</td>\n",
       "      <td>...</td>\n",
       "      <td>...</td>\n",
       "      <td>...</td>\n",
       "    </tr>\n",
       "    <tr>\n",
       "      <th>59391</th>\n",
       "      <td>44885</td>\n",
       "      <td>needs repair</td>\n",
       "      <td>0.0</td>\n",
       "      <td>2013-08-03</td>\n",
       "      <td>Government Of Tanzania</td>\n",
       "      <td>540</td>\n",
       "      <td>Government</td>\n",
       "      <td>38.044070</td>\n",
       "      <td>-4.272218</td>\n",
       "      <td>Kwa</td>\n",
       "      <td>...</td>\n",
       "      <td>enough</td>\n",
       "      <td>river</td>\n",
       "      <td>river/lake</td>\n",
       "      <td>surface</td>\n",
       "      <td>communal standpipe</td>\n",
       "      <td>communal standpipe</td>\n",
       "      <td>1</td>\n",
       "      <td>0</td>\n",
       "      <td>1</td>\n",
       "      <td>57</td>\n",
       "    </tr>\n",
       "    <tr>\n",
       "      <th>59394</th>\n",
       "      <td>11164</td>\n",
       "      <td>needs repair</td>\n",
       "      <td>500.0</td>\n",
       "      <td>2011-03-09</td>\n",
       "      <td>World Bank</td>\n",
       "      <td>351</td>\n",
       "      <td>ML appro</td>\n",
       "      <td>37.634053</td>\n",
       "      <td>-6.124830</td>\n",
       "      <td>Chimeredya</td>\n",
       "      <td>...</td>\n",
       "      <td>enough</td>\n",
       "      <td>machine dbh</td>\n",
       "      <td>borehole</td>\n",
       "      <td>groundwater</td>\n",
       "      <td>communal standpipe</td>\n",
       "      <td>communal standpipe</td>\n",
       "      <td>1</td>\n",
       "      <td>0</td>\n",
       "      <td>1</td>\n",
       "      <td>17</td>\n",
       "    </tr>\n",
       "    <tr>\n",
       "      <th>59395</th>\n",
       "      <td>60739</td>\n",
       "      <td>functional</td>\n",
       "      <td>10.0</td>\n",
       "      <td>2013-05-03</td>\n",
       "      <td>Germany Republi</td>\n",
       "      <td>1210</td>\n",
       "      <td>CES</td>\n",
       "      <td>37.169807</td>\n",
       "      <td>-3.253847</td>\n",
       "      <td>Area Three Namba 27</td>\n",
       "      <td>...</td>\n",
       "      <td>enough</td>\n",
       "      <td>spring</td>\n",
       "      <td>spring</td>\n",
       "      <td>groundwater</td>\n",
       "      <td>communal standpipe</td>\n",
       "      <td>communal standpipe</td>\n",
       "      <td>0</td>\n",
       "      <td>1</td>\n",
       "      <td>0</td>\n",
       "      <td>25</td>\n",
       "    </tr>\n",
       "    <tr>\n",
       "      <th>59396</th>\n",
       "      <td>27263</td>\n",
       "      <td>functional</td>\n",
       "      <td>4700.0</td>\n",
       "      <td>2011-05-07</td>\n",
       "      <td>Cefa-njombe</td>\n",
       "      <td>1212</td>\n",
       "      <td>Cefa</td>\n",
       "      <td>35.249991</td>\n",
       "      <td>-9.070629</td>\n",
       "      <td>Kwa Yahona Kuvala</td>\n",
       "      <td>...</td>\n",
       "      <td>enough</td>\n",
       "      <td>river</td>\n",
       "      <td>river/lake</td>\n",
       "      <td>surface</td>\n",
       "      <td>communal standpipe</td>\n",
       "      <td>communal standpipe</td>\n",
       "      <td>0</td>\n",
       "      <td>1</td>\n",
       "      <td>0</td>\n",
       "      <td>28</td>\n",
       "    </tr>\n",
       "    <tr>\n",
       "      <th>59399</th>\n",
       "      <td>26348</td>\n",
       "      <td>functional</td>\n",
       "      <td>0.0</td>\n",
       "      <td>2011-03-23</td>\n",
       "      <td>World Bank</td>\n",
       "      <td>191</td>\n",
       "      <td>World</td>\n",
       "      <td>38.104048</td>\n",
       "      <td>-6.747464</td>\n",
       "      <td>Kwa Mzee Lugawa</td>\n",
       "      <td>...</td>\n",
       "      <td>enough</td>\n",
       "      <td>shallow well</td>\n",
       "      <td>shallow well</td>\n",
       "      <td>groundwater</td>\n",
       "      <td>hand pump</td>\n",
       "      <td>hand pump</td>\n",
       "      <td>0</td>\n",
       "      <td>1</td>\n",
       "      <td>0</td>\n",
       "      <td>22</td>\n",
       "    </tr>\n",
       "  </tbody>\n",
       "</table>\n",
       "<p>35319 rows × 45 columns</p>\n",
       "</div>"
      ],
      "text/plain": [
       "          id  status_group  amount_tsh date_recorded                  funder  \\\n",
       "0      69572    functional      6000.0    2011-03-14                   Roman   \n",
       "1       8776    functional         0.0    2013-03-06                 Grumeti   \n",
       "2      34310    functional        25.0    2013-02-25            Lottery Club   \n",
       "3      67743  needs repair         0.0    2013-01-28                  Unicef   \n",
       "10     49056    functional         0.0    2011-02-20                 Private   \n",
       "...      ...           ...         ...           ...                     ...   \n",
       "59391  44885  needs repair         0.0    2013-08-03  Government Of Tanzania   \n",
       "59394  11164  needs repair       500.0    2011-03-09              World Bank   \n",
       "59395  60739    functional        10.0    2013-05-03         Germany Republi   \n",
       "59396  27263    functional      4700.0    2011-05-07             Cefa-njombe   \n",
       "59399  26348    functional         0.0    2011-03-23              World Bank   \n",
       "\n",
       "       gps_height     installer  longitude   latitude              wpt_name  \\\n",
       "0            1390         Roman  34.938093  -9.856322                  none   \n",
       "1            1399       GRUMETI  34.698766  -2.147466              Zahanati   \n",
       "2             686  World vision  37.460664  -3.821329           Kwa Mahundi   \n",
       "3             263        UNICEF  38.486161 -11.155298  Zahanati Ya Nanyumbu   \n",
       "10             62       Private  39.209518  -7.034139         Mzee Hokororo   \n",
       "...           ...           ...        ...        ...                   ...   \n",
       "59391         540    Government  38.044070  -4.272218                   Kwa   \n",
       "59394         351      ML appro  37.634053  -6.124830            Chimeredya   \n",
       "59395        1210           CES  37.169807  -3.253847   Area Three Namba 27   \n",
       "59396        1212          Cefa  35.249991  -9.070629     Kwa Yahona Kuvala   \n",
       "59399         191         World  38.104048  -6.747464       Kwa Mzee Lugawa   \n",
       "\n",
       "       ...  quantity_group                source           source_type  \\\n",
       "0      ...          enough                spring                spring   \n",
       "1      ...    insufficient  rainwater harvesting  rainwater harvesting   \n",
       "2      ...          enough                   dam                   dam   \n",
       "3      ...             dry           machine dbh              borehole   \n",
       "10     ...          enough           machine dbh              borehole   \n",
       "...    ...             ...                   ...                   ...   \n",
       "59391  ...          enough                 river            river/lake   \n",
       "59394  ...          enough           machine dbh              borehole   \n",
       "59395  ...          enough                spring                spring   \n",
       "59396  ...          enough                 river            river/lake   \n",
       "59399  ...          enough          shallow well          shallow well   \n",
       "\n",
       "      source_class              waterpoint_type  waterpoint_type_group target  \\\n",
       "0      groundwater           communal standpipe     communal standpipe      0   \n",
       "1          surface           communal standpipe     communal standpipe      0   \n",
       "2          surface  communal standpipe multiple     communal standpipe      0   \n",
       "3      groundwater  communal standpipe multiple     communal standpipe      1   \n",
       "10     groundwater                        other                  other      0   \n",
       "...            ...                          ...                    ...    ...   \n",
       "59391      surface           communal standpipe     communal standpipe      1   \n",
       "59394  groundwater           communal standpipe     communal standpipe      1   \n",
       "59395  groundwater           communal standpipe     communal standpipe      0   \n",
       "59396      surface           communal standpipe     communal standpipe      0   \n",
       "59399  groundwater                    hand pump              hand pump      0   \n",
       "\n",
       "      functional  needs repair age_of_well  \n",
       "0              1             0          25  \n",
       "1              1             0          14  \n",
       "2              1             0          15  \n",
       "3              0             1          38  \n",
       "10             1             0          13  \n",
       "...          ...           ...         ...  \n",
       "59391          0             1          57  \n",
       "59394          0             1          17  \n",
       "59395          1             0          25  \n",
       "59396          1             0          28  \n",
       "59399          1             0          22  \n",
       "\n",
       "[35319 rows x 45 columns]"
      ]
     },
     "execution_count": 32,
     "metadata": {},
     "output_type": "execute_result"
    }
   ],
   "source": [
    "data = data[(data['construction_year'] > 0) & (data['population'] > 0) & (data['gps_height'] > 0)]\n",
    "data"
   ]
  },
  {
   "cell_type": "code",
   "execution_count": 33,
   "metadata": {},
   "outputs": [
    {
     "data": {
      "image/png": "[encoded data removed]",
      "text/plain": [
       "<Figure size 432x288 with 1 Axes>"
      ]
     },
     "metadata": {
      "needs_background": "light"
     },
     "output_type": "display_data"
    }
   ],
   "source": [
    "sns.boxplot(x='status_group',y='age_of_well', data=data, showfliers=False)\n",
    "plt.xlabel('Functionality of Well', fontsize=12, fontweight='bold');\n",
    "plt.ylabel('Age of Well', fontsize=12, fontweight='bold');\n",
    "plt.title('Age of well vs Functionality', fontsize=16, fontweight='bold');"
   ]
  },
  {
   "cell_type": "markdown",
   "metadata": {},
   "source": [
    "0 is Funtional\n",
    "1 is Non Funtional or Needs repair\n",
    "\n",
    "So we see, that newer the well is, more chances of it being functional"
   ]
  },
  {
   "cell_type": "code",
   "execution_count": null,
   "metadata": {},
   "outputs": [],
   "source": []
  },
  {
   "cell_type": "code",
   "execution_count": 34,
   "metadata": {},
   "outputs": [
    {
     "name": "stdout",
     "output_type": "stream",
     "text": [
      "<class 'pandas.core.frame.DataFrame'>\n",
      "Int64Index: 35319 entries, 0 to 59399\n",
      "Data columns (total 45 columns):\n",
      " #   Column                 Non-Null Count  Dtype   \n",
      "---  ------                 --------------  -----   \n",
      " 0   id                     35319 non-null  int64   \n",
      " 1   status_group           35319 non-null  category\n",
      " 2   amount_tsh             35319 non-null  float64 \n",
      " 3   date_recorded          35319 non-null  object  \n",
      " 4   funder                 33982 non-null  object  \n",
      " 5   gps_height             35319 non-null  int64   \n",
      " 6   installer              33977 non-null  object  \n",
      " 7   longitude              35319 non-null  float64 \n",
      " 8   latitude               35319 non-null  float64 \n",
      " 9   wpt_name               35319 non-null  object  \n",
      " 10  num_private            35319 non-null  int64   \n",
      " 11  basin                  35319 non-null  object  \n",
      " 12  subvillage             35309 non-null  object  \n",
      " 13  region                 35319 non-null  object  \n",
      " 14  region_code            35319 non-null  int64   \n",
      " 15  district_code          35319 non-null  int64   \n",
      " 16  lga                    35319 non-null  object  \n",
      " 17  ward                   35319 non-null  object  \n",
      " 18  population             35319 non-null  int64   \n",
      " 19  public_meeting         33057 non-null  object  \n",
      " 20  recorded_by            35319 non-null  object  \n",
      " 21  scheme_management      33090 non-null  object  \n",
      " 22  scheme_name            21756 non-null  object  \n",
      " 23  permit                 33395 non-null  object  \n",
      " 24  construction_year      35319 non-null  int64   \n",
      " 25  extraction_type        35319 non-null  object  \n",
      " 26  extraction_type_group  35319 non-null  object  \n",
      " 27  extraction_type_class  35319 non-null  object  \n",
      " 28  management             35319 non-null  object  \n",
      " 29  management_group       35319 non-null  object  \n",
      " 30  payment                35319 non-null  object  \n",
      " 31  payment_type           35319 non-null  object  \n",
      " 32  water_quality          35319 non-null  object  \n",
      " 33  quality_group          35319 non-null  object  \n",
      " 34  quantity               35319 non-null  object  \n",
      " 35  quantity_group         35319 non-null  object  \n",
      " 36  source                 35319 non-null  object  \n",
      " 37  source_type            35319 non-null  object  \n",
      " 38  source_class           35319 non-null  object  \n",
      " 39  waterpoint_type        35319 non-null  object  \n",
      " 40  waterpoint_type_group  35319 non-null  object  \n",
      " 41  target                 35319 non-null  int8    \n",
      " 42  functional             35319 non-null  uint8   \n",
      " 43  needs repair           35319 non-null  uint8   \n",
      " 44  age_of_well            35319 non-null  int64   \n",
      "dtypes: category(1), float64(3), int64(8), int8(1), object(30), uint8(2)\n",
      "memory usage: 12.7+ MB\n"
     ]
    }
   ],
   "source": [
    "data.info()"
   ]
  },
  {
   "cell_type": "code",
   "execution_count": 35,
   "metadata": {},
   "outputs": [],
   "source": [
    "data = data.drop_duplicates()"
   ]
  },
  {
   "cell_type": "code",
   "execution_count": 36,
   "metadata": {},
   "outputs": [],
   "source": [
    "to_drop = ['wpt_name','id','date_recorded','recorded_by','region_code',\n",
    "           'lga','scheme_name','funder','subvillage','latitude',\n",
    "           'longitude','extraction_type_class','extraction_type',\n",
    "           'payment_type','quantity_group','source_type','waterpoint_type_group',\n",
    "           'district_code','amount_tsh','num_private','construction_year',\n",
    "           'status_group','population','functional','needs repair','management'\n",
    "          ]"
   ]
  },
  {
   "cell_type": "code",
   "execution_count": 37,
   "metadata": {},
   "outputs": [
    {
     "name": "stdout",
     "output_type": "stream",
     "text": [
      "<class 'pandas.core.frame.DataFrame'>\n",
      "Int64Index: 29361 entries, 0 to 59399\n",
      "Data columns (total 19 columns):\n",
      " #   Column                 Non-Null Count  Dtype \n",
      "---  ------                 --------------  ----- \n",
      " 0   gps_height             29361 non-null  int64 \n",
      " 1   installer              29361 non-null  object\n",
      " 2   basin                  29361 non-null  object\n",
      " 3   region                 29361 non-null  object\n",
      " 4   ward                   29361 non-null  object\n",
      " 5   public_meeting         29361 non-null  object\n",
      " 6   scheme_management      29361 non-null  object\n",
      " 7   permit                 29361 non-null  object\n",
      " 8   extraction_type_group  29361 non-null  object\n",
      " 9   management_group       29361 non-null  object\n",
      " 10  payment                29361 non-null  object\n",
      " 11  water_quality          29361 non-null  object\n",
      " 12  quality_group          29361 non-null  object\n",
      " 13  quantity               29361 non-null  object\n",
      " 14  source                 29361 non-null  object\n",
      " 15  source_class           29361 non-null  object\n",
      " 16  waterpoint_type        29361 non-null  object\n",
      " 17  target                 29361 non-null  int8  \n",
      " 18  age_of_well            29361 non-null  int64 \n",
      "dtypes: int64(2), int8(1), object(16)\n",
      "memory usage: 4.3+ MB\n"
     ]
    }
   ],
   "source": [
    "data = data.drop(to_drop, axis=1)\n",
    "data = data.dropna()\n",
    "data.info()\n"
   ]
  },
  {
   "cell_type": "markdown",
   "metadata": {},
   "source": [
    "# MODELING\n",
    "\n",
    "CREATE Y & X AXIS"
   ]
  },
  {
   "cell_type": "code",
   "execution_count": 38,
   "metadata": {},
   "outputs": [
    {
     "data": {
      "text/plain": [
       "0     0\n",
       "2     0\n",
       "3     1\n",
       "10    0\n",
       "11    0\n",
       "Name: target, dtype: int8"
      ]
     },
     "execution_count": 38,
     "metadata": {},
     "output_type": "execute_result"
    }
   ],
   "source": [
    "X = data.drop(['target'], axis=1)\n",
    "y = data['target']\n",
    "\n",
    "X.head()\n",
    "y.head()"
   ]
  },
  {
   "cell_type": "code",
   "execution_count": 39,
   "metadata": {},
   "outputs": [],
   "source": [
    "numerical_cols = list(X.select_dtypes(include=np.number).columns)\n",
    "categorical_cols = list(X.select_dtypes(exclude=np.number).columns)"
   ]
  },
  {
   "cell_type": "markdown",
   "metadata": {},
   "source": [
    "Models\n",
    "LinearSVC\n",
    "XGBoost\n",
    "Random Forest"
   ]
  },
  {
   "cell_type": "code",
   "execution_count": 40,
   "metadata": {},
   "outputs": [],
   "source": [
    "from sklearn.compose import ColumnTransformer\n",
    "from sklearn.pipeline import Pipeline\n",
    "from sklearn.impute import SimpleImputer\n",
    "from sklearn.preprocessing import OneHotEncoder, StandardScaler\n",
    "\n",
    "# Preprocessing for numerical data\n",
    "numerical_transformer = Pipeline(steps=[\n",
    "    ('scale', StandardScaler())\n",
    "])\n",
    "\n",
    "# Preprocessing for categorical data\n",
    "categorical_transformer = Pipeline(steps=[\n",
    "    ('imputer', SimpleImputer(strategy='most_frequent')),\n",
    "    ('onehot', OneHotEncoder(handle_unknown='ignore'))\n",
    "])\n",
    "\n",
    "# Bundle preprocessing for numerical and categorical data\n",
    "preprocessor = ColumnTransformer(\n",
    "    transformers=[\n",
    "        ('num', numerical_transformer, numerical_cols),\n",
    "        ('cat', categorical_transformer, categorical_cols)\n",
    "    ])"
   ]
  },
  {
   "cell_type": "code",
   "execution_count": 41,
   "metadata": {},
   "outputs": [],
   "source": [
    "from sklearn.metrics import mean_absolute_error\n",
    "from sklearn.model_selection import GridSearchCV\n",
    "from imblearn.over_sampling import SMOTE\n",
    "from imblearn.under_sampling import RandomUnderSampler\n",
    "from imblearn.pipeline import Pipeline\n",
    "from sklearn.decomposition import TruncatedSVD\n",
    "import xgboost as xgboost\n",
    "\n",
    "def fit_predict(model, X_train, X_test, y_train, y_test):\n",
    "    '''fit pipeline using given model, and return predictions'''\n",
    "    \n",
    "    param_grid = model['params']\n",
    "    model = model['model']\n",
    "        \n",
    "    \n",
    "    my_pipeline = Pipeline(steps=[('preprocessor', preprocessor),\n",
    "                                  ('model', model)\n",
    "                                 ])\n",
    "\n",
    "    search = GridSearchCV(estimator=my_pipeline,\n",
    "             param_grid=param_grid, n_jobs=-1, verbose=2, cv=10)\n",
    "    \n",
    "    search.fit(X_train, y_train)\n",
    "    \n",
    "    best_estimator = search.best_estimator_._final_estimator\n",
    "    \n",
    "    print(\"Best parameter (CV score=%0.3f):\" % search.best_score_)\n",
    "    print(search.best_params_)\n",
    "\n",
    "    # Preprocessing of validation data, get predictions\n",
    "    test_preds = search.predict(X_test)\n",
    "    train_preds = search.predict(X_train)\n",
    "    \n",
    "    return test_preds, train_preds, search"
   ]
  },
  {
   "cell_type": "code",
   "execution_count": 42,
   "metadata": {},
   "outputs": [],
   "source": [
    "from sklearn.metrics import accuracy_score\n",
    "from sklearn.metrics import classification_report\n",
    "from sklearn.metrics import confusion_matrix\n",
    "import itertools\n",
    "import matplotlib.pyplot as plt\n",
    "%matplotlib inline\n",
    "\n",
    "def plot_confusion_matrix(y_true, y_preds):\n",
    "    # Print confusion matrix\n",
    "    cnf_matrix = confusion_matrix(y_true, y_preds)\n",
    "    # Create the basic matrix\n",
    "    plt.imshow(cnf_matrix,  cmap=plt.cm.Blues)\n",
    "    # Add title and axis labels\n",
    "    plt.title('Confusion Matrix')\n",
    "    plt.ylabel('True label')\n",
    "    plt.xlabel('Predicted label')\n",
    "    # Add appropriate axis scales\n",
    "    class_names = set(y) # Get class labels to add to matrix\n",
    "    tick_marks = np.arange(len(class_names))\n",
    "    plt.xticks(tick_marks, class_names, rotation=0)\n",
    "    plt.yticks(tick_marks, class_names)\n",
    "    # Add labels to each cell\n",
    "    thresh = cnf_matrix.max() / 2. # Used for text coloring below\n",
    "    # Here we iterate through the confusion matrix and append labels to our visualization\n",
    "    for i, j in itertools.product(range(cnf_matrix.shape[0]), range(cnf_matrix.shape[1])):\n",
    "            plt.text(j, i, cnf_matrix[i, j],\n",
    "                     horizontalalignment='center',\n",
    "                     color='white' if cnf_matrix[i, j] > thresh else 'black')\n",
    "    # Add a legend\n",
    "    plt.colorbar();\n",
    "    plt.show();\n",
    "\n",
    "def metrics(model_name, y_train, y_test, y_train_pred, y_test_pred):\n",
    "    '''Print out the evaluation metrics for a given models predictions'''\n",
    "    print(f'Model: {model_name}', )\n",
    "    print('-'*60)\n",
    "    plot_confusion_matrix(y_test,y_test_pred)\n",
    "    print(f'test accuracy: {accuracy_score(y_test, y_test_pred)}')\n",
    "    print(f'train accuracy: {accuracy_score(y_train, y_train_pred)}')\n",
    "    print('-'*60)\n",
    "    print('\\ntest report:\\n' + classification_report(y_test, y_test_pred))\n",
    "    print('~'*60)\n",
    "    print('\\ntrain report:\\n' + classification_report(y_train, y_train_pred))    \n",
    "    print('-'*60)"
   ]
  },
  {
   "cell_type": "code",
   "execution_count": 43,
   "metadata": {},
   "outputs": [],
   "source": [
    "def roc(X_test, y_test, pred_y, model):\n",
    "    name=str(model.best_estimator_.named_steps[\"model\"])[:str(model.best_estimator_.named_steps[\"model\"]).index('(')]\n",
    "    y_pred_proba = model.predict_proba(X_test)[:,1]\n",
    "    fpr, tpr, threshold = roc_curve(y_test, y_pred_proba)\n",
    "    plt.plot(fpr, tpr, label = model)\n",
    "    plt.xlabel('False Positive Rate')\n",
    "    plt.ylabel('True Positive Rate')\n",
    "    plt.title(f'ROC curve for {name}')\n",
    "    plt.show()"
   ]
  },
  {
   "cell_type": "code",
   "execution_count": 44,
   "metadata": {},
   "outputs": [],
   "source": [
    "smallest_num = data['target'].value_counts().sort_values().values[0]\n",
    "target_0 = data[data['target'] == 0].sample(smallest_num)\n",
    "target_1 = data[data['target'] == 1].sample(smallest_num)\n",
    "sampled_df = pd.concat([target_0, target_1])"
   ]
  },
  {
   "cell_type": "code",
   "execution_count": 45,
   "metadata": {},
   "outputs": [
    {
     "data": {
      "text/plain": [
       "1    12664\n",
       "0    12664\n",
       "Name: target, dtype: int64"
      ]
     },
     "execution_count": 45,
     "metadata": {},
     "output_type": "execute_result"
    }
   ],
   "source": [
    "sampled_df['target'].value_counts()"
   ]
  },
  {
   "cell_type": "code",
   "execution_count": 46,
   "metadata": {},
   "outputs": [],
   "source": [
    "X_sampled_df = sampled_df.drop('target', axis=1)\n",
    "y_sampled_df = sampled_df['target']"
   ]
  },
  {
   "cell_type": "code",
   "execution_count": 47,
   "metadata": {},
   "outputs": [
    {
     "data": {
      "text/html": [
       "<div>\n",
       "<style scoped>\n",
       "    .dataframe tbody tr th:only-of-type {\n",
       "        vertical-align: middle;\n",
       "    }\n",
       "\n",
       "    .dataframe tbody tr th {\n",
       "        vertical-align: top;\n",
       "    }\n",
       "\n",
       "    .dataframe thead th {\n",
       "        text-align: right;\n",
       "    }\n",
       "</style>\n",
       "<table border=\"1\" class=\"dataframe\">\n",
       "  <thead>\n",
       "    <tr style=\"text-align: right;\">\n",
       "      <th></th>\n",
       "      <th>gps_height</th>\n",
       "      <th>installer</th>\n",
       "      <th>basin</th>\n",
       "      <th>region</th>\n",
       "      <th>ward</th>\n",
       "      <th>public_meeting</th>\n",
       "      <th>scheme_management</th>\n",
       "      <th>permit</th>\n",
       "      <th>extraction_type_group</th>\n",
       "      <th>management_group</th>\n",
       "      <th>payment</th>\n",
       "      <th>water_quality</th>\n",
       "      <th>quality_group</th>\n",
       "      <th>quantity</th>\n",
       "      <th>source</th>\n",
       "      <th>source_class</th>\n",
       "      <th>waterpoint_type</th>\n",
       "      <th>age_of_well</th>\n",
       "    </tr>\n",
       "  </thead>\n",
       "  <tbody>\n",
       "    <tr>\n",
       "      <th>1553</th>\n",
       "      <td>1522</td>\n",
       "      <td>DWE</td>\n",
       "      <td>Pangani</td>\n",
       "      <td>Arusha</td>\n",
       "      <td>Murieti</td>\n",
       "      <td>True</td>\n",
       "      <td>VWC</td>\n",
       "      <td>True</td>\n",
       "      <td>gravity</td>\n",
       "      <td>user-group</td>\n",
       "      <td>never pay</td>\n",
       "      <td>soft</td>\n",
       "      <td>good</td>\n",
       "      <td>insufficient</td>\n",
       "      <td>spring</td>\n",
       "      <td>groundwater</td>\n",
       "      <td>communal standpipe</td>\n",
       "      <td>22</td>\n",
       "    </tr>\n",
       "    <tr>\n",
       "      <th>32778</th>\n",
       "      <td>1012</td>\n",
       "      <td>WVC</td>\n",
       "      <td>Lake Nyasa</td>\n",
       "      <td>Ruvuma</td>\n",
       "      <td>Msindo</td>\n",
       "      <td>True</td>\n",
       "      <td>VWC</td>\n",
       "      <td>True</td>\n",
       "      <td>gravity</td>\n",
       "      <td>user-group</td>\n",
       "      <td>pay annually</td>\n",
       "      <td>soft</td>\n",
       "      <td>good</td>\n",
       "      <td>enough</td>\n",
       "      <td>river</td>\n",
       "      <td>surface</td>\n",
       "      <td>communal standpipe</td>\n",
       "      <td>12</td>\n",
       "    </tr>\n",
       "    <tr>\n",
       "      <th>38775</th>\n",
       "      <td>1538</td>\n",
       "      <td>Dmdd</td>\n",
       "      <td>Internal</td>\n",
       "      <td>Arusha</td>\n",
       "      <td>Qurus</td>\n",
       "      <td>True</td>\n",
       "      <td>VWC</td>\n",
       "      <td>True</td>\n",
       "      <td>gravity</td>\n",
       "      <td>user-group</td>\n",
       "      <td>pay per bucket</td>\n",
       "      <td>soft</td>\n",
       "      <td>good</td>\n",
       "      <td>enough</td>\n",
       "      <td>river</td>\n",
       "      <td>surface</td>\n",
       "      <td>communal standpipe</td>\n",
       "      <td>22</td>\n",
       "    </tr>\n",
       "    <tr>\n",
       "      <th>41178</th>\n",
       "      <td>1089</td>\n",
       "      <td>Ha</td>\n",
       "      <td>Wami / Ruvu</td>\n",
       "      <td>Morogoro</td>\n",
       "      <td>Lumuma</td>\n",
       "      <td>True</td>\n",
       "      <td>VWC</td>\n",
       "      <td>True</td>\n",
       "      <td>swn 80</td>\n",
       "      <td>user-group</td>\n",
       "      <td>pay when scheme fails</td>\n",
       "      <td>soft</td>\n",
       "      <td>good</td>\n",
       "      <td>insufficient</td>\n",
       "      <td>shallow well</td>\n",
       "      <td>groundwater</td>\n",
       "      <td>hand pump</td>\n",
       "      <td>14</td>\n",
       "    </tr>\n",
       "    <tr>\n",
       "      <th>18381</th>\n",
       "      <td>1364</td>\n",
       "      <td>WVT</td>\n",
       "      <td>Lake Victoria</td>\n",
       "      <td>Shinyanga</td>\n",
       "      <td>Mhunze</td>\n",
       "      <td>True</td>\n",
       "      <td>WUG</td>\n",
       "      <td>False</td>\n",
       "      <td>india mark ii</td>\n",
       "      <td>user-group</td>\n",
       "      <td>never pay</td>\n",
       "      <td>soft</td>\n",
       "      <td>good</td>\n",
       "      <td>insufficient</td>\n",
       "      <td>machine dbh</td>\n",
       "      <td>groundwater</td>\n",
       "      <td>hand pump</td>\n",
       "      <td>15</td>\n",
       "    </tr>\n",
       "  </tbody>\n",
       "</table>\n",
       "</div>"
      ],
      "text/plain": [
       "       gps_height installer          basin     region     ward public_meeting  \\\n",
       "1553         1522       DWE        Pangani     Arusha  Murieti           True   \n",
       "32778        1012       WVC     Lake Nyasa     Ruvuma   Msindo           True   \n",
       "38775        1538      Dmdd       Internal     Arusha    Qurus           True   \n",
       "41178        1089        Ha    Wami / Ruvu   Morogoro   Lumuma           True   \n",
       "18381        1364       WVT  Lake Victoria  Shinyanga   Mhunze           True   \n",
       "\n",
       "      scheme_management permit extraction_type_group management_group  \\\n",
       "1553                VWC   True               gravity       user-group   \n",
       "32778               VWC   True               gravity       user-group   \n",
       "38775               VWC   True               gravity       user-group   \n",
       "41178               VWC   True                swn 80       user-group   \n",
       "18381               WUG  False         india mark ii       user-group   \n",
       "\n",
       "                     payment water_quality quality_group      quantity  \\\n",
       "1553               never pay          soft          good  insufficient   \n",
       "32778           pay annually          soft          good        enough   \n",
       "38775         pay per bucket          soft          good        enough   \n",
       "41178  pay when scheme fails          soft          good  insufficient   \n",
       "18381              never pay          soft          good  insufficient   \n",
       "\n",
       "             source source_class     waterpoint_type  age_of_well  \n",
       "1553         spring  groundwater  communal standpipe           22  \n",
       "32778         river      surface  communal standpipe           12  \n",
       "38775         river      surface  communal standpipe           22  \n",
       "41178  shallow well  groundwater           hand pump           14  \n",
       "18381   machine dbh  groundwater           hand pump           15  "
      ]
     },
     "execution_count": 47,
     "metadata": {},
     "output_type": "execute_result"
    }
   ],
   "source": [
    "from sklearn.model_selection import train_test_split\n",
    "\n",
    "X_train, X_test, y_train, y_test = train_test_split(X_sampled_df, y_sampled_df, test_size=.3, random_state=42)\n",
    "\n",
    "X_sampled_df.head()"
   ]
  },
  {
   "cell_type": "code",
   "execution_count": 48,
   "metadata": {},
   "outputs": [
    {
     "data": {
      "text/plain": [
       "25328"
      ]
     },
     "execution_count": 48,
     "metadata": {},
     "output_type": "execute_result"
    }
   ],
   "source": [
    "X_sampled_df.shape[0]"
   ]
  },
  {
   "cell_type": "code",
   "execution_count": 49,
   "metadata": {},
   "outputs": [],
   "source": [
    "lsvc_param = {\n",
    "    'model__C': [1, 10], #the higher the C, the more penalty SVM was given when it misclassified\n",
    "    'model__max_iter': [10000], # maximum number of iterations to be run.\n",
    "    'model__dual':[False],  # dual=False when n_samples > n_features.\n",
    "    'model__penalty': ['l1','l2'],# Specifies the norm used in the penalization. The ‘l2’ penalty is the standard used in \n",
    "                                  # SVC. The ‘l1’ leads to coef_ vectors that are sparse.\n",
    "}"
   ]
  },
  {
   "cell_type": "code",
   "execution_count": 50,
   "metadata": {},
   "outputs": [
    {
     "name": "stdout",
     "output_type": "stream",
     "text": [
      "Fitting 10 folds for each of 4 candidates, totalling 40 fits\n"
     ]
    },
    {
     "name": "stderr",
     "output_type": "stream",
     "text": [
      "[Parallel(n_jobs=-1)]: Using backend LokyBackend with 8 concurrent workers.\n"
     ]
    },
    {
     "name": "stderr",
     "output_type": "stream",
     "text": [
      "[Parallel(n_jobs=-1)]: Done  25 tasks      | elapsed:  1.7min\n",
      "[Parallel(n_jobs=-1)]: Done  40 out of  40 | elapsed:  2.4min finished\n"
     ]
    },
    {
     "name": "stdout",
     "output_type": "stream",
     "text": [
      "Best parameter (CV score=0.785):\n",
      "{'model__C': 1, 'model__dual': False, 'model__max_iter': 10000, 'model__penalty': 'l1'}\n"
     ]
    }
   ],
   "source": [
    "from sklearn.svm import LinearSVC\n",
    "\n",
    "lsvc = { 'model': LinearSVC(random_state=42), 'params': lsvc_param }\n",
    "\n",
    "lsvc_test_preds, lsvc_train_preds,lsvc_pipeline = fit_predict(lsvc, X_train, X_test, y_train, y_test)"
   ]
  },
  {
   "cell_type": "code",
   "execution_count": 51,
   "metadata": {},
   "outputs": [
    {
     "name": "stdout",
     "output_type": "stream",
     "text": [
      "Model: LinearSVC\n",
      "------------------------------------------------------------\n"
     ]
    },
    {
     "data": {
      "image/png": "[encoded data removed]",
      "text/plain": [
       "<Figure size 432x288 with 2 Axes>"
      ]
     },
     "metadata": {
      "needs_background": "light"
     },
     "output_type": "display_data"
    },
    {
     "name": "stdout",
     "output_type": "stream",
     "text": [
      "test accuracy: 0.7885248058955125\n",
      "train accuracy: 0.8325906706526031\n",
      "------------------------------------------------------------\n",
      "\n",
      "test report:\n",
      "              precision    recall  f1-score   support\n",
      "\n",
      "           0       0.78      0.82      0.80      3834\n",
      "           1       0.80      0.76      0.78      3765\n",
      "\n",
      "    accuracy                           0.79      7599\n",
      "   macro avg       0.79      0.79      0.79      7599\n",
      "weighted avg       0.79      0.79      0.79      7599\n",
      "\n",
      "~~~~~~~~~~~~~~~~~~~~~~~~~~~~~~~~~~~~~~~~~~~~~~~~~~~~~~~~~~~~\n",
      "\n",
      "train report:\n",
      "              precision    recall  f1-score   support\n",
      "\n",
      "           0       0.82      0.86      0.84      8830\n",
      "           1       0.85      0.81      0.83      8899\n",
      "\n",
      "    accuracy                           0.83     17729\n",
      "   macro avg       0.83      0.83      0.83     17729\n",
      "weighted avg       0.83      0.83      0.83     17729\n",
      "\n",
      "------------------------------------------------------------\n"
     ]
    }
   ],
   "source": [
    "metrics('LinearSVC', y_train, y_test, lsvc_train_preds, lsvc_test_preds)"
   ]
  },
  {
   "cell_type": "code",
   "execution_count": 52,
   "metadata": {},
   "outputs": [],
   "source": [
    "# Importing the libraries\n",
    "import pandas as pd\n",
    "import numpy as np\n",
    "\n",
    "from scipy import stats\n",
    "import math\n",
    "\n",
    "#Visual/Graphs\n",
    "import matplotlib.pyplot as plt\n",
    "%matplotlib inline\n",
    "import seaborn as sns\n",
    "plt.style.use('seaborn')\n",
    "\n",
    "#Sklearn\n",
    "from sklearn.ensemble import RandomForestClassifier\n",
    "from sklearn.linear_model import LogisticRegression\n",
    "from sklearn.neighbors import KNeighborsClassifier as KNN\n",
    "from sklearn.preprocessing import LabelEncoder\n",
    "from sklearn.preprocessing import StandardScaler\n",
    "from sklearn.model_selection import train_test_split\n",
    "from sklearn.model_selection import cross_val_score\n",
    "from sklearn.model_selection import StratifiedShuffleSplit\n",
    "from sklearn.decomposition import PCA\n",
    "from sklearn.linear_model import LogisticRegression\n",
    "from sklearn.metrics import accuracy_score\n",
    "from sklearn import metrics\n",
    "from sklearn.metrics import roc_curve, auc\n",
    "from sklearn.model_selection import GridSearchCV\n",
    "from sklearn.model_selection import RandomizedSearchCV\n",
    "from sklearn.svm import SVC\n",
    "from sklearn.tree import DecisionTreeClassifier\n",
    "from sklearn.metrics import classification_report, accuracy_score, roc_auc_score\n",
    "\n",
    "from IPython.core.interactiveshell import InteractiveShell\n",
    "InteractiveShell.ast_node_interactivity = \"all\"\n",
    "\n",
    "#Import warnings\n",
    "import warnings\n",
    "warnings.filterwarnings(\"ignore\")\n",
    "\n",
    "import pandas.util.testing as tm"
   ]
  },
  {
   "cell_type": "code",
   "execution_count": 53,
   "metadata": {},
   "outputs": [],
   "source": [
    "def top_feat(model_pipe):\n",
    "    '''This function is used to find the best features of our models\n",
    "    \n",
    "    Args:\n",
    "        model_pipe (GridSearchCV): model_pipe is a pipeline\n",
    "    \n",
    "    Returns:\n",
    "        the top features of the model\n",
    "    '''\n",
    "    \n",
    "    onehot_columns = list(model_pipe.best_estimator_.named_steps['preprocessor'].named_transformers_['cat'].named_steps['onehot'].get_feature_names(input_features=categorical_cols))\n",
    "    numeric_features_list = list(numerical_cols)\n",
    "    numeric_features_list.extend(onehot_columns)\n",
    "    return eli5.explain_weights(model_pipe.best_estimator_.named_steps['model'], top=20, feature_names=numeric_features_list)"
   ]
  },
  {
   "cell_type": "code",
   "execution_count": 54,
   "metadata": {},
   "outputs": [],
   "source": [
    "xgb_param = {\n",
    "    'model__eta': [.3, .2, .1, .05, .01, .005], #Learning rate\n",
    "    'model__max_depth': [10], #The maximum depth of a tree.Used to control over-fitting\n",
    "    'model__min_child_weight': [6], # minimum sum of weights of all observations required in a child\n",
    "    'model__subsample': [0.8]      # Subsample ratio of the training instances.\n",
    "}"
   ]
  },
  {
   "cell_type": "code",
   "execution_count": 55,
   "metadata": {},
   "outputs": [
    {
     "name": "stdout",
     "output_type": "stream",
     "text": [
      "Fitting 10 folds for each of 6 candidates, totalling 60 fits\n"
     ]
    },
    {
     "name": "stderr",
     "output_type": "stream",
     "text": [
      "[Parallel(n_jobs=-1)]: Using backend LokyBackend with 8 concurrent workers.\n"
     ]
    },
    {
     "name": "stderr",
     "output_type": "stream",
     "text": [
      "[Parallel(n_jobs=-1)]: Done  25 tasks      | elapsed:   35.2s\n",
      "[Parallel(n_jobs=-1)]: Done  60 out of  60 | elapsed:  1.2min finished\n"
     ]
    },
    {
     "name": "stdout",
     "output_type": "stream",
     "text": [
      "Best parameter (CV score=0.798):\n",
      "{'model__eta': 0.2, 'model__max_depth': 10, 'model__min_child_weight': 6, 'model__subsample': 0.8}\n"
     ]
    }
   ],
   "source": [
    "from xgboost import XGBClassifier\n",
    "\n",
    "xgb = { 'model': XGBClassifier(random_state=42), 'params': xgb_param }\n",
    "\n",
    "xgb_test_preds, xgb_train_preds, xgb_pipeline = fit_predict(xgb, X_train, X_test, y_train, y_test)"
   ]
  },
  {
   "cell_type": "code",
   "execution_count": 56,
   "metadata": {},
   "outputs": [
    {
     "name": "stdout",
     "output_type": "stream",
     "text": [
      "XGBoost Accuracy: 0.804842742466114\n",
      "XGBoost Precision: 0.8241477272727272\n"
     ]
    }
   ],
   "source": [
    "from sklearn.metrics import accuracy_score, precision_score, recall_score, f1_score\n",
    "\n",
    "XGBoost_accuracy = accuracy_score(y_test, xgb_test_preds)\n",
    "XGBoost_precision = precision_score(y_test, xgb_test_preds)\n",
    "# ... calculate other metrics\n",
    "\n",
    "print(f\"XGBoost Accuracy: {XGBoost_accuracy}\")\n",
    "print(f\"XGBoost Precision: {XGBoost_precision}\")\n",
    "# ... print other metric values\n"
   ]
  },
  {
   "cell_type": "code",
   "execution_count": 58,
   "metadata": {},
   "outputs": [
    {
     "name": "stdout",
     "output_type": "stream",
     "text": [
      "XGBoost Accuracy: 0.804842742466114\n",
      "XGBoost Precision: 0.8241477272727272\n",
      "XGBoost Recall: 0.7705179282868526\n",
      "XGBoost F1-score: 0.7964310226492793\n"
     ]
    }
   ],
   "source": [
    "from sklearn.metrics import accuracy_score, precision_score, recall_score, f1_score\n",
    "\n",
    "# Calculate and print various metrics using the same data you provided to `metrics`\n",
    "XGBoost_accuracy = accuracy_score(y_test, xgb_test_preds)\n",
    "XGBoost_precision = precision_score(y_test, xgb_test_preds)\n",
    "XGBoost_recall = recall_score(y_test, xgb_test_preds)\n",
    "XGBoost_f1 = f1_score(y_test, xgb_test_preds)\n",
    "\n",
    "print(f\"XGBoost Accuracy: {XGBoost_accuracy}\")\n",
    "print(f\"XGBoost Precision: {XGBoost_precision}\")\n",
    "print(f\"XGBoost Recall: {XGBoost_recall}\")\n",
    "print(f\"XGBoost F1-score: {XGBoost_f1}\")\n"
   ]
  },
  {
   "cell_type": "code",
   "execution_count": 60,
   "metadata": {},
   "outputs": [
    {
     "data": {
      "image/png": "[encoded data removed]",
      "text/plain": [
       "<Figure size 576x396 with 1 Axes>"
      ]
     },
     "metadata": {},
     "output_type": "display_data"
    }
   ],
   "source": [
    "roc(X_test,y_test,xgb_test_preds,xgb_pipeline)"
   ]
  },
  {
   "cell_type": "markdown",
   "metadata": {},
   "source": [
    "errors im getting r for visualizing (nimelemewa)"
   ]
  },
  {
   "cell_type": "code",
   "execution_count": 64,
   "metadata": {},
   "outputs": [
    {
     "ename": "NameError",
     "evalue": "name 'eli5' is not defined",
     "output_type": "error",
     "traceback": [
      "\u001b[1;31m---------------------------------------------------------------------------\u001b[0m",
      "\u001b[1;31mNameError\u001b[0m                                 Traceback (most recent call last)",
      "\u001b[1;32m<ipython-input-64-78164c7bf638>\u001b[0m in \u001b[0;36m<module>\u001b[1;34m\u001b[0m\n\u001b[1;32m----> 1\u001b[1;33m \u001b[0mtop_feat\u001b[0m\u001b[1;33m(\u001b[0m\u001b[0mxgb_pipeline\u001b[0m\u001b[1;33m)\u001b[0m\u001b[1;33m\u001b[0m\u001b[1;33m\u001b[0m\u001b[0m\n\u001b[0m",
      "\u001b[1;32m<ipython-input-53-b5732d1c5858>\u001b[0m in \u001b[0;36mtop_feat\u001b[1;34m(model_pipe)\u001b[0m\n\u001b[0;32m     12\u001b[0m     \u001b[0mnumeric_features_list\u001b[0m \u001b[1;33m=\u001b[0m \u001b[0mlist\u001b[0m\u001b[1;33m(\u001b[0m\u001b[0mnumerical_cols\u001b[0m\u001b[1;33m)\u001b[0m\u001b[1;33m\u001b[0m\u001b[1;33m\u001b[0m\u001b[0m\n\u001b[0;32m     13\u001b[0m     \u001b[0mnumeric_features_list\u001b[0m\u001b[1;33m.\u001b[0m\u001b[0mextend\u001b[0m\u001b[1;33m(\u001b[0m\u001b[0monehot_columns\u001b[0m\u001b[1;33m)\u001b[0m\u001b[1;33m\u001b[0m\u001b[1;33m\u001b[0m\u001b[0m\n\u001b[1;32m---> 14\u001b[1;33m     \u001b[1;32mreturn\u001b[0m \u001b[0meli5\u001b[0m\u001b[1;33m.\u001b[0m\u001b[0mexplain_weights\u001b[0m\u001b[1;33m(\u001b[0m\u001b[0mmodel_pipe\u001b[0m\u001b[1;33m.\u001b[0m\u001b[0mbest_estimator_\u001b[0m\u001b[1;33m.\u001b[0m\u001b[0mnamed_steps\u001b[0m\u001b[1;33m[\u001b[0m\u001b[1;34m'model'\u001b[0m\u001b[1;33m]\u001b[0m\u001b[1;33m,\u001b[0m \u001b[0mtop\u001b[0m\u001b[1;33m=\u001b[0m\u001b[1;36m20\u001b[0m\u001b[1;33m,\u001b[0m \u001b[0mfeature_names\u001b[0m\u001b[1;33m=\u001b[0m\u001b[0mnumeric_features_list\u001b[0m\u001b[1;33m)\u001b[0m\u001b[1;33m\u001b[0m\u001b[1;33m\u001b[0m\u001b[0m\n\u001b[0m",
      "\u001b[1;31mNameError\u001b[0m: name 'eli5' is not defined"
     ]
    }
   ],
   "source": [
    "top_feat(xgb_pipeline)"
   ]
  },
  {
   "cell_type": "code",
   "execution_count": 65,
   "metadata": {},
   "outputs": [
    {
     "name": "stdout",
     "output_type": "stream",
     "text": [
      "Fitting 10 folds for each of 4 candidates, totalling 40 fits\n"
     ]
    },
    {
     "name": "stderr",
     "output_type": "stream",
     "text": [
      "[Parallel(n_jobs=-1)]: Using backend LokyBackend with 8 concurrent workers.\n",
      "[Parallel(n_jobs=-1)]: Done  25 tasks      | elapsed:   54.2s\n",
      "[Parallel(n_jobs=-1)]: Done  40 out of  40 | elapsed:  1.4min finished\n"
     ]
    },
    {
     "name": "stdout",
     "output_type": "stream",
     "text": [
      "Best parameter (CV score=0.746):\n",
      "{'model__criterion': 'gini', 'model__max_depth': 10, 'model__min_samples_leaf': 5, 'model__min_samples_split': 10, 'model__n_estimators': 500}\n"
     ]
    }
   ],
   "source": [
    "from sklearn.tree import DecisionTreeClassifier\n",
    "from sklearn.ensemble import BaggingClassifier, RandomForestClassifier\n",
    "\n",
    "forest_params = {'model__n_estimators' : [500,1000],  # number of decision trees to be created\n",
    "                 'model__criterion' : ['gini','entropy'], # function that is to be used for splitting\n",
    "                 'model__max_depth': [10],          # maximum depth of the trees\n",
    "                 'model__min_samples_split' : [10], # minimum number of samples required in a leaf node before a split is attempted\n",
    "                 'model__min_samples_leaf' : [5]} # minimum number of samples required to be at a leaf node. \n",
    "                                            # Smaller leaf size makes the model more prone to capturing noise in train data.\n",
    "rfc = { 'model': RandomForestClassifier(random_state=42), 'params': forest_params }\n",
    "\n",
    "rfc_test_preds, rfc_train_preds,rfc_pipeline = fit_predict(rfc, X_train, X_test, y_train, y_test)"
   ]
  },
  {
   "cell_type": "code",
   "execution_count": 67,
   "metadata": {},
   "outputs": [
    {
     "name": "stdout",
     "output_type": "stream",
     "text": [
      "Fitting 10 folds for each of 4 candidates, totalling 40 fits\n"
     ]
    },
    {
     "name": "stderr",
     "output_type": "stream",
     "text": [
      "[Parallel(n_jobs=-1)]: Using backend LokyBackend with 8 concurrent workers.\n",
      "[Parallel(n_jobs=-1)]: Done  25 tasks      | elapsed:   52.2s\n",
      "[Parallel(n_jobs=-1)]: Done  40 out of  40 | elapsed:  1.4min finished\n"
     ]
    },
    {
     "name": "stdout",
     "output_type": "stream",
     "text": [
      "Best parameter (CV score=0.746):\n",
      "{'model__criterion': 'gini', 'model__max_depth': 10, 'model__min_samples_leaf': 5, 'model__min_samples_split': 10, 'model__n_estimators': 500}\n",
      "Random Forest Accuracy: 0.7482563495196737\n",
      "Random Forest Precision: 0.7563676633444075\n"
     ]
    }
   ],
   "source": [
    "from sklearn.metrics import accuracy_score, precision_score, recall_score, f1_score\n",
    "\n",
    "rfc_test_preds, rfc_train_preds, rfc_pipeline = fit_predict(rfc, X_train, X_test, y_train, y_test)\n",
    "\n",
    "random_forest_accuracy = accuracy_score(y_test, rfc_test_preds)\n",
    "random_forest_precision = precision_score(y_test, rfc_test_preds)\n",
    "# ... calculate other metrics\n",
    "\n",
    "print(f\"Random Forest Accuracy: {random_forest_accuracy}\")\n",
    "print(f\"Random Forest Precision: {random_forest_precision}\")\n",
    "# ... print other metric values\n"
   ]
  },
  {
   "cell_type": "code",
   "execution_count": 68,
   "metadata": {},
   "outputs": [
    {
     "data": {
      "image/png": "[encoded data removed]",
      "text/plain": [
       "<Figure size 576x396 with 1 Axes>"
      ]
     },
     "metadata": {},
     "output_type": "display_data"
    }
   ],
   "source": [
    "roc(X_test,y_test,rfc_test_preds,rfc_pipeline)"
   ]
  },
  {
   "cell_type": "markdown",
   "metadata": {},
   "source": [
    "finaly i wanted to print all the models with there xtest and xtrain(pia hi nimelemewa)"
   ]
  },
  {
   "cell_type": "code",
   "execution_count": null,
   "metadata": {},
   "outputs": [],
   "source": []
  }
 ],
 "metadata": {
  "kernelspec": {
   "display_name": "Python (learn-env)",
   "language": "python",
   "name": "learn-env"
  },
  "language_info": {
   "codemirror_mode": {
    "name": "ipython",
    "version": 3
   },
   "file_extension": ".py",
   "mimetype": "text/x-python",
   "name": "python",
   "nbconvert_exporter": "python",
   "pygments_lexer": "ipython3",
   "version": "3.8.5"
  }
 },
 "nbformat": 4,
 "nbformat_minor": 4
}
